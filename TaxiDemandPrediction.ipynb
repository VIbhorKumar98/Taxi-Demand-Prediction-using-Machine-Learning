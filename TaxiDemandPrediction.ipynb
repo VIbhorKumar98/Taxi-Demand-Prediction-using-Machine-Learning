{
  "nbformat": 4,
  "nbformat_minor": 0,
  "metadata": {
    "accelerator": "GPU",
    "colab": {
      "name": "TaxiDemandPrediction.ipynb",
      "provenance": [],
      "collapsed_sections": []
    },
    "kernelspec": {
      "display_name": "Python 3",
      "language": "python",
      "name": "python3"
    },
    "language_info": {
      "codemirror_mode": {
        "name": "ipython",
        "version": 3
      },
      "file_extension": ".py",
      "mimetype": "text/x-python",
      "name": "python",
      "nbconvert_exporter": "python",
      "pygments_lexer": "ipython3",
      "version": "3.7.6"
    }
  },
  "cells": [
    {
      "cell_type": "code",
      "metadata": {
        "colab": {
          "base_uri": "https://localhost:8080/"
        },
        "id": "WcV6I0Omc7p7",
        "outputId": "e5001f92-c871-4d0a-dcd0-5add9eec4285"
      },
      "source": [
        "from google.colab import drive\n",
        "drive.mount('/content/gdrive')"
      ],
      "execution_count": null,
      "outputs": [
        {
          "output_type": "stream",
          "text": [
            "Mounted at /content/gdrive\n"
          ],
          "name": "stdout"
        }
      ]
    },
    {
      "cell_type": "code",
      "metadata": {
        "id": "iLFR-yh5OKEi"
      },
      "source": [
        ""
      ],
      "execution_count": null,
      "outputs": []
    },
    {
      "cell_type": "code",
      "metadata": {
        "id": "6YQsu6SziwYA"
      },
      "source": [
        "import pandas as pd\n",
        "import numpy as np\n",
        "import seaborn as sns\n",
        "import datetime as datetime\n",
        "import time\n",
        "TrainingPath1 = \"/content/gdrive/MyDrive/Project Dataset/yellow_tripdata_2020-01.csv\"\n",
        "TrainingPath2 = \"/content/gdrive/MyDrive/Project Dataset/yellow_tripdata_2020-02.csv\"\n",
        "TrainingPath3 = \"/content/gdrive/MyDrive/Project Dataset/yellow_tripdata_2020-03.csv\"\n",
        "LookUpPath = \"/content/gdrive/MyDrive/Project Dataset/taxi_zone_lookup.csv\""
      ],
      "execution_count": null,
      "outputs": []
    },
    {
      "cell_type": "code",
      "metadata": {
        "colab": {
          "base_uri": "https://localhost:8080/",
          "height": 473
        },
        "id": "HRlWwoXSjAOS",
        "outputId": "91f0bbf8-3bdf-46ea-8c7d-d176b3e33f3d"
      },
      "source": [
        "df1 = pd.read_csv(TrainingPath3)\n",
        "df1"
      ],
      "execution_count": null,
      "outputs": [
        {
          "output_type": "stream",
          "text": [
            "/usr/local/lib/python3.6/dist-packages/IPython/core/interactiveshell.py:2718: DtypeWarning: Columns (6) have mixed types.Specify dtype option on import or set low_memory=False.\n",
            "  interactivity=interactivity, compiler=compiler, result=result)\n"
          ],
          "name": "stderr"
        },
        {
          "output_type": "execute_result",
          "data": {
            "text/html": [
              "<div>\n",
              "<style scoped>\n",
              "    .dataframe tbody tr th:only-of-type {\n",
              "        vertical-align: middle;\n",
              "    }\n",
              "\n",
              "    .dataframe tbody tr th {\n",
              "        vertical-align: top;\n",
              "    }\n",
              "\n",
              "    .dataframe thead th {\n",
              "        text-align: right;\n",
              "    }\n",
              "</style>\n",
              "<table border=\"1\" class=\"dataframe\">\n",
              "  <thead>\n",
              "    <tr style=\"text-align: right;\">\n",
              "      <th></th>\n",
              "      <th>VendorID</th>\n",
              "      <th>tpep_pickup_datetime</th>\n",
              "      <th>tpep_dropoff_datetime</th>\n",
              "      <th>passenger_count</th>\n",
              "      <th>trip_distance</th>\n",
              "      <th>RatecodeID</th>\n",
              "      <th>store_and_fwd_flag</th>\n",
              "      <th>PULocationID</th>\n",
              "      <th>DOLocationID</th>\n",
              "      <th>payment_type</th>\n",
              "      <th>fare_amount</th>\n",
              "      <th>extra</th>\n",
              "      <th>mta_tax</th>\n",
              "      <th>tip_amount</th>\n",
              "      <th>tolls_amount</th>\n",
              "      <th>improvement_surcharge</th>\n",
              "      <th>total_amount</th>\n",
              "      <th>congestion_surcharge</th>\n",
              "    </tr>\n",
              "  </thead>\n",
              "  <tbody>\n",
              "    <tr>\n",
              "      <th>0</th>\n",
              "      <td>1.0</td>\n",
              "      <td>2020-03-01 00:31:13</td>\n",
              "      <td>2020-03-01 01:01:42</td>\n",
              "      <td>1.0</td>\n",
              "      <td>4.70</td>\n",
              "      <td>1.0</td>\n",
              "      <td>N</td>\n",
              "      <td>88</td>\n",
              "      <td>255</td>\n",
              "      <td>1.0</td>\n",
              "      <td>22.00</td>\n",
              "      <td>3.0</td>\n",
              "      <td>0.5</td>\n",
              "      <td>2.00</td>\n",
              "      <td>0.0</td>\n",
              "      <td>0.3</td>\n",
              "      <td>27.80</td>\n",
              "      <td>2.5</td>\n",
              "    </tr>\n",
              "    <tr>\n",
              "      <th>1</th>\n",
              "      <td>2.0</td>\n",
              "      <td>2020-03-01 00:08:22</td>\n",
              "      <td>2020-03-01 00:08:49</td>\n",
              "      <td>1.0</td>\n",
              "      <td>0.00</td>\n",
              "      <td>1.0</td>\n",
              "      <td>N</td>\n",
              "      <td>193</td>\n",
              "      <td>193</td>\n",
              "      <td>2.0</td>\n",
              "      <td>2.50</td>\n",
              "      <td>0.5</td>\n",
              "      <td>0.5</td>\n",
              "      <td>0.00</td>\n",
              "      <td>0.0</td>\n",
              "      <td>0.3</td>\n",
              "      <td>3.80</td>\n",
              "      <td>0.0</td>\n",
              "    </tr>\n",
              "    <tr>\n",
              "      <th>2</th>\n",
              "      <td>1.0</td>\n",
              "      <td>2020-03-01 00:52:18</td>\n",
              "      <td>2020-03-01 00:59:16</td>\n",
              "      <td>1.0</td>\n",
              "      <td>1.10</td>\n",
              "      <td>1.0</td>\n",
              "      <td>N</td>\n",
              "      <td>246</td>\n",
              "      <td>90</td>\n",
              "      <td>1.0</td>\n",
              "      <td>6.00</td>\n",
              "      <td>3.0</td>\n",
              "      <td>0.5</td>\n",
              "      <td>1.95</td>\n",
              "      <td>0.0</td>\n",
              "      <td>0.3</td>\n",
              "      <td>11.75</td>\n",
              "      <td>2.5</td>\n",
              "    </tr>\n",
              "    <tr>\n",
              "      <th>3</th>\n",
              "      <td>2.0</td>\n",
              "      <td>2020-03-01 00:47:53</td>\n",
              "      <td>2020-03-01 00:50:57</td>\n",
              "      <td>2.0</td>\n",
              "      <td>0.87</td>\n",
              "      <td>1.0</td>\n",
              "      <td>N</td>\n",
              "      <td>151</td>\n",
              "      <td>238</td>\n",
              "      <td>1.0</td>\n",
              "      <td>5.00</td>\n",
              "      <td>0.5</td>\n",
              "      <td>0.5</td>\n",
              "      <td>1.76</td>\n",
              "      <td>0.0</td>\n",
              "      <td>0.3</td>\n",
              "      <td>10.56</td>\n",
              "      <td>2.5</td>\n",
              "    </tr>\n",
              "    <tr>\n",
              "      <th>4</th>\n",
              "      <td>1.0</td>\n",
              "      <td>2020-03-01 00:43:19</td>\n",
              "      <td>2020-03-01 00:58:27</td>\n",
              "      <td>0.0</td>\n",
              "      <td>4.40</td>\n",
              "      <td>1.0</td>\n",
              "      <td>N</td>\n",
              "      <td>79</td>\n",
              "      <td>261</td>\n",
              "      <td>1.0</td>\n",
              "      <td>16.50</td>\n",
              "      <td>3.0</td>\n",
              "      <td>0.5</td>\n",
              "      <td>4.05</td>\n",
              "      <td>0.0</td>\n",
              "      <td>0.3</td>\n",
              "      <td>24.35</td>\n",
              "      <td>2.5</td>\n",
              "    </tr>\n",
              "    <tr>\n",
              "      <th>...</th>\n",
              "      <td>...</td>\n",
              "      <td>...</td>\n",
              "      <td>...</td>\n",
              "      <td>...</td>\n",
              "      <td>...</td>\n",
              "      <td>...</td>\n",
              "      <td>...</td>\n",
              "      <td>...</td>\n",
              "      <td>...</td>\n",
              "      <td>...</td>\n",
              "      <td>...</td>\n",
              "      <td>...</td>\n",
              "      <td>...</td>\n",
              "      <td>...</td>\n",
              "      <td>...</td>\n",
              "      <td>...</td>\n",
              "      <td>...</td>\n",
              "      <td>...</td>\n",
              "    </tr>\n",
              "    <tr>\n",
              "      <th>3007287</th>\n",
              "      <td>NaN</td>\n",
              "      <td>2020-03-31 23:21:00</td>\n",
              "      <td>2020-03-31 23:33:00</td>\n",
              "      <td>NaN</td>\n",
              "      <td>5.43</td>\n",
              "      <td>NaN</td>\n",
              "      <td>NaN</td>\n",
              "      <td>137</td>\n",
              "      <td>87</td>\n",
              "      <td>NaN</td>\n",
              "      <td>30.47</td>\n",
              "      <td>0.0</td>\n",
              "      <td>0.5</td>\n",
              "      <td>0.00</td>\n",
              "      <td>0.0</td>\n",
              "      <td>0.3</td>\n",
              "      <td>33.77</td>\n",
              "      <td>2.5</td>\n",
              "    </tr>\n",
              "    <tr>\n",
              "      <th>3007288</th>\n",
              "      <td>NaN</td>\n",
              "      <td>2020-03-31 23:57:00</td>\n",
              "      <td>2020-04-01 00:26:00</td>\n",
              "      <td>NaN</td>\n",
              "      <td>13.21</td>\n",
              "      <td>NaN</td>\n",
              "      <td>NaN</td>\n",
              "      <td>137</td>\n",
              "      <td>71</td>\n",
              "      <td>NaN</td>\n",
              "      <td>37.97</td>\n",
              "      <td>0.0</td>\n",
              "      <td>0.5</td>\n",
              "      <td>0.00</td>\n",
              "      <td>0.0</td>\n",
              "      <td>0.3</td>\n",
              "      <td>41.27</td>\n",
              "      <td>2.5</td>\n",
              "    </tr>\n",
              "    <tr>\n",
              "      <th>3007289</th>\n",
              "      <td>NaN</td>\n",
              "      <td>2020-03-31 23:22:01</td>\n",
              "      <td>2020-03-31 23:43:52</td>\n",
              "      <td>NaN</td>\n",
              "      <td>12.14</td>\n",
              "      <td>NaN</td>\n",
              "      <td>NaN</td>\n",
              "      <td>137</td>\n",
              "      <td>32</td>\n",
              "      <td>NaN</td>\n",
              "      <td>37.10</td>\n",
              "      <td>0.0</td>\n",
              "      <td>0.0</td>\n",
              "      <td>0.00</td>\n",
              "      <td>0.0</td>\n",
              "      <td>0.3</td>\n",
              "      <td>39.90</td>\n",
              "      <td>2.5</td>\n",
              "    </tr>\n",
              "    <tr>\n",
              "      <th>3007290</th>\n",
              "      <td>NaN</td>\n",
              "      <td>2020-03-31 23:18:53</td>\n",
              "      <td>2020-03-31 23:32:21</td>\n",
              "      <td>NaN</td>\n",
              "      <td>7.01</td>\n",
              "      <td>NaN</td>\n",
              "      <td>NaN</td>\n",
              "      <td>137</td>\n",
              "      <td>159</td>\n",
              "      <td>NaN</td>\n",
              "      <td>20.07</td>\n",
              "      <td>0.0</td>\n",
              "      <td>0.0</td>\n",
              "      <td>0.00</td>\n",
              "      <td>0.0</td>\n",
              "      <td>0.3</td>\n",
              "      <td>22.87</td>\n",
              "      <td>2.5</td>\n",
              "    </tr>\n",
              "    <tr>\n",
              "      <th>3007291</th>\n",
              "      <td>NaN</td>\n",
              "      <td>2020-03-31 23:11:00</td>\n",
              "      <td>2020-03-31 23:30:00</td>\n",
              "      <td>NaN</td>\n",
              "      <td>6.31</td>\n",
              "      <td>NaN</td>\n",
              "      <td>NaN</td>\n",
              "      <td>185</td>\n",
              "      <td>69</td>\n",
              "      <td>NaN</td>\n",
              "      <td>23.40</td>\n",
              "      <td>0.0</td>\n",
              "      <td>0.5</td>\n",
              "      <td>0.00</td>\n",
              "      <td>0.0</td>\n",
              "      <td>0.3</td>\n",
              "      <td>24.20</td>\n",
              "      <td>0.0</td>\n",
              "    </tr>\n",
              "  </tbody>\n",
              "</table>\n",
              "<p>3007292 rows × 18 columns</p>\n",
              "</div>"
            ],
            "text/plain": [
              "         VendorID tpep_pickup_datetime  ... total_amount  congestion_surcharge\n",
              "0             1.0  2020-03-01 00:31:13  ...        27.80                   2.5\n",
              "1             2.0  2020-03-01 00:08:22  ...         3.80                   0.0\n",
              "2             1.0  2020-03-01 00:52:18  ...        11.75                   2.5\n",
              "3             2.0  2020-03-01 00:47:53  ...        10.56                   2.5\n",
              "4             1.0  2020-03-01 00:43:19  ...        24.35                   2.5\n",
              "...           ...                  ...  ...          ...                   ...\n",
              "3007287       NaN  2020-03-31 23:21:00  ...        33.77                   2.5\n",
              "3007288       NaN  2020-03-31 23:57:00  ...        41.27                   2.5\n",
              "3007289       NaN  2020-03-31 23:22:01  ...        39.90                   2.5\n",
              "3007290       NaN  2020-03-31 23:18:53  ...        22.87                   2.5\n",
              "3007291       NaN  2020-03-31 23:11:00  ...        24.20                   0.0\n",
              "\n",
              "[3007292 rows x 18 columns]"
            ]
          },
          "metadata": {
            "tags": []
          },
          "execution_count": 3
        }
      ]
    },
    {
      "cell_type": "code",
      "metadata": {
        "id": "OywPlp2_l5Gl"
      },
      "source": [
        "#df2 = pd.read_csv(TrainingPath2)\n",
        "#df2.head()"
      ],
      "execution_count": null,
      "outputs": []
    },
    {
      "cell_type": "code",
      "metadata": {
        "id": "4l_p1woWmBFQ"
      },
      "source": [
        "#df3 = pd.read_csv(TrainingPath3)\n",
        "#df3.head()"
      ],
      "execution_count": null,
      "outputs": []
    },
    {
      "cell_type": "code",
      "metadata": {
        "colab": {
          "base_uri": "https://localhost:8080/"
        },
        "id": "HUqAc_LymU8H",
        "outputId": "7904c20f-f374-45ce-d63b-b9d8a8a83642"
      },
      "source": [
        "#Using the dataset of months jan, feb and march of 2020\n",
        "Main_df = pd.concat([df1])\n",
        "Main_df.shape"
      ],
      "execution_count": null,
      "outputs": [
        {
          "output_type": "execute_result",
          "data": {
            "text/plain": [
              "(3007292, 18)"
            ]
          },
          "metadata": {
            "tags": []
          },
          "execution_count": 4
        }
      ]
    },
    {
      "cell_type": "code",
      "metadata": {
        "colab": {
          "background_save": true,
          "base_uri": "https://localhost:8080/"
        },
        "id": "SouXPirzCYkP",
        "outputId": "17f83415-01fa-4535-903b-d63054143315"
      },
      "source": [
        "Main_df.columns"
      ],
      "execution_count": null,
      "outputs": [
        {
          "output_type": "execute_result",
          "data": {
            "text/plain": [
              "Index(['VendorID', 'tpep_pickup_datetime', 'tpep_dropoff_datetime',\n",
              "       'passenger_count', 'trip_distance', 'RatecodeID', 'store_and_fwd_flag',\n",
              "       'PULocationID', 'DOLocationID', 'payment_type', 'fare_amount', 'extra',\n",
              "       'mta_tax', 'tip_amount', 'tolls_amount', 'improvement_surcharge',\n",
              "       'total_amount', 'congestion_surcharge'],\n",
              "      dtype='object')"
            ]
          },
          "metadata": {
            "tags": []
          },
          "execution_count": 0
        }
      ]
    },
    {
      "cell_type": "code",
      "metadata": {
        "colab": {
          "background_save": true,
          "base_uri": "https://localhost:8080/",
          "height": 317
        },
        "id": "jORd1XvtCoS7",
        "outputId": "4c53c81b-ea27-415a-97ae-8db935bd83c3"
      },
      "source": [
        "Main_df.describe()"
      ],
      "execution_count": null,
      "outputs": [
        {
          "output_type": "execute_result",
          "data": {
            "text/html": [
              "<div>\n",
              "<style scoped>\n",
              "    .dataframe tbody tr th:only-of-type {\n",
              "        vertical-align: middle;\n",
              "    }\n",
              "\n",
              "    .dataframe tbody tr th {\n",
              "        vertical-align: top;\n",
              "    }\n",
              "\n",
              "    .dataframe thead th {\n",
              "        text-align: right;\n",
              "    }\n",
              "</style>\n",
              "<table border=\"1\" class=\"dataframe\">\n",
              "  <thead>\n",
              "    <tr style=\"text-align: right;\">\n",
              "      <th></th>\n",
              "      <th>VendorID</th>\n",
              "      <th>passenger_count</th>\n",
              "      <th>trip_distance</th>\n",
              "      <th>RatecodeID</th>\n",
              "      <th>PULocationID</th>\n",
              "      <th>DOLocationID</th>\n",
              "      <th>payment_type</th>\n",
              "      <th>fare_amount</th>\n",
              "      <th>extra</th>\n",
              "      <th>mta_tax</th>\n",
              "      <th>tip_amount</th>\n",
              "      <th>tolls_amount</th>\n",
              "      <th>improvement_surcharge</th>\n",
              "      <th>total_amount</th>\n",
              "      <th>congestion_surcharge</th>\n",
              "    </tr>\n",
              "  </thead>\n",
              "  <tbody>\n",
              "    <tr>\n",
              "      <th>count</th>\n",
              "      <td>2.969805e+06</td>\n",
              "      <td>2.969805e+06</td>\n",
              "      <td>3.007292e+06</td>\n",
              "      <td>2.969805e+06</td>\n",
              "      <td>3.007292e+06</td>\n",
              "      <td>3.007292e+06</td>\n",
              "      <td>2.969805e+06</td>\n",
              "      <td>3.007292e+06</td>\n",
              "      <td>3.007292e+06</td>\n",
              "      <td>3.007292e+06</td>\n",
              "      <td>3.007292e+06</td>\n",
              "      <td>3.007292e+06</td>\n",
              "      <td>3.007292e+06</td>\n",
              "      <td>3.007292e+06</td>\n",
              "      <td>3.007292e+06</td>\n",
              "    </tr>\n",
              "    <tr>\n",
              "      <th>mean</th>\n",
              "      <td>1.667242e+00</td>\n",
              "      <td>1.467486e+00</td>\n",
              "      <td>3.116722e+00</td>\n",
              "      <td>1.051378e+00</td>\n",
              "      <td>1.634186e+02</td>\n",
              "      <td>1.609385e+02</td>\n",
              "      <td>1.267743e+00</td>\n",
              "      <td>1.269675e+01</td>\n",
              "      <td>1.246666e+00</td>\n",
              "      <td>6.580587e-01</td>\n",
              "      <td>2.138793e+00</td>\n",
              "      <td>3.041657e-01</td>\n",
              "      <td>2.975907e-01</td>\n",
              "      <td>1.884122e+01</td>\n",
              "      <td>2.241648e+00</td>\n",
              "    </tr>\n",
              "    <tr>\n",
              "      <th>std</th>\n",
              "      <td>4.712009e-01</td>\n",
              "      <td>1.120098e+00</td>\n",
              "      <td>2.069343e+02</td>\n",
              "      <td>7.109302e-01</td>\n",
              "      <td>6.658183e+01</td>\n",
              "      <td>7.073925e+01</td>\n",
              "      <td>4.765033e-01</td>\n",
              "      <td>3.871551e+02</td>\n",
              "      <td>2.883275e+02</td>\n",
              "      <td>2.883250e+02</td>\n",
              "      <td>2.719280e+00</td>\n",
              "      <td>1.607296e+00</td>\n",
              "      <td>3.710814e-02</td>\n",
              "      <td>6.945971e+02</td>\n",
              "      <td>7.841027e-01</td>\n",
              "    </tr>\n",
              "    <tr>\n",
              "      <th>min</th>\n",
              "      <td>1.000000e+00</td>\n",
              "      <td>0.000000e+00</td>\n",
              "      <td>0.000000e+00</td>\n",
              "      <td>1.000000e+00</td>\n",
              "      <td>1.000000e+00</td>\n",
              "      <td>1.000000e+00</td>\n",
              "      <td>1.000000e+00</td>\n",
              "      <td>-1.259000e+03</td>\n",
              "      <td>-7.000000e+00</td>\n",
              "      <td>-5.000000e-01</td>\n",
              "      <td>-4.932200e+02</td>\n",
              "      <td>-4.000000e+01</td>\n",
              "      <td>-3.000000e-01</td>\n",
              "      <td>-1.260300e+03</td>\n",
              "      <td>-2.500000e+00</td>\n",
              "    </tr>\n",
              "    <tr>\n",
              "      <th>25%</th>\n",
              "      <td>1.000000e+00</td>\n",
              "      <td>1.000000e+00</td>\n",
              "      <td>9.900000e-01</td>\n",
              "      <td>1.000000e+00</td>\n",
              "      <td>1.140000e+02</td>\n",
              "      <td>1.070000e+02</td>\n",
              "      <td>1.000000e+00</td>\n",
              "      <td>6.500000e+00</td>\n",
              "      <td>0.000000e+00</td>\n",
              "      <td>5.000000e-01</td>\n",
              "      <td>0.000000e+00</td>\n",
              "      <td>0.000000e+00</td>\n",
              "      <td>3.000000e-01</td>\n",
              "      <td>1.116000e+01</td>\n",
              "      <td>2.500000e+00</td>\n",
              "    </tr>\n",
              "    <tr>\n",
              "      <th>50%</th>\n",
              "      <td>2.000000e+00</td>\n",
              "      <td>1.000000e+00</td>\n",
              "      <td>1.670000e+00</td>\n",
              "      <td>1.000000e+00</td>\n",
              "      <td>1.620000e+02</td>\n",
              "      <td>1.620000e+02</td>\n",
              "      <td>1.000000e+00</td>\n",
              "      <td>9.000000e+00</td>\n",
              "      <td>5.000000e-01</td>\n",
              "      <td>5.000000e-01</td>\n",
              "      <td>1.920000e+00</td>\n",
              "      <td>0.000000e+00</td>\n",
              "      <td>3.000000e-01</td>\n",
              "      <td>1.430000e+01</td>\n",
              "      <td>2.500000e+00</td>\n",
              "    </tr>\n",
              "    <tr>\n",
              "      <th>75%</th>\n",
              "      <td>2.000000e+00</td>\n",
              "      <td>1.000000e+00</td>\n",
              "      <td>3.020000e+00</td>\n",
              "      <td>1.000000e+00</td>\n",
              "      <td>2.340000e+02</td>\n",
              "      <td>2.340000e+02</td>\n",
              "      <td>2.000000e+00</td>\n",
              "      <td>1.400000e+01</td>\n",
              "      <td>2.500000e+00</td>\n",
              "      <td>5.000000e-01</td>\n",
              "      <td>2.860000e+00</td>\n",
              "      <td>0.000000e+00</td>\n",
              "      <td>3.000000e-01</td>\n",
              "      <td>1.985000e+01</td>\n",
              "      <td>2.500000e+00</td>\n",
              "    </tr>\n",
              "    <tr>\n",
              "      <th>max</th>\n",
              "      <td>2.000000e+00</td>\n",
              "      <td>9.000000e+00</td>\n",
              "      <td>2.698037e+05</td>\n",
              "      <td>9.900000e+01</td>\n",
              "      <td>2.650000e+02</td>\n",
              "      <td>2.650000e+02</td>\n",
              "      <td>4.000000e+00</td>\n",
              "      <td>6.711001e+05</td>\n",
              "      <td>5.000008e+05</td>\n",
              "      <td>5.000005e+05</td>\n",
              "      <td>8.000000e+02</td>\n",
              "      <td>6.010200e+02</td>\n",
              "      <td>3.000000e-01</td>\n",
              "      <td>1.000004e+06</td>\n",
              "      <td>2.500000e+00</td>\n",
              "    </tr>\n",
              "  </tbody>\n",
              "</table>\n",
              "</div>"
            ],
            "text/plain": [
              "           VendorID  passenger_count  ...  total_amount  congestion_surcharge\n",
              "count  2.969805e+06     2.969805e+06  ...  3.007292e+06          3.007292e+06\n",
              "mean   1.667242e+00     1.467486e+00  ...  1.884122e+01          2.241648e+00\n",
              "std    4.712009e-01     1.120098e+00  ...  6.945971e+02          7.841027e-01\n",
              "min    1.000000e+00     0.000000e+00  ... -1.260300e+03         -2.500000e+00\n",
              "25%    1.000000e+00     1.000000e+00  ...  1.116000e+01          2.500000e+00\n",
              "50%    2.000000e+00     1.000000e+00  ...  1.430000e+01          2.500000e+00\n",
              "75%    2.000000e+00     1.000000e+00  ...  1.985000e+01          2.500000e+00\n",
              "max    2.000000e+00     9.000000e+00  ...  1.000004e+06          2.500000e+00\n",
              "\n",
              "[8 rows x 15 columns]"
            ]
          },
          "metadata": {
            "tags": []
          },
          "execution_count": 0
        }
      ]
    },
    {
      "cell_type": "code",
      "metadata": {
        "colab": {
          "background_save": true,
          "base_uri": "https://localhost:8080/"
        },
        "id": "q7aLzKEqC4oy",
        "outputId": "165f05b0-a49d-4fe8-a203-6ad3ac1862ed"
      },
      "source": [
        "Main_df.shape"
      ],
      "execution_count": null,
      "outputs": [
        {
          "output_type": "execute_result",
          "data": {
            "text/plain": [
              "(3007292, 18)"
            ]
          },
          "metadata": {
            "tags": []
          },
          "execution_count": 0
        }
      ]
    },
    {
      "cell_type": "code",
      "metadata": {
        "colab": {
          "background_save": true,
          "base_uri": "https://localhost:8080/",
          "height": 439
        },
        "id": "Gftts14Hngn5",
        "outputId": "6f88227e-58a3-48fd-a10c-919c7f89fd75"
      },
      "source": [
        "#NullValues\n",
        "Main_df.isnull()\n"
      ],
      "execution_count": null,
      "outputs": [
        {
          "output_type": "execute_result",
          "data": {
            "text/html": [
              "<div>\n",
              "<style scoped>\n",
              "    .dataframe tbody tr th:only-of-type {\n",
              "        vertical-align: middle;\n",
              "    }\n",
              "\n",
              "    .dataframe tbody tr th {\n",
              "        vertical-align: top;\n",
              "    }\n",
              "\n",
              "    .dataframe thead th {\n",
              "        text-align: right;\n",
              "    }\n",
              "</style>\n",
              "<table border=\"1\" class=\"dataframe\">\n",
              "  <thead>\n",
              "    <tr style=\"text-align: right;\">\n",
              "      <th></th>\n",
              "      <th>VendorID</th>\n",
              "      <th>tpep_pickup_datetime</th>\n",
              "      <th>tpep_dropoff_datetime</th>\n",
              "      <th>passenger_count</th>\n",
              "      <th>trip_distance</th>\n",
              "      <th>RatecodeID</th>\n",
              "      <th>store_and_fwd_flag</th>\n",
              "      <th>PULocationID</th>\n",
              "      <th>DOLocationID</th>\n",
              "      <th>payment_type</th>\n",
              "      <th>fare_amount</th>\n",
              "      <th>extra</th>\n",
              "      <th>mta_tax</th>\n",
              "      <th>tip_amount</th>\n",
              "      <th>tolls_amount</th>\n",
              "      <th>improvement_surcharge</th>\n",
              "      <th>total_amount</th>\n",
              "      <th>congestion_surcharge</th>\n",
              "    </tr>\n",
              "  </thead>\n",
              "  <tbody>\n",
              "    <tr>\n",
              "      <th>0</th>\n",
              "      <td>False</td>\n",
              "      <td>False</td>\n",
              "      <td>False</td>\n",
              "      <td>False</td>\n",
              "      <td>False</td>\n",
              "      <td>False</td>\n",
              "      <td>False</td>\n",
              "      <td>False</td>\n",
              "      <td>False</td>\n",
              "      <td>False</td>\n",
              "      <td>False</td>\n",
              "      <td>False</td>\n",
              "      <td>False</td>\n",
              "      <td>False</td>\n",
              "      <td>False</td>\n",
              "      <td>False</td>\n",
              "      <td>False</td>\n",
              "      <td>False</td>\n",
              "    </tr>\n",
              "    <tr>\n",
              "      <th>1</th>\n",
              "      <td>False</td>\n",
              "      <td>False</td>\n",
              "      <td>False</td>\n",
              "      <td>False</td>\n",
              "      <td>False</td>\n",
              "      <td>False</td>\n",
              "      <td>False</td>\n",
              "      <td>False</td>\n",
              "      <td>False</td>\n",
              "      <td>False</td>\n",
              "      <td>False</td>\n",
              "      <td>False</td>\n",
              "      <td>False</td>\n",
              "      <td>False</td>\n",
              "      <td>False</td>\n",
              "      <td>False</td>\n",
              "      <td>False</td>\n",
              "      <td>False</td>\n",
              "    </tr>\n",
              "    <tr>\n",
              "      <th>2</th>\n",
              "      <td>False</td>\n",
              "      <td>False</td>\n",
              "      <td>False</td>\n",
              "      <td>False</td>\n",
              "      <td>False</td>\n",
              "      <td>False</td>\n",
              "      <td>False</td>\n",
              "      <td>False</td>\n",
              "      <td>False</td>\n",
              "      <td>False</td>\n",
              "      <td>False</td>\n",
              "      <td>False</td>\n",
              "      <td>False</td>\n",
              "      <td>False</td>\n",
              "      <td>False</td>\n",
              "      <td>False</td>\n",
              "      <td>False</td>\n",
              "      <td>False</td>\n",
              "    </tr>\n",
              "    <tr>\n",
              "      <th>3</th>\n",
              "      <td>False</td>\n",
              "      <td>False</td>\n",
              "      <td>False</td>\n",
              "      <td>False</td>\n",
              "      <td>False</td>\n",
              "      <td>False</td>\n",
              "      <td>False</td>\n",
              "      <td>False</td>\n",
              "      <td>False</td>\n",
              "      <td>False</td>\n",
              "      <td>False</td>\n",
              "      <td>False</td>\n",
              "      <td>False</td>\n",
              "      <td>False</td>\n",
              "      <td>False</td>\n",
              "      <td>False</td>\n",
              "      <td>False</td>\n",
              "      <td>False</td>\n",
              "    </tr>\n",
              "    <tr>\n",
              "      <th>4</th>\n",
              "      <td>False</td>\n",
              "      <td>False</td>\n",
              "      <td>False</td>\n",
              "      <td>False</td>\n",
              "      <td>False</td>\n",
              "      <td>False</td>\n",
              "      <td>False</td>\n",
              "      <td>False</td>\n",
              "      <td>False</td>\n",
              "      <td>False</td>\n",
              "      <td>False</td>\n",
              "      <td>False</td>\n",
              "      <td>False</td>\n",
              "      <td>False</td>\n",
              "      <td>False</td>\n",
              "      <td>False</td>\n",
              "      <td>False</td>\n",
              "      <td>False</td>\n",
              "    </tr>\n",
              "    <tr>\n",
              "      <th>...</th>\n",
              "      <td>...</td>\n",
              "      <td>...</td>\n",
              "      <td>...</td>\n",
              "      <td>...</td>\n",
              "      <td>...</td>\n",
              "      <td>...</td>\n",
              "      <td>...</td>\n",
              "      <td>...</td>\n",
              "      <td>...</td>\n",
              "      <td>...</td>\n",
              "      <td>...</td>\n",
              "      <td>...</td>\n",
              "      <td>...</td>\n",
              "      <td>...</td>\n",
              "      <td>...</td>\n",
              "      <td>...</td>\n",
              "      <td>...</td>\n",
              "      <td>...</td>\n",
              "    </tr>\n",
              "    <tr>\n",
              "      <th>3007287</th>\n",
              "      <td>True</td>\n",
              "      <td>False</td>\n",
              "      <td>False</td>\n",
              "      <td>True</td>\n",
              "      <td>False</td>\n",
              "      <td>True</td>\n",
              "      <td>True</td>\n",
              "      <td>False</td>\n",
              "      <td>False</td>\n",
              "      <td>True</td>\n",
              "      <td>False</td>\n",
              "      <td>False</td>\n",
              "      <td>False</td>\n",
              "      <td>False</td>\n",
              "      <td>False</td>\n",
              "      <td>False</td>\n",
              "      <td>False</td>\n",
              "      <td>False</td>\n",
              "    </tr>\n",
              "    <tr>\n",
              "      <th>3007288</th>\n",
              "      <td>True</td>\n",
              "      <td>False</td>\n",
              "      <td>False</td>\n",
              "      <td>True</td>\n",
              "      <td>False</td>\n",
              "      <td>True</td>\n",
              "      <td>True</td>\n",
              "      <td>False</td>\n",
              "      <td>False</td>\n",
              "      <td>True</td>\n",
              "      <td>False</td>\n",
              "      <td>False</td>\n",
              "      <td>False</td>\n",
              "      <td>False</td>\n",
              "      <td>False</td>\n",
              "      <td>False</td>\n",
              "      <td>False</td>\n",
              "      <td>False</td>\n",
              "    </tr>\n",
              "    <tr>\n",
              "      <th>3007289</th>\n",
              "      <td>True</td>\n",
              "      <td>False</td>\n",
              "      <td>False</td>\n",
              "      <td>True</td>\n",
              "      <td>False</td>\n",
              "      <td>True</td>\n",
              "      <td>True</td>\n",
              "      <td>False</td>\n",
              "      <td>False</td>\n",
              "      <td>True</td>\n",
              "      <td>False</td>\n",
              "      <td>False</td>\n",
              "      <td>False</td>\n",
              "      <td>False</td>\n",
              "      <td>False</td>\n",
              "      <td>False</td>\n",
              "      <td>False</td>\n",
              "      <td>False</td>\n",
              "    </tr>\n",
              "    <tr>\n",
              "      <th>3007290</th>\n",
              "      <td>True</td>\n",
              "      <td>False</td>\n",
              "      <td>False</td>\n",
              "      <td>True</td>\n",
              "      <td>False</td>\n",
              "      <td>True</td>\n",
              "      <td>True</td>\n",
              "      <td>False</td>\n",
              "      <td>False</td>\n",
              "      <td>True</td>\n",
              "      <td>False</td>\n",
              "      <td>False</td>\n",
              "      <td>False</td>\n",
              "      <td>False</td>\n",
              "      <td>False</td>\n",
              "      <td>False</td>\n",
              "      <td>False</td>\n",
              "      <td>False</td>\n",
              "    </tr>\n",
              "    <tr>\n",
              "      <th>3007291</th>\n",
              "      <td>True</td>\n",
              "      <td>False</td>\n",
              "      <td>False</td>\n",
              "      <td>True</td>\n",
              "      <td>False</td>\n",
              "      <td>True</td>\n",
              "      <td>True</td>\n",
              "      <td>False</td>\n",
              "      <td>False</td>\n",
              "      <td>True</td>\n",
              "      <td>False</td>\n",
              "      <td>False</td>\n",
              "      <td>False</td>\n",
              "      <td>False</td>\n",
              "      <td>False</td>\n",
              "      <td>False</td>\n",
              "      <td>False</td>\n",
              "      <td>False</td>\n",
              "    </tr>\n",
              "  </tbody>\n",
              "</table>\n",
              "<p>3007292 rows × 18 columns</p>\n",
              "</div>"
            ],
            "text/plain": [
              "         VendorID  tpep_pickup_datetime  ...  total_amount  congestion_surcharge\n",
              "0           False                 False  ...         False                 False\n",
              "1           False                 False  ...         False                 False\n",
              "2           False                 False  ...         False                 False\n",
              "3           False                 False  ...         False                 False\n",
              "4           False                 False  ...         False                 False\n",
              "...           ...                   ...  ...           ...                   ...\n",
              "3007287      True                 False  ...         False                 False\n",
              "3007288      True                 False  ...         False                 False\n",
              "3007289      True                 False  ...         False                 False\n",
              "3007290      True                 False  ...         False                 False\n",
              "3007291      True                 False  ...         False                 False\n",
              "\n",
              "[3007292 rows x 18 columns]"
            ]
          },
          "metadata": {
            "tags": []
          },
          "execution_count": 0
        }
      ]
    },
    {
      "cell_type": "code",
      "metadata": {
        "colab": {
          "background_save": true,
          "base_uri": "https://localhost:8080/"
        },
        "id": "U-YdWB5qL6jp",
        "outputId": "b71f3226-0f3d-4534-f87b-e131f956af54"
      },
      "source": [
        "#Data Cleaning on Location\n",
        "#NewYork city LOcation IDs are in range = (1, 263)\n",
        "#src = https://www1.nyc.gov/site/tlc/about/tlc-trip-record-data.page\n",
        "\n",
        "Main_df = Main_df[((Main_df['PULocationID']>=1) & (Main_df['PULocationID']<=263)) & ((Main_df['DOLocationID']>=1) & (Main_df['DOLocationID']<=263))]\n",
        "print(\"Shape of the data points after preprocessing on Location: \", Main_df.shape)"
      ],
      "execution_count": null,
      "outputs": [
        {
          "output_type": "stream",
          "text": [
            "Shape of the data points after preprocessing on Location:  (2975588, 18)\n"
          ],
          "name": "stdout"
        }
      ]
    },
    {
      "cell_type": "code",
      "metadata": {
        "colab": {
          "background_save": true,
          "base_uri": "https://localhost:8080/"
        },
        "id": "7JT27fLuSrHw",
        "outputId": "f5c25a6b-b22e-4170-8427-c6b22f96233b"
      },
      "source": [
        "len(Main_df['tpep_pickup_datetime'].values)"
      ],
      "execution_count": null,
      "outputs": [
        {
          "output_type": "execute_result",
          "data": {
            "text/plain": [
              "2975588"
            ]
          },
          "metadata": {
            "tags": []
          },
          "execution_count": 0
        }
      ]
    },
    {
      "cell_type": "code",
      "metadata": {
        "id": "TNesFUiPbX3o"
      },
      "source": [
        "#Data Cleaning on Trip Duration\n",
        "\n",
        "#Pickup Time\n",
        "pickup_time = []\n",
        "for str in Main_df['tpep_pickup_datetime'].values:\n",
        "  d = time.mktime(datetime.datetime.strptime(str, \"%Y-%m-%d %H:%M:%S\").timetuple())\n",
        "  pickup_time.append(d)\n",
        "\n",
        "\n",
        "\n"
      ],
      "execution_count": null,
      "outputs": []
    },
    {
      "cell_type": "code",
      "metadata": {
        "colab": {
          "base_uri": "https://localhost:8080/"
        },
        "id": "b4Q4nXUGko5A",
        "outputId": "3ccc8d2c-d3fb-46cc-9e8d-ba52ef77f9a7"
      },
      "source": [
        "print(pickup_time[0:100])"
      ],
      "execution_count": null,
      "outputs": [
        {
          "output_type": "stream",
          "text": [
            "[1583022673.0, 1583021302.0, 1583023938.0, 1583023673.0, 1583023399.0, 1583021083.0, 1583023401.0, 1583023895.0, 1583021622.0, 1583022305.0, 1583022787.0, 1583023622.0, 1583020864.0, 1583021743.0, 1583020808.0, 1583021683.0, 1583024216.0, 1583020885.0, 1583022074.0, 1583022935.0, 1583024105.0, 1583022563.0, 1583023068.0, 1583021122.0, 1583022548.0, 1583022103.0, 1583023572.0, 1583021311.0, 1583021021.0, 1583024227.0, 1583022841.0, 1583023789.0, 1583021398.0, 1583023336.0, 1583021644.0, 1583023693.0, 1583022884.0, 1583024279.0, 1583021921.0, 1583023067.0, 1583023013.0, 1583023264.0, 1583024213.0, 1583022581.0, 1583021290.0, 1583021965.0, 1583023432.0, 1583020890.0, 1583021655.0, 1583022316.0, 1583021409.0, 1583023755.0, 1583023740.0, 1583022383.0, 1583023485.0, 1583023246.0, 1583024280.0, 1583021460.0, 1583023587.0, 1583021071.0, 1583022309.0, 1583023618.0, 1583022483.0, 1583020934.0, 1583022734.0, 1583023833.0, 1583022231.0, 1583023407.0, 1583023699.0, 1583021113.0, 1583022361.0, 1583022954.0, 1583024377.0, 1583023672.0, 1583021832.0, 1583021905.0, 1583023142.0, 1583022700.0, 1583024359.0, 1583020882.0, 1583022965.0, 1583023707.0, 1583021156.0, 1583021781.0, 1583022605.0, 1583020800.0, 1583022827.0, 1583024399.0, 1583021179.0, 1583021661.0, 1583022137.0, 1583022448.0, 1583023386.0, 1583024283.0, 1583021412.0, 1583022248.0, 1583022949.0, 1583024304.0, 1583022203.0, 1583021156.0]\n"
          ],
          "name": "stdout"
        }
      ]
    },
    {
      "cell_type": "code",
      "metadata": {
        "id": "ka_7hpdIhi_L"
      },
      "source": [
        "#Calculating Drop off time\n",
        "dropoff_time = []\n",
        "for str in Main_df['tpep_dropoff_datetime'].values:\n",
        "  d = time.mktime(datetime.datetime.strptime(str, \"%Y-%m-%d %H:%M:%S\").timetuple())\n",
        "  dropoff_time.append(d)"
      ],
      "execution_count": null,
      "outputs": []
    },
    {
      "cell_type": "code",
      "metadata": {
        "colab": {
          "base_uri": "https://localhost:8080/"
        },
        "id": "azXYmw37lXG_",
        "outputId": "1d79c567-3d68-40d6-8b26-fa6df2d2c2de"
      },
      "source": [
        "print(dropoff_time[0:100])"
      ],
      "execution_count": null,
      "outputs": [
        {
          "output_type": "stream",
          "text": [
            "[1583024502.0, 1583021329.0, 1583024356.0, 1583023857.0, 1583024307.0, 1583022197.0, 1583025276.0, 1583024417.0, 1583022180.0, 1583022666.0, 1583023398.0, 1583024375.0, 1583021649.0, 1583023617.0, 1583021326.0, 1583023020.0, 1583025227.0, 1583021281.0, 1583022647.0, 1583023381.0, 1583024482.0, 1583022764.0, 1583023879.0, 1583022215.0, 1583023657.0, 1583022788.0, 1583024151.0, 1583022001.0, 1583021965.0, 1583025130.0, 1583023306.0, 1583024715.0, 1583021769.0, 1583024360.0, 1583022026.0, 1583024031.0, 1583023162.0, 1583024676.0, 1583022638.0, 1583023337.0, 1583023176.0, 1583023545.0, 1583026097.0, 1583024541.0, 1583021470.0, 1583022187.0, 1583024129.0, 1583021535.0, 1583022226.0, 1583023500.0, 1583022259.0, 1583026067.0, 1583024489.0, 1583023213.0, 1583025717.0, 1583023642.0, 1583025183.0, 1583022439.0, 1583025072.0, 1583021474.0, 1583023401.0, 1583025110.0, 1583023574.0, 1583021843.0, 1583023542.0, 1583025083.0, 1583023290.0, 1583023531.0, 1583024208.0, 1583022020.0, 1583022760.0, 1583024169.0, 1583024982.0, 1583023792.0, 1583022950.0, 1583023017.0, 1583023974.0, 1583023467.0, 1583025367.0, 1583021755.0, 1583023296.0, 1583024756.0, 1583021487.0, 1583022038.0, 1583023942.0, 1583022248.0, 1583023944.0, 1583025468.0, 1583021490.0, 1583022072.0, 1583022378.0, 1583022768.0, 1583023713.0, 1583024706.0, 1583022031.0, 1583022814.0, 1583023717.0, 1583024637.0, 1583024106.0, 1583021523.0]\n"
          ],
          "name": "stdout"
        }
      ]
    },
    {
      "cell_type": "code",
      "metadata": {
        "colab": {
          "base_uri": "https://localhost:8080/"
        },
        "id": "Ljn76OncnX-W",
        "outputId": "526fbd5f-1b24-4370-f111-1bc1ce840197"
      },
      "source": [
        "durations = abs((np.array(dropoff_time) - np.array(pickup_time))/float(60))\n",
        "Main_df['trip_duration'] = durations\n",
        "print(Main_df.head())"
      ],
      "execution_count": null,
      "outputs": [
        {
          "output_type": "stream",
          "text": [
            "   VendorID tpep_pickup_datetime  ... congestion_surcharge  trip_duration\n",
            "0       1.0  2020-03-01 00:31:13  ...                  2.5      30.483333\n",
            "1       2.0  2020-03-01 00:08:22  ...                  0.0       0.450000\n",
            "2       1.0  2020-03-01 00:52:18  ...                  2.5       6.966667\n",
            "3       2.0  2020-03-01 00:47:53  ...                  2.5       3.066667\n",
            "4       1.0  2020-03-01 00:43:19  ...                  2.5      15.133333\n",
            "\n",
            "[5 rows x 19 columns]\n"
          ],
          "name": "stdout"
        }
      ]
    },
    {
      "cell_type": "code",
      "metadata": {
        "colab": {
          "base_uri": "https://localhost:8080/"
        },
        "id": "SJTMOxo_rEfi",
        "outputId": "7e5a6d8f-1126-4d0a-e112-321d04e53132"
      },
      "source": [
        "#Percentiles\n",
        "duration_at_01=Main_df['trip_duration'].quantile(0.1)\n",
        "print(duration_at_01) #trip duration at 1 percentile\n",
        "\n",
        "duration_at_09=Main_df['trip_duration'].quantile(0.9)\n",
        "print(duration_at_09) #trip duration at 90 percentile\n",
        "\n",
        "duration_at_99=Main_df['trip_duration'].quantile(0.99)\n",
        "print(duration_at_99) #trip duration at 99.0 percentile\n",
        "\n",
        "duration_at_999=Main_df['trip_duration'].quantile(0.999)\n",
        "print(duration_at_999) #trip duration at 99.9 percentile"
      ],
      "execution_count": null,
      "outputs": [
        {
          "output_type": "stream",
          "text": [
            "3.9\n",
            "25.45\n",
            "53.766666666666666\n",
            "1412.7\n"
          ],
          "name": "stdout"
        }
      ]
    },
    {
      "cell_type": "code",
      "metadata": {
        "id": "2pbOyFZEvepv"
      },
      "source": [
        "#Boxplot before cleaning\n",
        "#sns.boxenplot(y='trip_duration', data=Main_df)"
      ],
      "execution_count": null,
      "outputs": []
    },
    {
      "cell_type": "code",
      "metadata": {
        "colab": {
          "base_uri": "https://localhost:8080/"
        },
        "id": "2A3LBRX1vvyh",
        "outputId": "a9913a79-81d4-485b-a7ab-38f8f7a76d8f"
      },
      "source": [
        "Main_df = Main_df[(Main_df['trip_duration']>1) & (Main_df['trip_duration']<720)]\n",
        "print(Main_df)"
      ],
      "execution_count": null,
      "outputs": [
        {
          "output_type": "stream",
          "text": [
            "         VendorID tpep_pickup_datetime  ... congestion_surcharge  trip_duration\n",
            "0             1.0  2020-03-01 00:31:13  ...                  2.5      30.483333\n",
            "2             1.0  2020-03-01 00:52:18  ...                  2.5       6.966667\n",
            "3             2.0  2020-03-01 00:47:53  ...                  2.5       3.066667\n",
            "4             1.0  2020-03-01 00:43:19  ...                  2.5      15.133333\n",
            "5             1.0  2020-03-01 00:04:43  ...                  2.5      18.566667\n",
            "...           ...                  ...  ...                  ...            ...\n",
            "3007287       NaN  2020-03-31 23:21:00  ...                  2.5      12.000000\n",
            "3007288       NaN  2020-03-31 23:57:00  ...                  2.5      29.000000\n",
            "3007289       NaN  2020-03-31 23:22:01  ...                  2.5      21.850000\n",
            "3007290       NaN  2020-03-31 23:18:53  ...                  2.5      13.466667\n",
            "3007291       NaN  2020-03-31 23:11:00  ...                  0.0      19.000000\n",
            "\n",
            "[2945314 rows x 19 columns]\n"
          ],
          "name": "stdout"
        }
      ]
    },
    {
      "cell_type": "code",
      "metadata": {
        "id": "g_oYkQLXwUEZ"
      },
      "source": [
        "#Boxplot after cleaning\n",
        "#sns.boxenplot(y='trip_duration', data=Main_df)"
      ],
      "execution_count": null,
      "outputs": []
    },
    {
      "cell_type": "code",
      "metadata": {
        "id": "lZUEZwwhwecF"
      },
      "source": [
        "#Dstribution plot for trip duration\n",
        "#sns.displot(Main_df, x=\"trip_duration\", kind=\"kde\")"
      ],
      "execution_count": null,
      "outputs": []
    },
    {
      "cell_type": "code",
      "metadata": {
        "colab": {
          "base_uri": "https://localhost:8080/"
        },
        "id": "CSOYaiFeu0Cg",
        "outputId": "d2783343-c749-4934-e6ac-a08ae82700ca"
      },
      "source": [
        "#Cleaning on Speed\n",
        "Main_df['speed'] = 60*(Main_df['trip_distance']/Main_df['trip_duration'])\n",
        "print(Main_df)"
      ],
      "execution_count": null,
      "outputs": [
        {
          "output_type": "stream",
          "text": [
            "         VendorID tpep_pickup_datetime  ... trip_duration      speed\n",
            "0             1.0  2020-03-01 00:31:13  ...     30.483333   9.250957\n",
            "2             1.0  2020-03-01 00:52:18  ...      6.966667   9.473684\n",
            "3             2.0  2020-03-01 00:47:53  ...      3.066667  17.021739\n",
            "4             1.0  2020-03-01 00:43:19  ...     15.133333  17.444934\n",
            "5             1.0  2020-03-01 00:04:43  ...     18.566667  11.310592\n",
            "...           ...                  ...  ...           ...        ...\n",
            "3007287       NaN  2020-03-31 23:21:00  ...     12.000000  27.150000\n",
            "3007288       NaN  2020-03-31 23:57:00  ...     29.000000  27.331034\n",
            "3007289       NaN  2020-03-31 23:22:01  ...     21.850000  33.336384\n",
            "3007290       NaN  2020-03-31 23:18:53  ...     13.466667  31.232673\n",
            "3007291       NaN  2020-03-31 23:11:00  ...     19.000000  19.926316\n",
            "\n",
            "[2945314 rows x 20 columns]\n"
          ],
          "name": "stdout"
        }
      ]
    },
    {
      "cell_type": "code",
      "metadata": {
        "colab": {
          "base_uri": "https://localhost:8080/"
        },
        "id": "lzNBM2Grt0D8",
        "outputId": "83ce9e29-ccde-482a-8490-52a788490c10"
      },
      "source": [
        "#Percentiles for speed\n",
        "speed_at_00=Main_df['speed'].quantile(0.00)\n",
        "print(speed_at_00) #speed at 0 percentile\n",
        "\n",
        "speed_at_01=Main_df['speed'].quantile(0.1)\n",
        "print(speed_at_01) #speed at 1 percentile\n",
        "\n",
        "speed_at_09=Main_df['speed'].quantile(0.9)\n",
        "print(speed_at_09) #speed at 90 percentile\n",
        "\n",
        "speed_at_99=Main_df['speed'].quantile(0.99)\n",
        "print(speed_at_99) #speed at 99.0 percentile\n",
        "\n",
        "speed_at_999=Main_df['speed'].quantile(0.999)\n",
        "print(speed_at_999) #speed at 99.9 percentile\n",
        "\n",
        "speed_at_9999=Main_df['speed'].quantile(0.9999)\n",
        "print(speed_at_9999) #speed at 99.99 percentile\n",
        "\n",
        "speed_at_99999=Main_df['speed'].quantile(0.99999)\n",
        "print(speed_at_99999) #speed at 99.999 percentile"
      ],
      "execution_count": null,
      "outputs": [
        {
          "output_type": "stream",
          "text": [
            "0.0\n",
            "6.171428571428572\n",
            "20.0\n",
            "37.103517680142005\n",
            "47.577801830947536\n",
            "58.57401285254454\n",
            "557.4106857153986\n"
          ],
          "name": "stdout"
        }
      ]
    },
    {
      "cell_type": "code",
      "metadata": {
        "id": "vqsWOljjyPM-"
      },
      "source": [
        "#Boxplot before cleaning\n",
        "#sns.boxenplot(y='speed', data=Main_df)"
      ],
      "execution_count": null,
      "outputs": []
    },
    {
      "cell_type": "code",
      "metadata": {
        "colab": {
          "base_uri": "https://localhost:8080/"
        },
        "id": "n7FgefcEItfP",
        "outputId": "f5247f91-44ed-4b29-8b47-1974b5f046d5"
      },
      "source": [
        "Main_df = Main_df[(Main_df['speed']>0) & (Main_df['speed']<56.225679661650766)]\n",
        "print(Main_df)"
      ],
      "execution_count": null,
      "outputs": [
        {
          "output_type": "stream",
          "text": [
            "         VendorID tpep_pickup_datetime  ... trip_duration      speed\n",
            "0             1.0  2020-03-01 00:31:13  ...     30.483333   9.250957\n",
            "2             1.0  2020-03-01 00:52:18  ...      6.966667   9.473684\n",
            "3             2.0  2020-03-01 00:47:53  ...      3.066667  17.021739\n",
            "4             1.0  2020-03-01 00:43:19  ...     15.133333  17.444934\n",
            "5             1.0  2020-03-01 00:04:43  ...     18.566667  11.310592\n",
            "...           ...                  ...  ...           ...        ...\n",
            "3007287       NaN  2020-03-31 23:21:00  ...     12.000000  27.150000\n",
            "3007288       NaN  2020-03-31 23:57:00  ...     29.000000  27.331034\n",
            "3007289       NaN  2020-03-31 23:22:01  ...     21.850000  33.336384\n",
            "3007290       NaN  2020-03-31 23:18:53  ...     13.466667  31.232673\n",
            "3007291       NaN  2020-03-31 23:11:00  ...     19.000000  19.926316\n",
            "\n",
            "[2933058 rows x 20 columns]\n"
          ],
          "name": "stdout"
        }
      ]
    },
    {
      "cell_type": "code",
      "metadata": {
        "id": "GFFJLoXl0pr5"
      },
      "source": [
        "#Boxplot after cleaning\n",
        "#sns.boxenplot(y='speed', data=Main_df)"
      ],
      "execution_count": null,
      "outputs": []
    },
    {
      "cell_type": "code",
      "metadata": {
        "id": "nrQk_EDP00GO"
      },
      "source": [
        "#Cleaning on total amount\n",
        "#Before cleaning on total amount\n",
        "#sns.boxenplot(y='total_amount', data=Main_df)"
      ],
      "execution_count": null,
      "outputs": []
    },
    {
      "cell_type": "code",
      "metadata": {
        "colab": {
          "base_uri": "https://localhost:8080/"
        },
        "id": "OV_TzlBP1_y9",
        "outputId": "745f8014-c5e3-4895-a9cd-dcb1d6cdb6a8"
      },
      "source": [
        "#Percentiles for Total amount\n",
        "ta_at_00=Main_df['total_amount'].quantile(0.00)\n",
        "print(ta_at_00) #total_amount at 0 percentile\n",
        "\n",
        "ta_at_09=Main_df['total_amount'].quantile(0.9)\n",
        "print(ta_at_09) #total_amount at 90 percentile\n",
        "\n",
        "ta_at_99=Main_df['total_amount'].quantile(0.99)\n",
        "print(ta_at_99) #total_amount at 99.0 percentile\n",
        "\n",
        "ta_at_999=Main_df['total_amount'].quantile(0.999)\n",
        "print(ta_at_999) #total_amount at 99.9 percentile\n",
        "\n",
        "ta_at_9999=Main_df['total_amount'].quantile(0.9999)\n",
        "print(ta_at_9999) #total_amount at 99.99 percentile\n",
        "\n",
        "ta_at_999999=Main_df['total_amount'].quantile(0.999999)\n",
        "print(ta_at_999999) #total_amount at 99.9999 percentile\n",
        "\n",
        "ta_at_9999999=Main_df['total_amount'].quantile(0.9999999)\n",
        "print(ta_at_9999999) #total_amount at 99.99999 percentile\n",
        "\n",
        "ta_at_100=Main_df['total_amount'].quantile(1)\n",
        "print(ta_at_100) #total_amount at 100 percentile"
      ],
      "execution_count": null,
      "outputs": [
        {
          "output_type": "stream",
          "text": [
            "-502.02\n",
            "30.29\n",
            "73.67\n",
            "97.73829000001308\n",
            "138.33471499998123\n",
            "634.0644703713152\n",
            "474505.67711435794\n",
            "671103.17\n"
          ],
          "name": "stdout"
        }
      ]
    },
    {
      "cell_type": "code",
      "metadata": {
        "colab": {
          "base_uri": "https://localhost:8080/"
        },
        "id": "pTb3Y7qC6cyx",
        "outputId": "6d50f23a-ac46-4dff-92b2-fdc943f7672d"
      },
      "source": [
        "Main_df = Main_df[(Main_df['total_amount']>0) & (Main_df['total_amount']<= 585.2633575955033)]\n",
        "print(Main_df)"
      ],
      "execution_count": null,
      "outputs": [
        {
          "output_type": "stream",
          "text": [
            "         VendorID tpep_pickup_datetime  ... trip_duration      speed\n",
            "0             1.0  2020-03-01 00:31:13  ...     30.483333   9.250957\n",
            "2             1.0  2020-03-01 00:52:18  ...      6.966667   9.473684\n",
            "3             2.0  2020-03-01 00:47:53  ...      3.066667  17.021739\n",
            "4             1.0  2020-03-01 00:43:19  ...     15.133333  17.444934\n",
            "5             1.0  2020-03-01 00:04:43  ...     18.566667  11.310592\n",
            "...           ...                  ...  ...           ...        ...\n",
            "3007287       NaN  2020-03-31 23:21:00  ...     12.000000  27.150000\n",
            "3007288       NaN  2020-03-31 23:57:00  ...     29.000000  27.331034\n",
            "3007289       NaN  2020-03-31 23:22:01  ...     21.850000  33.336384\n",
            "3007290       NaN  2020-03-31 23:18:53  ...     13.466667  31.232673\n",
            "3007291       NaN  2020-03-31 23:11:00  ...     19.000000  19.926316\n",
            "\n",
            "[2924175 rows x 20 columns]\n"
          ],
          "name": "stdout"
        }
      ]
    },
    {
      "cell_type": "code",
      "metadata": {
        "id": "N7rgP6-r7eUs"
      },
      "source": [
        "#After cleaning on total amount\n",
        "#sns.boxenplot(y='total_amount', data=Main_df)"
      ],
      "execution_count": null,
      "outputs": []
    },
    {
      "cell_type": "code",
      "metadata": {
        "id": "zxGzH0jr74YB"
      },
      "source": [
        "#Cleaning on Distance\n",
        "#Before cleaning \n",
        "#sns.boxenplot(y='trip_distance', data=Main_df)"
      ],
      "execution_count": null,
      "outputs": []
    },
    {
      "cell_type": "code",
      "metadata": {
        "colab": {
          "base_uri": "https://localhost:8080/"
        },
        "id": "Dcwfw7e-80Qm",
        "outputId": "329ab0fe-953e-4568-89b2-bb2e27aa67a6"
      },
      "source": [
        "#Percentiles for Total amount\n",
        "td_at_00=Main_df['trip_distance'].quantile(0.00)\n",
        "print(td_at_00) #trip_distance at 0 percentile\n",
        "\n",
        "td_at_09=Main_df['trip_distance'].quantile(0.9)\n",
        "print(td_at_09) #trip_distance at 90 percentile\n",
        "\n",
        "td_at_99=Main_df['trip_distance'].quantile(0.99)\n",
        "print(td_at_99) #trip_distance at 99.0 percentile\n",
        "\n",
        "td_at_999=Main_df['trip_distance'].quantile(0.999)\n",
        "print(td_at_999) #trip_distance at 99.9 percentile\n",
        "\n",
        "td_at_9999=Main_df['trip_distance'].quantile(0.9999)\n",
        "print(td_at_9999) #trip_distance at 99.99 percentile\n",
        "\n",
        "td_at_999999=Main_df['trip_distance'].quantile(0.999999)\n",
        "print(td_at_999999) #trip_distance at 99.9999 percentile\n",
        "\n",
        "td_at_9999999=Main_df['trip_distance'].quantile(0.9999999)\n",
        "print(td_at_9999999) #trip_distance at 99.99999 percentile\n",
        "\n",
        "td_at_100=Main_df['trip_distance'].quantile(1)\n",
        "print(td_at_100) #trip_distance at 100 percentile"
      ],
      "execution_count": null,
      "outputs": [
        {
          "output_type": "stream",
          "text": [
            "0.01\n",
            "6.44\n",
            "18.71\n",
            "25.0682600000035\n",
            "35.28747799999546\n",
            "101.89857379994355\n",
            "149.92492512464523\n",
            "153.2\n"
          ],
          "name": "stdout"
        }
      ]
    },
    {
      "cell_type": "code",
      "metadata": {
        "colab": {
          "base_uri": "https://localhost:8080/"
        },
        "id": "o6g9rTkc-DXk",
        "outputId": "b6cbbae8-64d1-40b5-8e38-6b7d023855ca"
      },
      "source": [
        "Main_df = Main_df[(Main_df['trip_distance']>0) & (Main_df['trip_distance']<= 33.2935949999839)]\n",
        "print(Main_df)"
      ],
      "execution_count": null,
      "outputs": [
        {
          "output_type": "stream",
          "text": [
            "         VendorID tpep_pickup_datetime  ... trip_duration      speed\n",
            "0             1.0  2020-03-01 00:31:13  ...     30.483333   9.250957\n",
            "2             1.0  2020-03-01 00:52:18  ...      6.966667   9.473684\n",
            "3             2.0  2020-03-01 00:47:53  ...      3.066667  17.021739\n",
            "4             1.0  2020-03-01 00:43:19  ...     15.133333  17.444934\n",
            "5             1.0  2020-03-01 00:04:43  ...     18.566667  11.310592\n",
            "...           ...                  ...  ...           ...        ...\n",
            "3007287       NaN  2020-03-31 23:21:00  ...     12.000000  27.150000\n",
            "3007288       NaN  2020-03-31 23:57:00  ...     29.000000  27.331034\n",
            "3007289       NaN  2020-03-31 23:22:01  ...     21.850000  33.336384\n",
            "3007290       NaN  2020-03-31 23:18:53  ...     13.466667  31.232673\n",
            "3007291       NaN  2020-03-31 23:11:00  ...     19.000000  19.926316\n",
            "\n",
            "[2923798 rows x 20 columns]\n"
          ],
          "name": "stdout"
        }
      ]
    },
    {
      "cell_type": "code",
      "metadata": {
        "id": "NjBfu0ai-ZXK"
      },
      "source": [
        "#After cleaning on trip_distance\n",
        "#sns.boxenplot(y='trip_distance', data=Main_df)"
      ],
      "execution_count": null,
      "outputs": []
    },
    {
      "cell_type": "code",
      "metadata": {
        "cellView": "both",
        "colab": {
          "base_uri": "https://localhost:8080/"
        },
        "id": "BDQRYz4S-tcS",
        "outputId": "d9d3116e-169d-4ee1-ff73-034c34e9947a"
      },
      "source": [
        "\n",
        "average_speed = sum(Main_df['speed'])/float(len(Main_df['speed']))\n",
        "print(average_speed)\n",
        "\n",
        "#11.691415935750623 is covered in 1 Hours, so approx 3 miles will be covered in 15 minutes."
      ],
      "execution_count": null,
      "outputs": [
        {
          "output_type": "stream",
          "text": [
            "12.132872725232353\n"
          ],
          "name": "stdout"
        }
      ]
    },
    {
      "cell_type": "code",
      "metadata": {
        "id": "E6cWysfV8OfX"
      },
      "source": [
        "import pandas as pd\n",
        "from geopy.exc import GeocoderTimedOut \n",
        "from geopy.geocoders import Nominatim "
      ],
      "execution_count": null,
      "outputs": []
    },
    {
      "cell_type": "code",
      "metadata": {
        "colab": {
          "base_uri": "https://localhost:8080/",
          "height": 419
        },
        "id": "vdUlmZYp8jRn",
        "outputId": "88051c61-e8c1-4cae-e4fc-5d903baafb48"
      },
      "source": [
        "df = pd.read_csv(LookUpPath)\n",
        "LookUp_df = df[0:263]\n",
        "LookUp_df"
      ],
      "execution_count": null,
      "outputs": [
        {
          "output_type": "execute_result",
          "data": {
            "text/html": [
              "<div>\n",
              "<style scoped>\n",
              "    .dataframe tbody tr th:only-of-type {\n",
              "        vertical-align: middle;\n",
              "    }\n",
              "\n",
              "    .dataframe tbody tr th {\n",
              "        vertical-align: top;\n",
              "    }\n",
              "\n",
              "    .dataframe thead th {\n",
              "        text-align: right;\n",
              "    }\n",
              "</style>\n",
              "<table border=\"1\" class=\"dataframe\">\n",
              "  <thead>\n",
              "    <tr style=\"text-align: right;\">\n",
              "      <th></th>\n",
              "      <th>LocationID</th>\n",
              "      <th>Borough</th>\n",
              "      <th>Zone</th>\n",
              "      <th>service_zone</th>\n",
              "    </tr>\n",
              "  </thead>\n",
              "  <tbody>\n",
              "    <tr>\n",
              "      <th>0</th>\n",
              "      <td>1</td>\n",
              "      <td>EWR</td>\n",
              "      <td>Newark Airport</td>\n",
              "      <td>EWR</td>\n",
              "    </tr>\n",
              "    <tr>\n",
              "      <th>1</th>\n",
              "      <td>2</td>\n",
              "      <td>Queens</td>\n",
              "      <td>Jamaica Bay</td>\n",
              "      <td>Boro Zone</td>\n",
              "    </tr>\n",
              "    <tr>\n",
              "      <th>2</th>\n",
              "      <td>3</td>\n",
              "      <td>Bronx</td>\n",
              "      <td>Allerton/Pelham Gardens</td>\n",
              "      <td>Boro Zone</td>\n",
              "    </tr>\n",
              "    <tr>\n",
              "      <th>3</th>\n",
              "      <td>4</td>\n",
              "      <td>Manhattan</td>\n",
              "      <td>Alphabet City</td>\n",
              "      <td>Yellow Zone</td>\n",
              "    </tr>\n",
              "    <tr>\n",
              "      <th>4</th>\n",
              "      <td>5</td>\n",
              "      <td>Staten Island</td>\n",
              "      <td>Arden Heights</td>\n",
              "      <td>Boro Zone</td>\n",
              "    </tr>\n",
              "    <tr>\n",
              "      <th>...</th>\n",
              "      <td>...</td>\n",
              "      <td>...</td>\n",
              "      <td>...</td>\n",
              "      <td>...</td>\n",
              "    </tr>\n",
              "    <tr>\n",
              "      <th>258</th>\n",
              "      <td>259</td>\n",
              "      <td>Bronx</td>\n",
              "      <td>Woodlawn/Wakefield</td>\n",
              "      <td>Boro Zone</td>\n",
              "    </tr>\n",
              "    <tr>\n",
              "      <th>259</th>\n",
              "      <td>260</td>\n",
              "      <td>Queens</td>\n",
              "      <td>Woodside</td>\n",
              "      <td>Boro Zone</td>\n",
              "    </tr>\n",
              "    <tr>\n",
              "      <th>260</th>\n",
              "      <td>261</td>\n",
              "      <td>Manhattan</td>\n",
              "      <td>World Trade Center</td>\n",
              "      <td>Yellow Zone</td>\n",
              "    </tr>\n",
              "    <tr>\n",
              "      <th>261</th>\n",
              "      <td>262</td>\n",
              "      <td>Manhattan</td>\n",
              "      <td>Yorkville East</td>\n",
              "      <td>Yellow Zone</td>\n",
              "    </tr>\n",
              "    <tr>\n",
              "      <th>262</th>\n",
              "      <td>263</td>\n",
              "      <td>Manhattan</td>\n",
              "      <td>Yorkville West</td>\n",
              "      <td>Yellow Zone</td>\n",
              "    </tr>\n",
              "  </tbody>\n",
              "</table>\n",
              "<p>263 rows × 4 columns</p>\n",
              "</div>"
            ],
            "text/plain": [
              "     LocationID        Borough                     Zone service_zone\n",
              "0             1            EWR           Newark Airport          EWR\n",
              "1             2         Queens              Jamaica Bay    Boro Zone\n",
              "2             3          Bronx  Allerton/Pelham Gardens    Boro Zone\n",
              "3             4      Manhattan            Alphabet City  Yellow Zone\n",
              "4             5  Staten Island            Arden Heights    Boro Zone\n",
              "..          ...            ...                      ...          ...\n",
              "258         259          Bronx       Woodlawn/Wakefield    Boro Zone\n",
              "259         260         Queens                 Woodside    Boro Zone\n",
              "260         261      Manhattan       World Trade Center  Yellow Zone\n",
              "261         262      Manhattan           Yorkville East  Yellow Zone\n",
              "262         263      Manhattan           Yorkville West  Yellow Zone\n",
              "\n",
              "[263 rows x 4 columns]"
            ]
          },
          "metadata": {
            "tags": []
          },
          "execution_count": 329
        }
      ]
    },
    {
      "cell_type": "code",
      "metadata": {
        "colab": {
          "base_uri": "https://localhost:8080/"
        },
        "id": "klOKLe9ZysfG",
        "outputId": "d5cad588-9927-4653-bfb1-106531f6feac"
      },
      "source": [
        "Zone_list = []\n",
        "zone_split_list = LookUp_df['Zone'].str.split(pat = \"/\")\n",
        "for i in range(len(zone_split_list)):\n",
        "  if(len(zone_split_list[i])>1):\n",
        "    Zone_list.append(zone_split_list[i][0])\n",
        "\n",
        "  else:\n",
        "    Zone_list.append(zone_split_list[i][0])\n",
        "  \n",
        "len(Zone_list)"
      ],
      "execution_count": null,
      "outputs": [
        {
          "output_type": "execute_result",
          "data": {
            "text/plain": [
              "263"
            ]
          },
          "metadata": {
            "tags": []
          },
          "execution_count": 330
        }
      ]
    },
    {
      "cell_type": "code",
      "metadata": {
        "colab": {
          "base_uri": "https://localhost:8080/"
        },
        "id": "Ek3rWcX-CYWY",
        "outputId": "9f780d51-59fd-470e-8d03-e7d113f95ee5"
      },
      "source": [
        "LookUp_df['Zone_unique'] = Zone_list"
      ],
      "execution_count": null,
      "outputs": [
        {
          "output_type": "stream",
          "text": [
            "/usr/local/lib/python3.6/dist-packages/ipykernel_launcher.py:1: SettingWithCopyWarning: \n",
            "A value is trying to be set on a copy of a slice from a DataFrame.\n",
            "Try using .loc[row_indexer,col_indexer] = value instead\n",
            "\n",
            "See the caveats in the documentation: https://pandas.pydata.org/pandas-docs/stable/user_guide/indexing.html#returning-a-view-versus-a-copy\n",
            "  \"\"\"Entry point for launching an IPython kernel.\n"
          ],
          "name": "stderr"
        }
      ]
    },
    {
      "cell_type": "code",
      "metadata": {
        "id": "pKXM2SqEChfq"
      },
      "source": [
        "LookUp_df = LookUp_df.drop(['Zone'], axis=1)"
      ],
      "execution_count": null,
      "outputs": []
    },
    {
      "cell_type": "code",
      "metadata": {
        "id": "f8ncy5-j829q"
      },
      "source": [
        "Latitude = []\n",
        "Longitude = []\n",
        "geolocator = Nominatim(user_agent=\"Machine Learning Project\", timeout = 10)\n",
        "for str in LookUp_df['Zone_unique']:\n",
        "  if geolocator.geocode(str)!= None:\n",
        "    Latitude.append(geolocator.geocode(str).latitude)\n",
        "    Longitude.append(geolocator.geocode(str).longitude)\n",
        "\n",
        "  else:\n",
        "    Latitude.append(np.nan) \n",
        "    Longitude.append(np.nan) "
      ],
      "execution_count": null,
      "outputs": []
    },
    {
      "cell_type": "code",
      "metadata": {
        "colab": {
          "base_uri": "https://localhost:8080/"
        },
        "id": "SujAQlHu8-nn",
        "outputId": "39ccbb0f-76a0-47e7-e924-6313af9fce7e"
      },
      "source": [
        "LookUp_df['Latitude'] = Latitude\n",
        "LookUp_df['Longitude'] = Longitude\n",
        "print(LookUp_df.iloc[255]['Zone_unique'])\n",
        "str=\"Williamsburg\"\n",
        "print(geolocator.geocode(str).latitude)\n",
        "geolocator.geocode(str).longitude"
      ],
      "execution_count": null,
      "outputs": [
        {
          "output_type": "stream",
          "text": [
            "Williamsburg (South Side)\n",
            "37.27892105\n"
          ],
          "name": "stdout"
        },
        {
          "output_type": "execute_result",
          "data": {
            "text/plain": [
              "-76.69448606443117"
            ]
          },
          "metadata": {
            "tags": []
          },
          "execution_count": 334
        }
      ]
    },
    {
      "cell_type": "code",
      "metadata": {
        "colab": {
          "base_uri": "https://localhost:8080/",
          "height": 419
        },
        "id": "f0Sv1NUPlzXe",
        "outputId": "e193b306-8c14-48a9-c00b-cd2ba8dd74ef"
      },
      "source": [
        "LookUp_df"
      ],
      "execution_count": null,
      "outputs": [
        {
          "output_type": "execute_result",
          "data": {
            "text/html": [
              "<div>\n",
              "<style scoped>\n",
              "    .dataframe tbody tr th:only-of-type {\n",
              "        vertical-align: middle;\n",
              "    }\n",
              "\n",
              "    .dataframe tbody tr th {\n",
              "        vertical-align: top;\n",
              "    }\n",
              "\n",
              "    .dataframe thead th {\n",
              "        text-align: right;\n",
              "    }\n",
              "</style>\n",
              "<table border=\"1\" class=\"dataframe\">\n",
              "  <thead>\n",
              "    <tr style=\"text-align: right;\">\n",
              "      <th></th>\n",
              "      <th>LocationID</th>\n",
              "      <th>Borough</th>\n",
              "      <th>service_zone</th>\n",
              "      <th>Zone_unique</th>\n",
              "      <th>Latitude</th>\n",
              "      <th>Longitude</th>\n",
              "    </tr>\n",
              "  </thead>\n",
              "  <tbody>\n",
              "    <tr>\n",
              "      <th>0</th>\n",
              "      <td>1</td>\n",
              "      <td>EWR</td>\n",
              "      <td>EWR</td>\n",
              "      <td>Newark Airport</td>\n",
              "      <td>40.689064</td>\n",
              "      <td>-74.177255</td>\n",
              "    </tr>\n",
              "    <tr>\n",
              "      <th>1</th>\n",
              "      <td>2</td>\n",
              "      <td>Queens</td>\n",
              "      <td>Boro Zone</td>\n",
              "      <td>Jamaica Bay</td>\n",
              "      <td>40.603994</td>\n",
              "      <td>-73.835412</td>\n",
              "    </tr>\n",
              "    <tr>\n",
              "      <th>2</th>\n",
              "      <td>3</td>\n",
              "      <td>Bronx</td>\n",
              "      <td>Boro Zone</td>\n",
              "      <td>Allerton</td>\n",
              "      <td>39.915319</td>\n",
              "      <td>-87.933215</td>\n",
              "    </tr>\n",
              "    <tr>\n",
              "      <th>3</th>\n",
              "      <td>4</td>\n",
              "      <td>Manhattan</td>\n",
              "      <td>Yellow Zone</td>\n",
              "      <td>Alphabet City</td>\n",
              "      <td>40.725102</td>\n",
              "      <td>-73.979583</td>\n",
              "    </tr>\n",
              "    <tr>\n",
              "      <th>4</th>\n",
              "      <td>5</td>\n",
              "      <td>Staten Island</td>\n",
              "      <td>Boro Zone</td>\n",
              "      <td>Arden Heights</td>\n",
              "      <td>53.284320</td>\n",
              "      <td>-7.492801</td>\n",
              "    </tr>\n",
              "    <tr>\n",
              "      <th>...</th>\n",
              "      <td>...</td>\n",
              "      <td>...</td>\n",
              "      <td>...</td>\n",
              "      <td>...</td>\n",
              "      <td>...</td>\n",
              "      <td>...</td>\n",
              "    </tr>\n",
              "    <tr>\n",
              "      <th>258</th>\n",
              "      <td>259</td>\n",
              "      <td>Bronx</td>\n",
              "      <td>Boro Zone</td>\n",
              "      <td>Woodlawn</td>\n",
              "      <td>38.330050</td>\n",
              "      <td>-89.032569</td>\n",
              "    </tr>\n",
              "    <tr>\n",
              "      <th>259</th>\n",
              "      <td>260</td>\n",
              "      <td>Queens</td>\n",
              "      <td>Boro Zone</td>\n",
              "      <td>Woodside</td>\n",
              "      <td>37.429939</td>\n",
              "      <td>-122.253856</td>\n",
              "    </tr>\n",
              "    <tr>\n",
              "      <th>260</th>\n",
              "      <td>261</td>\n",
              "      <td>Manhattan</td>\n",
              "      <td>Yellow Zone</td>\n",
              "      <td>World Trade Center</td>\n",
              "      <td>40.711888</td>\n",
              "      <td>-74.012441</td>\n",
              "    </tr>\n",
              "    <tr>\n",
              "      <th>261</th>\n",
              "      <td>262</td>\n",
              "      <td>Manhattan</td>\n",
              "      <td>Yellow Zone</td>\n",
              "      <td>Yorkville East</td>\n",
              "      <td>40.778007</td>\n",
              "      <td>-73.948202</td>\n",
              "    </tr>\n",
              "    <tr>\n",
              "      <th>262</th>\n",
              "      <td>263</td>\n",
              "      <td>Manhattan</td>\n",
              "      <td>Yellow Zone</td>\n",
              "      <td>Yorkville West</td>\n",
              "      <td>40.778007</td>\n",
              "      <td>-73.948202</td>\n",
              "    </tr>\n",
              "  </tbody>\n",
              "</table>\n",
              "<p>263 rows × 6 columns</p>\n",
              "</div>"
            ],
            "text/plain": [
              "     LocationID        Borough  ...   Latitude   Longitude\n",
              "0             1            EWR  ...  40.689064  -74.177255\n",
              "1             2         Queens  ...  40.603994  -73.835412\n",
              "2             3          Bronx  ...  39.915319  -87.933215\n",
              "3             4      Manhattan  ...  40.725102  -73.979583\n",
              "4             5  Staten Island  ...  53.284320   -7.492801\n",
              "..          ...            ...  ...        ...         ...\n",
              "258         259          Bronx  ...  38.330050  -89.032569\n",
              "259         260         Queens  ...  37.429939 -122.253856\n",
              "260         261      Manhattan  ...  40.711888  -74.012441\n",
              "261         262      Manhattan  ...  40.778007  -73.948202\n",
              "262         263      Manhattan  ...  40.778007  -73.948202\n",
              "\n",
              "[263 rows x 6 columns]"
            ]
          },
          "metadata": {
            "tags": []
          },
          "execution_count": 335
        }
      ]
    },
    {
      "cell_type": "code",
      "metadata": {
        "colab": {
          "base_uri": "https://localhost:8080/"
        },
        "id": "jKgotj--zFs_",
        "outputId": "1a7e610b-775f-4160-9bef-d649ce7cc4bc"
      },
      "source": [
        "len(LookUp_df['Zone_unique'].unique())"
      ],
      "execution_count": null,
      "outputs": [
        {
          "output_type": "execute_result",
          "data": {
            "text/plain": [
              "254"
            ]
          },
          "metadata": {
            "tags": []
          },
          "execution_count": 336
        }
      ]
    },
    {
      "cell_type": "code",
      "metadata": {
        "id": "H4oNTUW7Jvr-"
      },
      "source": [
        "LookUp_df.loc[255, 'Latitude'] = 37.27892105\n",
        "LookUp_df.loc[255, 'Longitude'] = -76.69448606443117"
      ],
      "execution_count": null,
      "outputs": []
    },
    {
      "cell_type": "code",
      "metadata": {
        "colab": {
          "base_uri": "https://localhost:8080/",
          "height": 669
        },
        "id": "o5E3EWYVJhzr",
        "outputId": "5bd89d7f-2b08-4050-ee39-eea1c88982d9"
      },
      "source": [
        "LookUp_df[240:260]"
      ],
      "execution_count": null,
      "outputs": [
        {
          "output_type": "execute_result",
          "data": {
            "text/html": [
              "<div>\n",
              "<style scoped>\n",
              "    .dataframe tbody tr th:only-of-type {\n",
              "        vertical-align: middle;\n",
              "    }\n",
              "\n",
              "    .dataframe tbody tr th {\n",
              "        vertical-align: top;\n",
              "    }\n",
              "\n",
              "    .dataframe thead th {\n",
              "        text-align: right;\n",
              "    }\n",
              "</style>\n",
              "<table border=\"1\" class=\"dataframe\">\n",
              "  <thead>\n",
              "    <tr style=\"text-align: right;\">\n",
              "      <th></th>\n",
              "      <th>LocationID</th>\n",
              "      <th>Borough</th>\n",
              "      <th>service_zone</th>\n",
              "      <th>Zone_unique</th>\n",
              "      <th>Latitude</th>\n",
              "      <th>Longitude</th>\n",
              "    </tr>\n",
              "  </thead>\n",
              "  <tbody>\n",
              "    <tr>\n",
              "      <th>240</th>\n",
              "      <td>241</td>\n",
              "      <td>Bronx</td>\n",
              "      <td>Boro Zone</td>\n",
              "      <td>Van Cortlandt Village</td>\n",
              "      <td>41.248694</td>\n",
              "      <td>-73.908586</td>\n",
              "    </tr>\n",
              "    <tr>\n",
              "      <th>241</th>\n",
              "      <td>242</td>\n",
              "      <td>Bronx</td>\n",
              "      <td>Boro Zone</td>\n",
              "      <td>Van Nest</td>\n",
              "      <td>40.848434</td>\n",
              "      <td>-73.863746</td>\n",
              "    </tr>\n",
              "    <tr>\n",
              "      <th>242</th>\n",
              "      <td>243</td>\n",
              "      <td>Manhattan</td>\n",
              "      <td>Boro Zone</td>\n",
              "      <td>Washington Heights North</td>\n",
              "      <td>40.840198</td>\n",
              "      <td>-73.940221</td>\n",
              "    </tr>\n",
              "    <tr>\n",
              "      <th>243</th>\n",
              "      <td>244</td>\n",
              "      <td>Manhattan</td>\n",
              "      <td>Boro Zone</td>\n",
              "      <td>Washington Heights South</td>\n",
              "      <td>40.883325</td>\n",
              "      <td>-72.515328</td>\n",
              "    </tr>\n",
              "    <tr>\n",
              "      <th>244</th>\n",
              "      <td>245</td>\n",
              "      <td>Staten Island</td>\n",
              "      <td>Boro Zone</td>\n",
              "      <td>West Brighton</td>\n",
              "      <td>40.578087</td>\n",
              "      <td>-73.974925</td>\n",
              "    </tr>\n",
              "    <tr>\n",
              "      <th>245</th>\n",
              "      <td>246</td>\n",
              "      <td>Manhattan</td>\n",
              "      <td>Yellow Zone</td>\n",
              "      <td>West Chelsea</td>\n",
              "      <td>37.915937</td>\n",
              "      <td>-96.785860</td>\n",
              "    </tr>\n",
              "    <tr>\n",
              "      <th>246</th>\n",
              "      <td>247</td>\n",
              "      <td>Bronx</td>\n",
              "      <td>Boro Zone</td>\n",
              "      <td>West Concourse</td>\n",
              "      <td>40.190987</td>\n",
              "      <td>-74.029083</td>\n",
              "    </tr>\n",
              "    <tr>\n",
              "      <th>247</th>\n",
              "      <td>248</td>\n",
              "      <td>Bronx</td>\n",
              "      <td>Boro Zone</td>\n",
              "      <td>West Farms</td>\n",
              "      <td>40.192057</td>\n",
              "      <td>-74.201255</td>\n",
              "    </tr>\n",
              "    <tr>\n",
              "      <th>248</th>\n",
              "      <td>249</td>\n",
              "      <td>Manhattan</td>\n",
              "      <td>Yellow Zone</td>\n",
              "      <td>West Village</td>\n",
              "      <td>40.734186</td>\n",
              "      <td>-74.005580</td>\n",
              "    </tr>\n",
              "    <tr>\n",
              "      <th>249</th>\n",
              "      <td>250</td>\n",
              "      <td>Bronx</td>\n",
              "      <td>Boro Zone</td>\n",
              "      <td>Westchester Village</td>\n",
              "      <td>42.539702</td>\n",
              "      <td>-83.255017</td>\n",
              "    </tr>\n",
              "    <tr>\n",
              "      <th>250</th>\n",
              "      <td>251</td>\n",
              "      <td>Staten Island</td>\n",
              "      <td>Boro Zone</td>\n",
              "      <td>Westerleigh</td>\n",
              "      <td>51.516541</td>\n",
              "      <td>-2.434635</td>\n",
              "    </tr>\n",
              "    <tr>\n",
              "      <th>251</th>\n",
              "      <td>252</td>\n",
              "      <td>Queens</td>\n",
              "      <td>Boro Zone</td>\n",
              "      <td>Whitestone</td>\n",
              "      <td>40.794546</td>\n",
              "      <td>-73.818467</td>\n",
              "    </tr>\n",
              "    <tr>\n",
              "      <th>252</th>\n",
              "      <td>253</td>\n",
              "      <td>Queens</td>\n",
              "      <td>Boro Zone</td>\n",
              "      <td>Willets Point</td>\n",
              "      <td>40.796708</td>\n",
              "      <td>-73.779396</td>\n",
              "    </tr>\n",
              "    <tr>\n",
              "      <th>253</th>\n",
              "      <td>254</td>\n",
              "      <td>Bronx</td>\n",
              "      <td>Boro Zone</td>\n",
              "      <td>Williamsbridge</td>\n",
              "      <td>40.877624</td>\n",
              "      <td>-73.877520</td>\n",
              "    </tr>\n",
              "    <tr>\n",
              "      <th>254</th>\n",
              "      <td>255</td>\n",
              "      <td>Brooklyn</td>\n",
              "      <td>Boro Zone</td>\n",
              "      <td>Williamsburg (North Side)</td>\n",
              "      <td>40.714622</td>\n",
              "      <td>-73.953450</td>\n",
              "    </tr>\n",
              "    <tr>\n",
              "      <th>255</th>\n",
              "      <td>256</td>\n",
              "      <td>Brooklyn</td>\n",
              "      <td>Boro Zone</td>\n",
              "      <td>Williamsburg (South Side)</td>\n",
              "      <td>37.278921</td>\n",
              "      <td>-76.694486</td>\n",
              "    </tr>\n",
              "    <tr>\n",
              "      <th>256</th>\n",
              "      <td>257</td>\n",
              "      <td>Brooklyn</td>\n",
              "      <td>Boro Zone</td>\n",
              "      <td>Windsor Terrace</td>\n",
              "      <td>40.655785</td>\n",
              "      <td>-73.976544</td>\n",
              "    </tr>\n",
              "    <tr>\n",
              "      <th>257</th>\n",
              "      <td>258</td>\n",
              "      <td>Queens</td>\n",
              "      <td>Boro Zone</td>\n",
              "      <td>Woodhaven</td>\n",
              "      <td>42.137052</td>\n",
              "      <td>-83.245107</td>\n",
              "    </tr>\n",
              "    <tr>\n",
              "      <th>258</th>\n",
              "      <td>259</td>\n",
              "      <td>Bronx</td>\n",
              "      <td>Boro Zone</td>\n",
              "      <td>Woodlawn</td>\n",
              "      <td>38.330050</td>\n",
              "      <td>-89.032569</td>\n",
              "    </tr>\n",
              "    <tr>\n",
              "      <th>259</th>\n",
              "      <td>260</td>\n",
              "      <td>Queens</td>\n",
              "      <td>Boro Zone</td>\n",
              "      <td>Woodside</td>\n",
              "      <td>37.429939</td>\n",
              "      <td>-122.253856</td>\n",
              "    </tr>\n",
              "  </tbody>\n",
              "</table>\n",
              "</div>"
            ],
            "text/plain": [
              "     LocationID        Borough  ...   Latitude   Longitude\n",
              "240         241          Bronx  ...  41.248694  -73.908586\n",
              "241         242          Bronx  ...  40.848434  -73.863746\n",
              "242         243      Manhattan  ...  40.840198  -73.940221\n",
              "243         244      Manhattan  ...  40.883325  -72.515328\n",
              "244         245  Staten Island  ...  40.578087  -73.974925\n",
              "245         246      Manhattan  ...  37.915937  -96.785860\n",
              "246         247          Bronx  ...  40.190987  -74.029083\n",
              "247         248          Bronx  ...  40.192057  -74.201255\n",
              "248         249      Manhattan  ...  40.734186  -74.005580\n",
              "249         250          Bronx  ...  42.539702  -83.255017\n",
              "250         251  Staten Island  ...  51.516541   -2.434635\n",
              "251         252         Queens  ...  40.794546  -73.818467\n",
              "252         253         Queens  ...  40.796708  -73.779396\n",
              "253         254          Bronx  ...  40.877624  -73.877520\n",
              "254         255       Brooklyn  ...  40.714622  -73.953450\n",
              "255         256       Brooklyn  ...  37.278921  -76.694486\n",
              "256         257       Brooklyn  ...  40.655785  -73.976544\n",
              "257         258         Queens  ...  42.137052  -83.245107\n",
              "258         259          Bronx  ...  38.330050  -89.032569\n",
              "259         260         Queens  ...  37.429939 -122.253856\n",
              "\n",
              "[20 rows x 6 columns]"
            ]
          },
          "metadata": {
            "tags": []
          },
          "execution_count": 338
        }
      ]
    },
    {
      "cell_type": "code",
      "metadata": {
        "colab": {
          "base_uri": "https://localhost:8080/",
          "height": 669
        },
        "id": "30u8-_Fev7Z0",
        "outputId": "2b16981e-5dc3-494d-8a96-cce015c9fdd2"
      },
      "source": [
        "LookUp_df_PULocation = LookUp_df.rename(columns={'LocationID': 'PULocationID'})\n",
        "LookUp_df_PULocation = LookUp_df_PULocation.drop(['Borough', 'Zone_unique', 'service_zone'], axis=1)\n",
        "LookUp_df_PULocation[240:260]"
      ],
      "execution_count": null,
      "outputs": [
        {
          "output_type": "execute_result",
          "data": {
            "text/html": [
              "<div>\n",
              "<style scoped>\n",
              "    .dataframe tbody tr th:only-of-type {\n",
              "        vertical-align: middle;\n",
              "    }\n",
              "\n",
              "    .dataframe tbody tr th {\n",
              "        vertical-align: top;\n",
              "    }\n",
              "\n",
              "    .dataframe thead th {\n",
              "        text-align: right;\n",
              "    }\n",
              "</style>\n",
              "<table border=\"1\" class=\"dataframe\">\n",
              "  <thead>\n",
              "    <tr style=\"text-align: right;\">\n",
              "      <th></th>\n",
              "      <th>PULocationID</th>\n",
              "      <th>Latitude</th>\n",
              "      <th>Longitude</th>\n",
              "    </tr>\n",
              "  </thead>\n",
              "  <tbody>\n",
              "    <tr>\n",
              "      <th>240</th>\n",
              "      <td>241</td>\n",
              "      <td>41.248694</td>\n",
              "      <td>-73.908586</td>\n",
              "    </tr>\n",
              "    <tr>\n",
              "      <th>241</th>\n",
              "      <td>242</td>\n",
              "      <td>40.848434</td>\n",
              "      <td>-73.863746</td>\n",
              "    </tr>\n",
              "    <tr>\n",
              "      <th>242</th>\n",
              "      <td>243</td>\n",
              "      <td>40.840198</td>\n",
              "      <td>-73.940221</td>\n",
              "    </tr>\n",
              "    <tr>\n",
              "      <th>243</th>\n",
              "      <td>244</td>\n",
              "      <td>40.883325</td>\n",
              "      <td>-72.515328</td>\n",
              "    </tr>\n",
              "    <tr>\n",
              "      <th>244</th>\n",
              "      <td>245</td>\n",
              "      <td>40.578087</td>\n",
              "      <td>-73.974925</td>\n",
              "    </tr>\n",
              "    <tr>\n",
              "      <th>245</th>\n",
              "      <td>246</td>\n",
              "      <td>37.915937</td>\n",
              "      <td>-96.785860</td>\n",
              "    </tr>\n",
              "    <tr>\n",
              "      <th>246</th>\n",
              "      <td>247</td>\n",
              "      <td>40.190987</td>\n",
              "      <td>-74.029083</td>\n",
              "    </tr>\n",
              "    <tr>\n",
              "      <th>247</th>\n",
              "      <td>248</td>\n",
              "      <td>40.192057</td>\n",
              "      <td>-74.201255</td>\n",
              "    </tr>\n",
              "    <tr>\n",
              "      <th>248</th>\n",
              "      <td>249</td>\n",
              "      <td>40.734186</td>\n",
              "      <td>-74.005580</td>\n",
              "    </tr>\n",
              "    <tr>\n",
              "      <th>249</th>\n",
              "      <td>250</td>\n",
              "      <td>42.539702</td>\n",
              "      <td>-83.255017</td>\n",
              "    </tr>\n",
              "    <tr>\n",
              "      <th>250</th>\n",
              "      <td>251</td>\n",
              "      <td>51.516541</td>\n",
              "      <td>-2.434635</td>\n",
              "    </tr>\n",
              "    <tr>\n",
              "      <th>251</th>\n",
              "      <td>252</td>\n",
              "      <td>40.794546</td>\n",
              "      <td>-73.818467</td>\n",
              "    </tr>\n",
              "    <tr>\n",
              "      <th>252</th>\n",
              "      <td>253</td>\n",
              "      <td>40.796708</td>\n",
              "      <td>-73.779396</td>\n",
              "    </tr>\n",
              "    <tr>\n",
              "      <th>253</th>\n",
              "      <td>254</td>\n",
              "      <td>40.877624</td>\n",
              "      <td>-73.877520</td>\n",
              "    </tr>\n",
              "    <tr>\n",
              "      <th>254</th>\n",
              "      <td>255</td>\n",
              "      <td>40.714622</td>\n",
              "      <td>-73.953450</td>\n",
              "    </tr>\n",
              "    <tr>\n",
              "      <th>255</th>\n",
              "      <td>256</td>\n",
              "      <td>37.278921</td>\n",
              "      <td>-76.694486</td>\n",
              "    </tr>\n",
              "    <tr>\n",
              "      <th>256</th>\n",
              "      <td>257</td>\n",
              "      <td>40.655785</td>\n",
              "      <td>-73.976544</td>\n",
              "    </tr>\n",
              "    <tr>\n",
              "      <th>257</th>\n",
              "      <td>258</td>\n",
              "      <td>42.137052</td>\n",
              "      <td>-83.245107</td>\n",
              "    </tr>\n",
              "    <tr>\n",
              "      <th>258</th>\n",
              "      <td>259</td>\n",
              "      <td>38.330050</td>\n",
              "      <td>-89.032569</td>\n",
              "    </tr>\n",
              "    <tr>\n",
              "      <th>259</th>\n",
              "      <td>260</td>\n",
              "      <td>37.429939</td>\n",
              "      <td>-122.253856</td>\n",
              "    </tr>\n",
              "  </tbody>\n",
              "</table>\n",
              "</div>"
            ],
            "text/plain": [
              "     PULocationID   Latitude   Longitude\n",
              "240           241  41.248694  -73.908586\n",
              "241           242  40.848434  -73.863746\n",
              "242           243  40.840198  -73.940221\n",
              "243           244  40.883325  -72.515328\n",
              "244           245  40.578087  -73.974925\n",
              "245           246  37.915937  -96.785860\n",
              "246           247  40.190987  -74.029083\n",
              "247           248  40.192057  -74.201255\n",
              "248           249  40.734186  -74.005580\n",
              "249           250  42.539702  -83.255017\n",
              "250           251  51.516541   -2.434635\n",
              "251           252  40.794546  -73.818467\n",
              "252           253  40.796708  -73.779396\n",
              "253           254  40.877624  -73.877520\n",
              "254           255  40.714622  -73.953450\n",
              "255           256  37.278921  -76.694486\n",
              "256           257  40.655785  -73.976544\n",
              "257           258  42.137052  -83.245107\n",
              "258           259  38.330050  -89.032569\n",
              "259           260  37.429939 -122.253856"
            ]
          },
          "metadata": {
            "tags": []
          },
          "execution_count": 339
        }
      ]
    },
    {
      "cell_type": "code",
      "metadata": {
        "colab": {
          "base_uri": "https://localhost:8080/",
          "height": 439
        },
        "id": "tZbiDbVguQ8o",
        "outputId": "256fef59-f302-4a65-a47c-2dd69e261cc6"
      },
      "source": [
        "Main_df_loc = Main_df.merge(LookUp_df_PULocation, on='PULocationID')\n",
        "Main_df_loc_PU = Main_df_loc.rename(columns={'Latitude': 'PULatitude', 'Longitude':'PULongitude'})\n",
        "Main_df_loc_PU"
      ],
      "execution_count": null,
      "outputs": [
        {
          "output_type": "execute_result",
          "data": {
            "text/html": [
              "<div>\n",
              "<style scoped>\n",
              "    .dataframe tbody tr th:only-of-type {\n",
              "        vertical-align: middle;\n",
              "    }\n",
              "\n",
              "    .dataframe tbody tr th {\n",
              "        vertical-align: top;\n",
              "    }\n",
              "\n",
              "    .dataframe thead th {\n",
              "        text-align: right;\n",
              "    }\n",
              "</style>\n",
              "<table border=\"1\" class=\"dataframe\">\n",
              "  <thead>\n",
              "    <tr style=\"text-align: right;\">\n",
              "      <th></th>\n",
              "      <th>VendorID</th>\n",
              "      <th>tpep_pickup_datetime</th>\n",
              "      <th>tpep_dropoff_datetime</th>\n",
              "      <th>passenger_count</th>\n",
              "      <th>trip_distance</th>\n",
              "      <th>RatecodeID</th>\n",
              "      <th>store_and_fwd_flag</th>\n",
              "      <th>PULocationID</th>\n",
              "      <th>DOLocationID</th>\n",
              "      <th>payment_type</th>\n",
              "      <th>fare_amount</th>\n",
              "      <th>extra</th>\n",
              "      <th>mta_tax</th>\n",
              "      <th>tip_amount</th>\n",
              "      <th>tolls_amount</th>\n",
              "      <th>improvement_surcharge</th>\n",
              "      <th>total_amount</th>\n",
              "      <th>congestion_surcharge</th>\n",
              "      <th>trip_duration</th>\n",
              "      <th>speed</th>\n",
              "      <th>PULatitude</th>\n",
              "      <th>PULongitude</th>\n",
              "    </tr>\n",
              "  </thead>\n",
              "  <tbody>\n",
              "    <tr>\n",
              "      <th>0</th>\n",
              "      <td>1.0</td>\n",
              "      <td>2020-03-01 00:31:13</td>\n",
              "      <td>2020-03-01 01:01:42</td>\n",
              "      <td>1.0</td>\n",
              "      <td>4.70</td>\n",
              "      <td>1.0</td>\n",
              "      <td>N</td>\n",
              "      <td>88</td>\n",
              "      <td>255</td>\n",
              "      <td>1.0</td>\n",
              "      <td>22.00</td>\n",
              "      <td>3.0</td>\n",
              "      <td>0.5</td>\n",
              "      <td>2.00</td>\n",
              "      <td>0.00</td>\n",
              "      <td>0.3</td>\n",
              "      <td>27.80</td>\n",
              "      <td>2.5</td>\n",
              "      <td>30.483333</td>\n",
              "      <td>9.250957</td>\n",
              "      <td>40.707612</td>\n",
              "      <td>-74.009378</td>\n",
              "    </tr>\n",
              "    <tr>\n",
              "      <th>1</th>\n",
              "      <td>1.0</td>\n",
              "      <td>2020-03-01 00:05:44</td>\n",
              "      <td>2020-03-01 00:19:54</td>\n",
              "      <td>2.0</td>\n",
              "      <td>8.00</td>\n",
              "      <td>1.0</td>\n",
              "      <td>N</td>\n",
              "      <td>88</td>\n",
              "      <td>263</td>\n",
              "      <td>2.0</td>\n",
              "      <td>23.50</td>\n",
              "      <td>3.0</td>\n",
              "      <td>0.5</td>\n",
              "      <td>0.00</td>\n",
              "      <td>0.00</td>\n",
              "      <td>0.3</td>\n",
              "      <td>27.30</td>\n",
              "      <td>2.5</td>\n",
              "      <td>14.166667</td>\n",
              "      <td>33.882353</td>\n",
              "      <td>40.707612</td>\n",
              "      <td>-74.009378</td>\n",
              "    </tr>\n",
              "    <tr>\n",
              "      <th>2</th>\n",
              "      <td>2.0</td>\n",
              "      <td>2020-03-01 00:27:15</td>\n",
              "      <td>2020-03-01 00:47:22</td>\n",
              "      <td>2.0</td>\n",
              "      <td>3.34</td>\n",
              "      <td>1.0</td>\n",
              "      <td>N</td>\n",
              "      <td>88</td>\n",
              "      <td>170</td>\n",
              "      <td>1.0</td>\n",
              "      <td>14.50</td>\n",
              "      <td>0.5</td>\n",
              "      <td>0.5</td>\n",
              "      <td>3.66</td>\n",
              "      <td>0.00</td>\n",
              "      <td>0.3</td>\n",
              "      <td>21.96</td>\n",
              "      <td>2.5</td>\n",
              "      <td>20.116667</td>\n",
              "      <td>9.961889</td>\n",
              "      <td>40.707612</td>\n",
              "      <td>-74.009378</td>\n",
              "    </tr>\n",
              "    <tr>\n",
              "      <th>3</th>\n",
              "      <td>1.0</td>\n",
              "      <td>2020-03-01 00:29:40</td>\n",
              "      <td>2020-03-01 00:42:38</td>\n",
              "      <td>2.0</td>\n",
              "      <td>3.60</td>\n",
              "      <td>1.0</td>\n",
              "      <td>N</td>\n",
              "      <td>88</td>\n",
              "      <td>79</td>\n",
              "      <td>2.0</td>\n",
              "      <td>13.50</td>\n",
              "      <td>3.0</td>\n",
              "      <td>0.5</td>\n",
              "      <td>0.00</td>\n",
              "      <td>0.00</td>\n",
              "      <td>0.3</td>\n",
              "      <td>17.30</td>\n",
              "      <td>2.5</td>\n",
              "      <td>12.966667</td>\n",
              "      <td>16.658098</td>\n",
              "      <td>40.707612</td>\n",
              "      <td>-74.009378</td>\n",
              "    </tr>\n",
              "    <tr>\n",
              "      <th>4</th>\n",
              "      <td>1.0</td>\n",
              "      <td>2020-03-01 00:41:27</td>\n",
              "      <td>2020-03-01 00:57:10</td>\n",
              "      <td>2.0</td>\n",
              "      <td>2.90</td>\n",
              "      <td>1.0</td>\n",
              "      <td>N</td>\n",
              "      <td>88</td>\n",
              "      <td>249</td>\n",
              "      <td>1.0</td>\n",
              "      <td>13.00</td>\n",
              "      <td>3.0</td>\n",
              "      <td>0.5</td>\n",
              "      <td>3.35</td>\n",
              "      <td>0.00</td>\n",
              "      <td>0.3</td>\n",
              "      <td>20.15</td>\n",
              "      <td>2.5</td>\n",
              "      <td>15.716667</td>\n",
              "      <td>11.071050</td>\n",
              "      <td>40.707612</td>\n",
              "      <td>-74.009378</td>\n",
              "    </tr>\n",
              "    <tr>\n",
              "      <th>...</th>\n",
              "      <td>...</td>\n",
              "      <td>...</td>\n",
              "      <td>...</td>\n",
              "      <td>...</td>\n",
              "      <td>...</td>\n",
              "      <td>...</td>\n",
              "      <td>...</td>\n",
              "      <td>...</td>\n",
              "      <td>...</td>\n",
              "      <td>...</td>\n",
              "      <td>...</td>\n",
              "      <td>...</td>\n",
              "      <td>...</td>\n",
              "      <td>...</td>\n",
              "      <td>...</td>\n",
              "      <td>...</td>\n",
              "      <td>...</td>\n",
              "      <td>...</td>\n",
              "      <td>...</td>\n",
              "      <td>...</td>\n",
              "      <td>...</td>\n",
              "      <td>...</td>\n",
              "    </tr>\n",
              "    <tr>\n",
              "      <th>2923793</th>\n",
              "      <td>NaN</td>\n",
              "      <td>2020-03-09 17:30:00</td>\n",
              "      <td>2020-03-09 18:10:00</td>\n",
              "      <td>NaN</td>\n",
              "      <td>17.22</td>\n",
              "      <td>NaN</td>\n",
              "      <td>NaN</td>\n",
              "      <td>27</td>\n",
              "      <td>139</td>\n",
              "      <td>NaN</td>\n",
              "      <td>51.97</td>\n",
              "      <td>0.0</td>\n",
              "      <td>0.5</td>\n",
              "      <td>0.00</td>\n",
              "      <td>2.29</td>\n",
              "      <td>0.3</td>\n",
              "      <td>55.06</td>\n",
              "      <td>0.0</td>\n",
              "      <td>40.000000</td>\n",
              "      <td>25.830000</td>\n",
              "      <td>46.616630</td>\n",
              "      <td>-94.216935</td>\n",
              "    </tr>\n",
              "    <tr>\n",
              "      <th>2923794</th>\n",
              "      <td>NaN</td>\n",
              "      <td>2020-03-10 10:00:00</td>\n",
              "      <td>2020-03-10 10:20:00</td>\n",
              "      <td>NaN</td>\n",
              "      <td>7.72</td>\n",
              "      <td>NaN</td>\n",
              "      <td>NaN</td>\n",
              "      <td>27</td>\n",
              "      <td>91</td>\n",
              "      <td>NaN</td>\n",
              "      <td>21.40</td>\n",
              "      <td>0.0</td>\n",
              "      <td>0.5</td>\n",
              "      <td>0.00</td>\n",
              "      <td>2.29</td>\n",
              "      <td>0.3</td>\n",
              "      <td>24.49</td>\n",
              "      <td>0.0</td>\n",
              "      <td>20.000000</td>\n",
              "      <td>23.160000</td>\n",
              "      <td>46.616630</td>\n",
              "      <td>-94.216935</td>\n",
              "    </tr>\n",
              "    <tr>\n",
              "      <th>2923795</th>\n",
              "      <td>NaN</td>\n",
              "      <td>2020-03-17 06:48:00</td>\n",
              "      <td>2020-03-17 07:35:00</td>\n",
              "      <td>NaN</td>\n",
              "      <td>28.89</td>\n",
              "      <td>NaN</td>\n",
              "      <td>NaN</td>\n",
              "      <td>27</td>\n",
              "      <td>32</td>\n",
              "      <td>NaN</td>\n",
              "      <td>71.55</td>\n",
              "      <td>0.0</td>\n",
              "      <td>0.5</td>\n",
              "      <td>0.00</td>\n",
              "      <td>10.70</td>\n",
              "      <td>0.3</td>\n",
              "      <td>83.05</td>\n",
              "      <td>0.0</td>\n",
              "      <td>47.000000</td>\n",
              "      <td>36.880851</td>\n",
              "      <td>46.616630</td>\n",
              "      <td>-94.216935</td>\n",
              "    </tr>\n",
              "    <tr>\n",
              "      <th>2923796</th>\n",
              "      <td>NaN</td>\n",
              "      <td>2020-03-11 12:37:26</td>\n",
              "      <td>2020-03-11 13:15:09</td>\n",
              "      <td>NaN</td>\n",
              "      <td>23.55</td>\n",
              "      <td>NaN</td>\n",
              "      <td>NaN</td>\n",
              "      <td>245</td>\n",
              "      <td>179</td>\n",
              "      <td>NaN</td>\n",
              "      <td>60.98</td>\n",
              "      <td>0.0</td>\n",
              "      <td>0.0</td>\n",
              "      <td>0.00</td>\n",
              "      <td>25.99</td>\n",
              "      <td>0.3</td>\n",
              "      <td>89.22</td>\n",
              "      <td>0.0</td>\n",
              "      <td>37.716667</td>\n",
              "      <td>37.463544</td>\n",
              "      <td>40.578087</td>\n",
              "      <td>-73.974925</td>\n",
              "    </tr>\n",
              "    <tr>\n",
              "      <th>2923797</th>\n",
              "      <td>NaN</td>\n",
              "      <td>2020-03-19 14:12:00</td>\n",
              "      <td>2020-03-19 14:37:00</td>\n",
              "      <td>NaN</td>\n",
              "      <td>6.00</td>\n",
              "      <td>NaN</td>\n",
              "      <td>NaN</td>\n",
              "      <td>251</td>\n",
              "      <td>156</td>\n",
              "      <td>NaN</td>\n",
              "      <td>22.10</td>\n",
              "      <td>0.0</td>\n",
              "      <td>0.5</td>\n",
              "      <td>0.00</td>\n",
              "      <td>0.00</td>\n",
              "      <td>0.3</td>\n",
              "      <td>24.85</td>\n",
              "      <td>0.0</td>\n",
              "      <td>25.000000</td>\n",
              "      <td>14.400000</td>\n",
              "      <td>51.516541</td>\n",
              "      <td>-2.434635</td>\n",
              "    </tr>\n",
              "  </tbody>\n",
              "</table>\n",
              "<p>2923798 rows × 22 columns</p>\n",
              "</div>"
            ],
            "text/plain": [
              "         VendorID tpep_pickup_datetime  ... PULatitude  PULongitude\n",
              "0             1.0  2020-03-01 00:31:13  ...  40.707612   -74.009378\n",
              "1             1.0  2020-03-01 00:05:44  ...  40.707612   -74.009378\n",
              "2             2.0  2020-03-01 00:27:15  ...  40.707612   -74.009378\n",
              "3             1.0  2020-03-01 00:29:40  ...  40.707612   -74.009378\n",
              "4             1.0  2020-03-01 00:41:27  ...  40.707612   -74.009378\n",
              "...           ...                  ...  ...        ...          ...\n",
              "2923793       NaN  2020-03-09 17:30:00  ...  46.616630   -94.216935\n",
              "2923794       NaN  2020-03-10 10:00:00  ...  46.616630   -94.216935\n",
              "2923795       NaN  2020-03-17 06:48:00  ...  46.616630   -94.216935\n",
              "2923796       NaN  2020-03-11 12:37:26  ...  40.578087   -73.974925\n",
              "2923797       NaN  2020-03-19 14:12:00  ...  51.516541    -2.434635\n",
              "\n",
              "[2923798 rows x 22 columns]"
            ]
          },
          "metadata": {
            "tags": []
          },
          "execution_count": 340
        }
      ]
    },
    {
      "cell_type": "code",
      "metadata": {
        "colab": {
          "base_uri": "https://localhost:8080/",
          "height": 439
        },
        "id": "bw-Tqju8wd4x",
        "outputId": "d349761f-c53a-404a-c9cd-59c511afd991"
      },
      "source": [
        "Main_df_loc_PU = Main_df_loc.rename(columns={'Latitude': 'PULatitude', 'Longitude':'PULongitude'})\n",
        "Main_df_loc_PU"
      ],
      "execution_count": null,
      "outputs": [
        {
          "output_type": "execute_result",
          "data": {
            "text/html": [
              "<div>\n",
              "<style scoped>\n",
              "    .dataframe tbody tr th:only-of-type {\n",
              "        vertical-align: middle;\n",
              "    }\n",
              "\n",
              "    .dataframe tbody tr th {\n",
              "        vertical-align: top;\n",
              "    }\n",
              "\n",
              "    .dataframe thead th {\n",
              "        text-align: right;\n",
              "    }\n",
              "</style>\n",
              "<table border=\"1\" class=\"dataframe\">\n",
              "  <thead>\n",
              "    <tr style=\"text-align: right;\">\n",
              "      <th></th>\n",
              "      <th>VendorID</th>\n",
              "      <th>tpep_pickup_datetime</th>\n",
              "      <th>tpep_dropoff_datetime</th>\n",
              "      <th>passenger_count</th>\n",
              "      <th>trip_distance</th>\n",
              "      <th>RatecodeID</th>\n",
              "      <th>store_and_fwd_flag</th>\n",
              "      <th>PULocationID</th>\n",
              "      <th>DOLocationID</th>\n",
              "      <th>payment_type</th>\n",
              "      <th>fare_amount</th>\n",
              "      <th>extra</th>\n",
              "      <th>mta_tax</th>\n",
              "      <th>tip_amount</th>\n",
              "      <th>tolls_amount</th>\n",
              "      <th>improvement_surcharge</th>\n",
              "      <th>total_amount</th>\n",
              "      <th>congestion_surcharge</th>\n",
              "      <th>trip_duration</th>\n",
              "      <th>speed</th>\n",
              "      <th>PULatitude</th>\n",
              "      <th>PULongitude</th>\n",
              "    </tr>\n",
              "  </thead>\n",
              "  <tbody>\n",
              "    <tr>\n",
              "      <th>0</th>\n",
              "      <td>1.0</td>\n",
              "      <td>2020-03-01 00:31:13</td>\n",
              "      <td>2020-03-01 01:01:42</td>\n",
              "      <td>1.0</td>\n",
              "      <td>4.70</td>\n",
              "      <td>1.0</td>\n",
              "      <td>N</td>\n",
              "      <td>88</td>\n",
              "      <td>255</td>\n",
              "      <td>1.0</td>\n",
              "      <td>22.00</td>\n",
              "      <td>3.0</td>\n",
              "      <td>0.5</td>\n",
              "      <td>2.00</td>\n",
              "      <td>0.00</td>\n",
              "      <td>0.3</td>\n",
              "      <td>27.80</td>\n",
              "      <td>2.5</td>\n",
              "      <td>30.483333</td>\n",
              "      <td>9.250957</td>\n",
              "      <td>40.707612</td>\n",
              "      <td>-74.009378</td>\n",
              "    </tr>\n",
              "    <tr>\n",
              "      <th>1</th>\n",
              "      <td>1.0</td>\n",
              "      <td>2020-03-01 00:05:44</td>\n",
              "      <td>2020-03-01 00:19:54</td>\n",
              "      <td>2.0</td>\n",
              "      <td>8.00</td>\n",
              "      <td>1.0</td>\n",
              "      <td>N</td>\n",
              "      <td>88</td>\n",
              "      <td>263</td>\n",
              "      <td>2.0</td>\n",
              "      <td>23.50</td>\n",
              "      <td>3.0</td>\n",
              "      <td>0.5</td>\n",
              "      <td>0.00</td>\n",
              "      <td>0.00</td>\n",
              "      <td>0.3</td>\n",
              "      <td>27.30</td>\n",
              "      <td>2.5</td>\n",
              "      <td>14.166667</td>\n",
              "      <td>33.882353</td>\n",
              "      <td>40.707612</td>\n",
              "      <td>-74.009378</td>\n",
              "    </tr>\n",
              "    <tr>\n",
              "      <th>2</th>\n",
              "      <td>2.0</td>\n",
              "      <td>2020-03-01 00:27:15</td>\n",
              "      <td>2020-03-01 00:47:22</td>\n",
              "      <td>2.0</td>\n",
              "      <td>3.34</td>\n",
              "      <td>1.0</td>\n",
              "      <td>N</td>\n",
              "      <td>88</td>\n",
              "      <td>170</td>\n",
              "      <td>1.0</td>\n",
              "      <td>14.50</td>\n",
              "      <td>0.5</td>\n",
              "      <td>0.5</td>\n",
              "      <td>3.66</td>\n",
              "      <td>0.00</td>\n",
              "      <td>0.3</td>\n",
              "      <td>21.96</td>\n",
              "      <td>2.5</td>\n",
              "      <td>20.116667</td>\n",
              "      <td>9.961889</td>\n",
              "      <td>40.707612</td>\n",
              "      <td>-74.009378</td>\n",
              "    </tr>\n",
              "    <tr>\n",
              "      <th>3</th>\n",
              "      <td>1.0</td>\n",
              "      <td>2020-03-01 00:29:40</td>\n",
              "      <td>2020-03-01 00:42:38</td>\n",
              "      <td>2.0</td>\n",
              "      <td>3.60</td>\n",
              "      <td>1.0</td>\n",
              "      <td>N</td>\n",
              "      <td>88</td>\n",
              "      <td>79</td>\n",
              "      <td>2.0</td>\n",
              "      <td>13.50</td>\n",
              "      <td>3.0</td>\n",
              "      <td>0.5</td>\n",
              "      <td>0.00</td>\n",
              "      <td>0.00</td>\n",
              "      <td>0.3</td>\n",
              "      <td>17.30</td>\n",
              "      <td>2.5</td>\n",
              "      <td>12.966667</td>\n",
              "      <td>16.658098</td>\n",
              "      <td>40.707612</td>\n",
              "      <td>-74.009378</td>\n",
              "    </tr>\n",
              "    <tr>\n",
              "      <th>4</th>\n",
              "      <td>1.0</td>\n",
              "      <td>2020-03-01 00:41:27</td>\n",
              "      <td>2020-03-01 00:57:10</td>\n",
              "      <td>2.0</td>\n",
              "      <td>2.90</td>\n",
              "      <td>1.0</td>\n",
              "      <td>N</td>\n",
              "      <td>88</td>\n",
              "      <td>249</td>\n",
              "      <td>1.0</td>\n",
              "      <td>13.00</td>\n",
              "      <td>3.0</td>\n",
              "      <td>0.5</td>\n",
              "      <td>3.35</td>\n",
              "      <td>0.00</td>\n",
              "      <td>0.3</td>\n",
              "      <td>20.15</td>\n",
              "      <td>2.5</td>\n",
              "      <td>15.716667</td>\n",
              "      <td>11.071050</td>\n",
              "      <td>40.707612</td>\n",
              "      <td>-74.009378</td>\n",
              "    </tr>\n",
              "    <tr>\n",
              "      <th>...</th>\n",
              "      <td>...</td>\n",
              "      <td>...</td>\n",
              "      <td>...</td>\n",
              "      <td>...</td>\n",
              "      <td>...</td>\n",
              "      <td>...</td>\n",
              "      <td>...</td>\n",
              "      <td>...</td>\n",
              "      <td>...</td>\n",
              "      <td>...</td>\n",
              "      <td>...</td>\n",
              "      <td>...</td>\n",
              "      <td>...</td>\n",
              "      <td>...</td>\n",
              "      <td>...</td>\n",
              "      <td>...</td>\n",
              "      <td>...</td>\n",
              "      <td>...</td>\n",
              "      <td>...</td>\n",
              "      <td>...</td>\n",
              "      <td>...</td>\n",
              "      <td>...</td>\n",
              "    </tr>\n",
              "    <tr>\n",
              "      <th>2923793</th>\n",
              "      <td>NaN</td>\n",
              "      <td>2020-03-09 17:30:00</td>\n",
              "      <td>2020-03-09 18:10:00</td>\n",
              "      <td>NaN</td>\n",
              "      <td>17.22</td>\n",
              "      <td>NaN</td>\n",
              "      <td>NaN</td>\n",
              "      <td>27</td>\n",
              "      <td>139</td>\n",
              "      <td>NaN</td>\n",
              "      <td>51.97</td>\n",
              "      <td>0.0</td>\n",
              "      <td>0.5</td>\n",
              "      <td>0.00</td>\n",
              "      <td>2.29</td>\n",
              "      <td>0.3</td>\n",
              "      <td>55.06</td>\n",
              "      <td>0.0</td>\n",
              "      <td>40.000000</td>\n",
              "      <td>25.830000</td>\n",
              "      <td>46.616630</td>\n",
              "      <td>-94.216935</td>\n",
              "    </tr>\n",
              "    <tr>\n",
              "      <th>2923794</th>\n",
              "      <td>NaN</td>\n",
              "      <td>2020-03-10 10:00:00</td>\n",
              "      <td>2020-03-10 10:20:00</td>\n",
              "      <td>NaN</td>\n",
              "      <td>7.72</td>\n",
              "      <td>NaN</td>\n",
              "      <td>NaN</td>\n",
              "      <td>27</td>\n",
              "      <td>91</td>\n",
              "      <td>NaN</td>\n",
              "      <td>21.40</td>\n",
              "      <td>0.0</td>\n",
              "      <td>0.5</td>\n",
              "      <td>0.00</td>\n",
              "      <td>2.29</td>\n",
              "      <td>0.3</td>\n",
              "      <td>24.49</td>\n",
              "      <td>0.0</td>\n",
              "      <td>20.000000</td>\n",
              "      <td>23.160000</td>\n",
              "      <td>46.616630</td>\n",
              "      <td>-94.216935</td>\n",
              "    </tr>\n",
              "    <tr>\n",
              "      <th>2923795</th>\n",
              "      <td>NaN</td>\n",
              "      <td>2020-03-17 06:48:00</td>\n",
              "      <td>2020-03-17 07:35:00</td>\n",
              "      <td>NaN</td>\n",
              "      <td>28.89</td>\n",
              "      <td>NaN</td>\n",
              "      <td>NaN</td>\n",
              "      <td>27</td>\n",
              "      <td>32</td>\n",
              "      <td>NaN</td>\n",
              "      <td>71.55</td>\n",
              "      <td>0.0</td>\n",
              "      <td>0.5</td>\n",
              "      <td>0.00</td>\n",
              "      <td>10.70</td>\n",
              "      <td>0.3</td>\n",
              "      <td>83.05</td>\n",
              "      <td>0.0</td>\n",
              "      <td>47.000000</td>\n",
              "      <td>36.880851</td>\n",
              "      <td>46.616630</td>\n",
              "      <td>-94.216935</td>\n",
              "    </tr>\n",
              "    <tr>\n",
              "      <th>2923796</th>\n",
              "      <td>NaN</td>\n",
              "      <td>2020-03-11 12:37:26</td>\n",
              "      <td>2020-03-11 13:15:09</td>\n",
              "      <td>NaN</td>\n",
              "      <td>23.55</td>\n",
              "      <td>NaN</td>\n",
              "      <td>NaN</td>\n",
              "      <td>245</td>\n",
              "      <td>179</td>\n",
              "      <td>NaN</td>\n",
              "      <td>60.98</td>\n",
              "      <td>0.0</td>\n",
              "      <td>0.0</td>\n",
              "      <td>0.00</td>\n",
              "      <td>25.99</td>\n",
              "      <td>0.3</td>\n",
              "      <td>89.22</td>\n",
              "      <td>0.0</td>\n",
              "      <td>37.716667</td>\n",
              "      <td>37.463544</td>\n",
              "      <td>40.578087</td>\n",
              "      <td>-73.974925</td>\n",
              "    </tr>\n",
              "    <tr>\n",
              "      <th>2923797</th>\n",
              "      <td>NaN</td>\n",
              "      <td>2020-03-19 14:12:00</td>\n",
              "      <td>2020-03-19 14:37:00</td>\n",
              "      <td>NaN</td>\n",
              "      <td>6.00</td>\n",
              "      <td>NaN</td>\n",
              "      <td>NaN</td>\n",
              "      <td>251</td>\n",
              "      <td>156</td>\n",
              "      <td>NaN</td>\n",
              "      <td>22.10</td>\n",
              "      <td>0.0</td>\n",
              "      <td>0.5</td>\n",
              "      <td>0.00</td>\n",
              "      <td>0.00</td>\n",
              "      <td>0.3</td>\n",
              "      <td>24.85</td>\n",
              "      <td>0.0</td>\n",
              "      <td>25.000000</td>\n",
              "      <td>14.400000</td>\n",
              "      <td>51.516541</td>\n",
              "      <td>-2.434635</td>\n",
              "    </tr>\n",
              "  </tbody>\n",
              "</table>\n",
              "<p>2923798 rows × 22 columns</p>\n",
              "</div>"
            ],
            "text/plain": [
              "         VendorID tpep_pickup_datetime  ... PULatitude  PULongitude\n",
              "0             1.0  2020-03-01 00:31:13  ...  40.707612   -74.009378\n",
              "1             1.0  2020-03-01 00:05:44  ...  40.707612   -74.009378\n",
              "2             2.0  2020-03-01 00:27:15  ...  40.707612   -74.009378\n",
              "3             1.0  2020-03-01 00:29:40  ...  40.707612   -74.009378\n",
              "4             1.0  2020-03-01 00:41:27  ...  40.707612   -74.009378\n",
              "...           ...                  ...  ...        ...          ...\n",
              "2923793       NaN  2020-03-09 17:30:00  ...  46.616630   -94.216935\n",
              "2923794       NaN  2020-03-10 10:00:00  ...  46.616630   -94.216935\n",
              "2923795       NaN  2020-03-17 06:48:00  ...  46.616630   -94.216935\n",
              "2923796       NaN  2020-03-11 12:37:26  ...  40.578087   -73.974925\n",
              "2923797       NaN  2020-03-19 14:12:00  ...  51.516541    -2.434635\n",
              "\n",
              "[2923798 rows x 22 columns]"
            ]
          },
          "metadata": {
            "tags": []
          },
          "execution_count": 341
        }
      ]
    },
    {
      "cell_type": "code",
      "metadata": {
        "id": "k_sgHOJZUbku"
      },
      "source": [
        "#Adding the Dropoff location's lat long"
      ],
      "execution_count": null,
      "outputs": []
    },
    {
      "cell_type": "code",
      "metadata": {
        "colab": {
          "base_uri": "https://localhost:8080/",
          "height": 419
        },
        "id": "zUhk9SEoUIVx",
        "outputId": "29179494-483b-4308-c68b-32bc912b8612"
      },
      "source": [
        "LookUp_df_DOLocation = LookUp_df_PULocation.rename(columns={'PULocationID': 'DOLocationID'})\n",
        "LookUp_df_DOLocation"
      ],
      "execution_count": null,
      "outputs": [
        {
          "output_type": "execute_result",
          "data": {
            "text/html": [
              "<div>\n",
              "<style scoped>\n",
              "    .dataframe tbody tr th:only-of-type {\n",
              "        vertical-align: middle;\n",
              "    }\n",
              "\n",
              "    .dataframe tbody tr th {\n",
              "        vertical-align: top;\n",
              "    }\n",
              "\n",
              "    .dataframe thead th {\n",
              "        text-align: right;\n",
              "    }\n",
              "</style>\n",
              "<table border=\"1\" class=\"dataframe\">\n",
              "  <thead>\n",
              "    <tr style=\"text-align: right;\">\n",
              "      <th></th>\n",
              "      <th>DOLocationID</th>\n",
              "      <th>Latitude</th>\n",
              "      <th>Longitude</th>\n",
              "    </tr>\n",
              "  </thead>\n",
              "  <tbody>\n",
              "    <tr>\n",
              "      <th>0</th>\n",
              "      <td>1</td>\n",
              "      <td>40.689064</td>\n",
              "      <td>-74.177255</td>\n",
              "    </tr>\n",
              "    <tr>\n",
              "      <th>1</th>\n",
              "      <td>2</td>\n",
              "      <td>40.603994</td>\n",
              "      <td>-73.835412</td>\n",
              "    </tr>\n",
              "    <tr>\n",
              "      <th>2</th>\n",
              "      <td>3</td>\n",
              "      <td>39.915319</td>\n",
              "      <td>-87.933215</td>\n",
              "    </tr>\n",
              "    <tr>\n",
              "      <th>3</th>\n",
              "      <td>4</td>\n",
              "      <td>40.725102</td>\n",
              "      <td>-73.979583</td>\n",
              "    </tr>\n",
              "    <tr>\n",
              "      <th>4</th>\n",
              "      <td>5</td>\n",
              "      <td>53.284320</td>\n",
              "      <td>-7.492801</td>\n",
              "    </tr>\n",
              "    <tr>\n",
              "      <th>...</th>\n",
              "      <td>...</td>\n",
              "      <td>...</td>\n",
              "      <td>...</td>\n",
              "    </tr>\n",
              "    <tr>\n",
              "      <th>258</th>\n",
              "      <td>259</td>\n",
              "      <td>38.330050</td>\n",
              "      <td>-89.032569</td>\n",
              "    </tr>\n",
              "    <tr>\n",
              "      <th>259</th>\n",
              "      <td>260</td>\n",
              "      <td>37.429939</td>\n",
              "      <td>-122.253856</td>\n",
              "    </tr>\n",
              "    <tr>\n",
              "      <th>260</th>\n",
              "      <td>261</td>\n",
              "      <td>40.711888</td>\n",
              "      <td>-74.012441</td>\n",
              "    </tr>\n",
              "    <tr>\n",
              "      <th>261</th>\n",
              "      <td>262</td>\n",
              "      <td>40.778007</td>\n",
              "      <td>-73.948202</td>\n",
              "    </tr>\n",
              "    <tr>\n",
              "      <th>262</th>\n",
              "      <td>263</td>\n",
              "      <td>40.778007</td>\n",
              "      <td>-73.948202</td>\n",
              "    </tr>\n",
              "  </tbody>\n",
              "</table>\n",
              "<p>263 rows × 3 columns</p>\n",
              "</div>"
            ],
            "text/plain": [
              "     DOLocationID   Latitude   Longitude\n",
              "0               1  40.689064  -74.177255\n",
              "1               2  40.603994  -73.835412\n",
              "2               3  39.915319  -87.933215\n",
              "3               4  40.725102  -73.979583\n",
              "4               5  53.284320   -7.492801\n",
              "..            ...        ...         ...\n",
              "258           259  38.330050  -89.032569\n",
              "259           260  37.429939 -122.253856\n",
              "260           261  40.711888  -74.012441\n",
              "261           262  40.778007  -73.948202\n",
              "262           263  40.778007  -73.948202\n",
              "\n",
              "[263 rows x 3 columns]"
            ]
          },
          "metadata": {
            "tags": []
          },
          "execution_count": 343
        }
      ]
    },
    {
      "cell_type": "code",
      "metadata": {
        "colab": {
          "base_uri": "https://localhost:8080/",
          "height": 439
        },
        "id": "6urcPwfRUIis",
        "outputId": "fe916846-58df-4a76-cec0-19a604ffc303"
      },
      "source": [
        "Main_df_loc_DO = Main_df_loc_PU.merge(LookUp_df_DOLocation, how='left', on='DOLocationID')\n",
        "Main_df_loc_DO_Updated = Main_df_loc_DO.rename(columns={'Latitude': 'DOLatitude', 'Longitude':'DOLongitude'})\n",
        "Main_df_loc_DO_Updated"
      ],
      "execution_count": null,
      "outputs": [
        {
          "output_type": "execute_result",
          "data": {
            "text/html": [
              "<div>\n",
              "<style scoped>\n",
              "    .dataframe tbody tr th:only-of-type {\n",
              "        vertical-align: middle;\n",
              "    }\n",
              "\n",
              "    .dataframe tbody tr th {\n",
              "        vertical-align: top;\n",
              "    }\n",
              "\n",
              "    .dataframe thead th {\n",
              "        text-align: right;\n",
              "    }\n",
              "</style>\n",
              "<table border=\"1\" class=\"dataframe\">\n",
              "  <thead>\n",
              "    <tr style=\"text-align: right;\">\n",
              "      <th></th>\n",
              "      <th>VendorID</th>\n",
              "      <th>tpep_pickup_datetime</th>\n",
              "      <th>tpep_dropoff_datetime</th>\n",
              "      <th>passenger_count</th>\n",
              "      <th>trip_distance</th>\n",
              "      <th>RatecodeID</th>\n",
              "      <th>store_and_fwd_flag</th>\n",
              "      <th>PULocationID</th>\n",
              "      <th>DOLocationID</th>\n",
              "      <th>payment_type</th>\n",
              "      <th>fare_amount</th>\n",
              "      <th>extra</th>\n",
              "      <th>mta_tax</th>\n",
              "      <th>tip_amount</th>\n",
              "      <th>tolls_amount</th>\n",
              "      <th>improvement_surcharge</th>\n",
              "      <th>total_amount</th>\n",
              "      <th>congestion_surcharge</th>\n",
              "      <th>trip_duration</th>\n",
              "      <th>speed</th>\n",
              "      <th>PULatitude</th>\n",
              "      <th>PULongitude</th>\n",
              "      <th>DOLatitude</th>\n",
              "      <th>DOLongitude</th>\n",
              "    </tr>\n",
              "  </thead>\n",
              "  <tbody>\n",
              "    <tr>\n",
              "      <th>0</th>\n",
              "      <td>1.0</td>\n",
              "      <td>2020-03-01 00:31:13</td>\n",
              "      <td>2020-03-01 01:01:42</td>\n",
              "      <td>1.0</td>\n",
              "      <td>4.70</td>\n",
              "      <td>1.0</td>\n",
              "      <td>N</td>\n",
              "      <td>88</td>\n",
              "      <td>255</td>\n",
              "      <td>1.0</td>\n",
              "      <td>22.00</td>\n",
              "      <td>3.0</td>\n",
              "      <td>0.5</td>\n",
              "      <td>2.00</td>\n",
              "      <td>0.00</td>\n",
              "      <td>0.3</td>\n",
              "      <td>27.80</td>\n",
              "      <td>2.5</td>\n",
              "      <td>30.483333</td>\n",
              "      <td>9.250957</td>\n",
              "      <td>40.707612</td>\n",
              "      <td>-74.009378</td>\n",
              "      <td>40.714622</td>\n",
              "      <td>-73.953450</td>\n",
              "    </tr>\n",
              "    <tr>\n",
              "      <th>1</th>\n",
              "      <td>1.0</td>\n",
              "      <td>2020-03-01 00:05:44</td>\n",
              "      <td>2020-03-01 00:19:54</td>\n",
              "      <td>2.0</td>\n",
              "      <td>8.00</td>\n",
              "      <td>1.0</td>\n",
              "      <td>N</td>\n",
              "      <td>88</td>\n",
              "      <td>263</td>\n",
              "      <td>2.0</td>\n",
              "      <td>23.50</td>\n",
              "      <td>3.0</td>\n",
              "      <td>0.5</td>\n",
              "      <td>0.00</td>\n",
              "      <td>0.00</td>\n",
              "      <td>0.3</td>\n",
              "      <td>27.30</td>\n",
              "      <td>2.5</td>\n",
              "      <td>14.166667</td>\n",
              "      <td>33.882353</td>\n",
              "      <td>40.707612</td>\n",
              "      <td>-74.009378</td>\n",
              "      <td>40.778007</td>\n",
              "      <td>-73.948202</td>\n",
              "    </tr>\n",
              "    <tr>\n",
              "      <th>2</th>\n",
              "      <td>2.0</td>\n",
              "      <td>2020-03-01 00:27:15</td>\n",
              "      <td>2020-03-01 00:47:22</td>\n",
              "      <td>2.0</td>\n",
              "      <td>3.34</td>\n",
              "      <td>1.0</td>\n",
              "      <td>N</td>\n",
              "      <td>88</td>\n",
              "      <td>170</td>\n",
              "      <td>1.0</td>\n",
              "      <td>14.50</td>\n",
              "      <td>0.5</td>\n",
              "      <td>0.5</td>\n",
              "      <td>3.66</td>\n",
              "      <td>0.00</td>\n",
              "      <td>0.3</td>\n",
              "      <td>21.96</td>\n",
              "      <td>2.5</td>\n",
              "      <td>20.116667</td>\n",
              "      <td>9.961889</td>\n",
              "      <td>40.707612</td>\n",
              "      <td>-74.009378</td>\n",
              "      <td>38.290348</td>\n",
              "      <td>-85.588294</td>\n",
              "    </tr>\n",
              "    <tr>\n",
              "      <th>3</th>\n",
              "      <td>1.0</td>\n",
              "      <td>2020-03-01 00:29:40</td>\n",
              "      <td>2020-03-01 00:42:38</td>\n",
              "      <td>2.0</td>\n",
              "      <td>3.60</td>\n",
              "      <td>1.0</td>\n",
              "      <td>N</td>\n",
              "      <td>88</td>\n",
              "      <td>79</td>\n",
              "      <td>2.0</td>\n",
              "      <td>13.50</td>\n",
              "      <td>3.0</td>\n",
              "      <td>0.5</td>\n",
              "      <td>0.00</td>\n",
              "      <td>0.00</td>\n",
              "      <td>0.3</td>\n",
              "      <td>17.30</td>\n",
              "      <td>2.5</td>\n",
              "      <td>12.966667</td>\n",
              "      <td>16.658098</td>\n",
              "      <td>40.707612</td>\n",
              "      <td>-74.009378</td>\n",
              "      <td>40.729269</td>\n",
              "      <td>-73.987361</td>\n",
              "    </tr>\n",
              "    <tr>\n",
              "      <th>4</th>\n",
              "      <td>1.0</td>\n",
              "      <td>2020-03-01 00:41:27</td>\n",
              "      <td>2020-03-01 00:57:10</td>\n",
              "      <td>2.0</td>\n",
              "      <td>2.90</td>\n",
              "      <td>1.0</td>\n",
              "      <td>N</td>\n",
              "      <td>88</td>\n",
              "      <td>249</td>\n",
              "      <td>1.0</td>\n",
              "      <td>13.00</td>\n",
              "      <td>3.0</td>\n",
              "      <td>0.5</td>\n",
              "      <td>3.35</td>\n",
              "      <td>0.00</td>\n",
              "      <td>0.3</td>\n",
              "      <td>20.15</td>\n",
              "      <td>2.5</td>\n",
              "      <td>15.716667</td>\n",
              "      <td>11.071050</td>\n",
              "      <td>40.707612</td>\n",
              "      <td>-74.009378</td>\n",
              "      <td>40.734186</td>\n",
              "      <td>-74.005580</td>\n",
              "    </tr>\n",
              "    <tr>\n",
              "      <th>...</th>\n",
              "      <td>...</td>\n",
              "      <td>...</td>\n",
              "      <td>...</td>\n",
              "      <td>...</td>\n",
              "      <td>...</td>\n",
              "      <td>...</td>\n",
              "      <td>...</td>\n",
              "      <td>...</td>\n",
              "      <td>...</td>\n",
              "      <td>...</td>\n",
              "      <td>...</td>\n",
              "      <td>...</td>\n",
              "      <td>...</td>\n",
              "      <td>...</td>\n",
              "      <td>...</td>\n",
              "      <td>...</td>\n",
              "      <td>...</td>\n",
              "      <td>...</td>\n",
              "      <td>...</td>\n",
              "      <td>...</td>\n",
              "      <td>...</td>\n",
              "      <td>...</td>\n",
              "      <td>...</td>\n",
              "      <td>...</td>\n",
              "    </tr>\n",
              "    <tr>\n",
              "      <th>2923793</th>\n",
              "      <td>NaN</td>\n",
              "      <td>2020-03-09 17:30:00</td>\n",
              "      <td>2020-03-09 18:10:00</td>\n",
              "      <td>NaN</td>\n",
              "      <td>17.22</td>\n",
              "      <td>NaN</td>\n",
              "      <td>NaN</td>\n",
              "      <td>27</td>\n",
              "      <td>139</td>\n",
              "      <td>NaN</td>\n",
              "      <td>51.97</td>\n",
              "      <td>0.0</td>\n",
              "      <td>0.5</td>\n",
              "      <td>0.00</td>\n",
              "      <td>2.29</td>\n",
              "      <td>0.3</td>\n",
              "      <td>55.06</td>\n",
              "      <td>0.0</td>\n",
              "      <td>40.000000</td>\n",
              "      <td>25.830000</td>\n",
              "      <td>46.616630</td>\n",
              "      <td>-94.216935</td>\n",
              "      <td>40.666770</td>\n",
              "      <td>-73.751521</td>\n",
              "    </tr>\n",
              "    <tr>\n",
              "      <th>2923794</th>\n",
              "      <td>NaN</td>\n",
              "      <td>2020-03-10 10:00:00</td>\n",
              "      <td>2020-03-10 10:20:00</td>\n",
              "      <td>NaN</td>\n",
              "      <td>7.72</td>\n",
              "      <td>NaN</td>\n",
              "      <td>NaN</td>\n",
              "      <td>27</td>\n",
              "      <td>91</td>\n",
              "      <td>NaN</td>\n",
              "      <td>21.40</td>\n",
              "      <td>0.0</td>\n",
              "      <td>0.5</td>\n",
              "      <td>0.00</td>\n",
              "      <td>2.29</td>\n",
              "      <td>0.3</td>\n",
              "      <td>24.49</td>\n",
              "      <td>0.0</td>\n",
              "      <td>20.000000</td>\n",
              "      <td>23.160000</td>\n",
              "      <td>46.616630</td>\n",
              "      <td>-94.216935</td>\n",
              "      <td>40.621215</td>\n",
              "      <td>-73.934860</td>\n",
              "    </tr>\n",
              "    <tr>\n",
              "      <th>2923795</th>\n",
              "      <td>NaN</td>\n",
              "      <td>2020-03-17 06:48:00</td>\n",
              "      <td>2020-03-17 07:35:00</td>\n",
              "      <td>NaN</td>\n",
              "      <td>28.89</td>\n",
              "      <td>NaN</td>\n",
              "      <td>NaN</td>\n",
              "      <td>27</td>\n",
              "      <td>32</td>\n",
              "      <td>NaN</td>\n",
              "      <td>71.55</td>\n",
              "      <td>0.0</td>\n",
              "      <td>0.5</td>\n",
              "      <td>0.00</td>\n",
              "      <td>10.70</td>\n",
              "      <td>0.3</td>\n",
              "      <td>83.05</td>\n",
              "      <td>0.0</td>\n",
              "      <td>47.000000</td>\n",
              "      <td>36.880851</td>\n",
              "      <td>46.616630</td>\n",
              "      <td>-94.216935</td>\n",
              "      <td>40.826378</td>\n",
              "      <td>-73.867196</td>\n",
              "    </tr>\n",
              "    <tr>\n",
              "      <th>2923796</th>\n",
              "      <td>NaN</td>\n",
              "      <td>2020-03-11 12:37:26</td>\n",
              "      <td>2020-03-11 13:15:09</td>\n",
              "      <td>NaN</td>\n",
              "      <td>23.55</td>\n",
              "      <td>NaN</td>\n",
              "      <td>NaN</td>\n",
              "      <td>245</td>\n",
              "      <td>179</td>\n",
              "      <td>NaN</td>\n",
              "      <td>60.98</td>\n",
              "      <td>0.0</td>\n",
              "      <td>0.0</td>\n",
              "      <td>0.00</td>\n",
              "      <td>25.99</td>\n",
              "      <td>0.3</td>\n",
              "      <td>89.22</td>\n",
              "      <td>0.0</td>\n",
              "      <td>37.716667</td>\n",
              "      <td>37.463544</td>\n",
              "      <td>40.578087</td>\n",
              "      <td>-73.974925</td>\n",
              "      <td>46.187885</td>\n",
              "      <td>-123.831256</td>\n",
              "    </tr>\n",
              "    <tr>\n",
              "      <th>2923797</th>\n",
              "      <td>NaN</td>\n",
              "      <td>2020-03-19 14:12:00</td>\n",
              "      <td>2020-03-19 14:37:00</td>\n",
              "      <td>NaN</td>\n",
              "      <td>6.00</td>\n",
              "      <td>NaN</td>\n",
              "      <td>NaN</td>\n",
              "      <td>251</td>\n",
              "      <td>156</td>\n",
              "      <td>NaN</td>\n",
              "      <td>22.10</td>\n",
              "      <td>0.0</td>\n",
              "      <td>0.5</td>\n",
              "      <td>0.00</td>\n",
              "      <td>0.00</td>\n",
              "      <td>0.3</td>\n",
              "      <td>24.85</td>\n",
              "      <td>0.0</td>\n",
              "      <td>25.000000</td>\n",
              "      <td>14.400000</td>\n",
              "      <td>51.516541</td>\n",
              "      <td>-2.434635</td>\n",
              "      <td>40.636770</td>\n",
              "      <td>-74.158755</td>\n",
              "    </tr>\n",
              "  </tbody>\n",
              "</table>\n",
              "<p>2923798 rows × 24 columns</p>\n",
              "</div>"
            ],
            "text/plain": [
              "         VendorID tpep_pickup_datetime  ... DOLatitude  DOLongitude\n",
              "0             1.0  2020-03-01 00:31:13  ...  40.714622   -73.953450\n",
              "1             1.0  2020-03-01 00:05:44  ...  40.778007   -73.948202\n",
              "2             2.0  2020-03-01 00:27:15  ...  38.290348   -85.588294\n",
              "3             1.0  2020-03-01 00:29:40  ...  40.729269   -73.987361\n",
              "4             1.0  2020-03-01 00:41:27  ...  40.734186   -74.005580\n",
              "...           ...                  ...  ...        ...          ...\n",
              "2923793       NaN  2020-03-09 17:30:00  ...  40.666770   -73.751521\n",
              "2923794       NaN  2020-03-10 10:00:00  ...  40.621215   -73.934860\n",
              "2923795       NaN  2020-03-17 06:48:00  ...  40.826378   -73.867196\n",
              "2923796       NaN  2020-03-11 12:37:26  ...  46.187885  -123.831256\n",
              "2923797       NaN  2020-03-19 14:12:00  ...  40.636770   -74.158755\n",
              "\n",
              "[2923798 rows x 24 columns]"
            ]
          },
          "metadata": {
            "tags": []
          },
          "execution_count": 344
        }
      ]
    },
    {
      "cell_type": "code",
      "metadata": {
        "id": "LCNup20IUIw6"
      },
      "source": [
        "#(40.5774, -74.15) & (40.9176,-73.7004)"
      ],
      "execution_count": null,
      "outputs": []
    },
    {
      "cell_type": "code",
      "metadata": {
        "colab": {
          "base_uri": "https://localhost:8080/"
        },
        "id": "iet6STf5Pji4",
        "outputId": "d781a1fc-9186-4007-a975-23c5ba2a82a5"
      },
      "source": [
        "Main_df = Main_df[(Main_df['total_amount']>0) & (Main_df['total_amount']<= 585.2633575955033)]\n",
        "print(Main_df)"
      ],
      "execution_count": null,
      "outputs": [
        {
          "output_type": "stream",
          "text": [
            "         VendorID tpep_pickup_datetime  ... trip_duration      speed\n",
            "0             1.0  2020-03-01 00:31:13  ...     30.483333   9.250957\n",
            "2             1.0  2020-03-01 00:52:18  ...      6.966667   9.473684\n",
            "3             2.0  2020-03-01 00:47:53  ...      3.066667  17.021739\n",
            "4             1.0  2020-03-01 00:43:19  ...     15.133333  17.444934\n",
            "5             1.0  2020-03-01 00:04:43  ...     18.566667  11.310592\n",
            "...           ...                  ...  ...           ...        ...\n",
            "3007287       NaN  2020-03-31 23:21:00  ...     12.000000  27.150000\n",
            "3007288       NaN  2020-03-31 23:57:00  ...     29.000000  27.331034\n",
            "3007289       NaN  2020-03-31 23:22:01  ...     21.850000  33.336384\n",
            "3007290       NaN  2020-03-31 23:18:53  ...     13.466667  31.232673\n",
            "3007291       NaN  2020-03-31 23:11:00  ...     19.000000  19.926316\n",
            "\n",
            "[2923798 rows x 20 columns]\n"
          ],
          "name": "stdout"
        }
      ]
    },
    {
      "cell_type": "code",
      "metadata": {
        "id": "BOsZ352RO9-f"
      },
      "source": [
        "Main_df_loc_DO_Updated_loc = Main_df_loc_DO_Updated[((Main_df_loc_DO_Updated['PULatitude']>40.5774) & (Main_df_loc_DO_Updated['DOLatitude']<40.9176)\\\n",
        "                                                      & (Main_df_loc_DO_Updated['PULongitude']>-74.15) & (Main_df_loc_DO_Updated['PULongitude']<-73.7004))]"
      ],
      "execution_count": null,
      "outputs": []
    },
    {
      "cell_type": "code",
      "metadata": {
        "id": "MGGyLx8eR_W7"
      },
      "source": [
        "#Data Clustering\n",
        "from sklearn.cluster import KMeans\n",
        "from sklearn.metrics import silhouette_samples, silhouette_score"
      ],
      "execution_count": null,
      "outputs": []
    },
    {
      "cell_type": "code",
      "metadata": {
        "colab": {
          "base_uri": "https://localhost:8080/"
        },
        "id": "qeB2HpKhWjkr",
        "outputId": "8847be87-2a09-4062-b81e-4ec9a071d961"
      },
      "source": [
        "!pip install haversine\n",
        "!pip install gpxpy"
      ],
      "execution_count": null,
      "outputs": [
        {
          "output_type": "stream",
          "text": [
            "Requirement already satisfied: haversine in /usr/local/lib/python3.6/dist-packages (2.3.0)\n",
            "Requirement already satisfied: gpxpy in /usr/local/lib/python3.6/dist-packages (1.4.2)\n"
          ],
          "name": "stdout"
        }
      ]
    },
    {
      "cell_type": "code",
      "metadata": {
        "id": "V_cQc4K0Wj7f"
      },
      "source": [
        "import geopy.distance\n",
        "import haversine\n",
        "import gpxpy"
      ],
      "execution_count": null,
      "outputs": []
    },
    {
      "cell_type": "code",
      "metadata": {
        "id": "8Q-cfF-cWbFx"
      },
      "source": [
        "from sklearn.cluster import KMeans"
      ],
      "execution_count": null,
      "outputs": []
    },
    {
      "cell_type": "code",
      "metadata": {
        "id": "AsicIp3lWkBW"
      },
      "source": [
        "loc_coords = Main_df_loc_DO_Updated_loc[['PULatitude', 'PULongitude']].values\n",
        "kmeans = KMeans(n_clusters=30,random_state=0).fit(loc_coords)\n",
        "Main_df_loc_DO_Updated['pickup_cluster_formed'] = kmeans.predict(Main_df_loc_DO_Updated[['PULatitude', 'PULongitude']])"
      ],
      "execution_count": null,
      "outputs": []
    },
    {
      "cell_type": "code",
      "metadata": {
        "id": "wPq-bHkJS83T"
      },
      "source": [
        "import folium\n",
        "global str\n"
      ],
      "execution_count": null,
      "outputs": []
    },
    {
      "cell_type": "code",
      "metadata": {
        "colab": {
          "base_uri": "https://localhost:8080/",
          "height": 763
        },
        "id": "vUDhpqecS0kS",
        "outputId": "8f606477-48b3-4f15-af34-e171341d08c1"
      },
      "source": [
        "# Plotting the cluster centers on OSM\n",
        "cluster_centers = kmeans.cluster_centers_\n",
        "map_osm = folium.Map(location=[40.734695, -73.990372], tiles='Stamen Toner')\n",
        "for i in range(len(cluster_centers)):\n",
        "    folium.Marker(list((cluster_centers[i][0],cluster_centers[i][1]))).add_to(map_osm)\n",
        "map_osm"
      ],
      "execution_count": null,
      "outputs": [
        {
          "output_type": "execute_result",
          "data": {
            "text/html": [
              "<div style=\"width:100%;\"><div style=\"position:relative;width:100%;height:0;padding-bottom:60%;\"><span style=\"color:#565656\">Make this Notebook Trusted to load map: File -> Trust Notebook</span><iframe src=\"about:blank\" style=\"position:absolute;width:100%;height:100%;left:0;top:0;border:none !important;\" data-html=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 onload=\"this.contentDocument.open();this.contentDocument.write(atob(this.getAttribute('data-html')));this.contentDocument.close();\" allowfullscreen webkitallowfullscreen mozallowfullscreen></iframe></div></div>"
            ],
            "text/plain": [
              "<folium.folium.Map at 0x7f6a3bd78a20>"
            ]
          },
          "metadata": {
            "tags": []
          },
          "execution_count": 354
        }
      ]
    },
    {
      "cell_type": "code",
      "metadata": {
        "colab": {
          "base_uri": "https://localhost:8080/"
        },
        "id": "Cn6NE9CRu3V0",
        "outputId": "005eb293-df41-42f5-e800-cd5d5c7ebe4c"
      },
      "source": [
        "Main_df_loc_DO_Updated['pickup_cluster_formed'].unique()"
      ],
      "execution_count": null,
      "outputs": [
        {
          "output_type": "execute_result",
          "data": {
            "text/plain": [
              "array([ 6, 25, 26, 24, 11,  7, 14,  3,  9, 15, 29,  2, 12,  0, 16,  4,  5,\n",
              "        8, 10, 13, 28,  1, 21, 20, 27, 19, 23, 17, 22, 18], dtype=int32)"
            ]
          },
          "metadata": {
            "tags": []
          },
          "execution_count": 355
        }
      ]
    },
    {
      "cell_type": "code",
      "metadata": {
        "colab": {
          "base_uri": "https://localhost:8080/",
          "height": 439
        },
        "id": "sZHORc5E0ooC",
        "outputId": "f8ae3fff-2b73-4c9d-e89a-3d7e0e3efd74"
      },
      "source": [
        "Main_df_loc_DO_Updated"
      ],
      "execution_count": null,
      "outputs": [
        {
          "output_type": "execute_result",
          "data": {
            "text/html": [
              "<div>\n",
              "<style scoped>\n",
              "    .dataframe tbody tr th:only-of-type {\n",
              "        vertical-align: middle;\n",
              "    }\n",
              "\n",
              "    .dataframe tbody tr th {\n",
              "        vertical-align: top;\n",
              "    }\n",
              "\n",
              "    .dataframe thead th {\n",
              "        text-align: right;\n",
              "    }\n",
              "</style>\n",
              "<table border=\"1\" class=\"dataframe\">\n",
              "  <thead>\n",
              "    <tr style=\"text-align: right;\">\n",
              "      <th></th>\n",
              "      <th>VendorID</th>\n",
              "      <th>tpep_pickup_datetime</th>\n",
              "      <th>tpep_dropoff_datetime</th>\n",
              "      <th>passenger_count</th>\n",
              "      <th>trip_distance</th>\n",
              "      <th>RatecodeID</th>\n",
              "      <th>store_and_fwd_flag</th>\n",
              "      <th>PULocationID</th>\n",
              "      <th>DOLocationID</th>\n",
              "      <th>payment_type</th>\n",
              "      <th>fare_amount</th>\n",
              "      <th>extra</th>\n",
              "      <th>mta_tax</th>\n",
              "      <th>tip_amount</th>\n",
              "      <th>tolls_amount</th>\n",
              "      <th>improvement_surcharge</th>\n",
              "      <th>total_amount</th>\n",
              "      <th>congestion_surcharge</th>\n",
              "      <th>trip_duration</th>\n",
              "      <th>speed</th>\n",
              "      <th>PULatitude</th>\n",
              "      <th>PULongitude</th>\n",
              "      <th>DOLatitude</th>\n",
              "      <th>DOLongitude</th>\n",
              "      <th>pickup_cluster_formed</th>\n",
              "    </tr>\n",
              "  </thead>\n",
              "  <tbody>\n",
              "    <tr>\n",
              "      <th>0</th>\n",
              "      <td>1.0</td>\n",
              "      <td>2020-03-01 00:31:13</td>\n",
              "      <td>2020-03-01 01:01:42</td>\n",
              "      <td>1.0</td>\n",
              "      <td>4.70</td>\n",
              "      <td>1.0</td>\n",
              "      <td>N</td>\n",
              "      <td>88</td>\n",
              "      <td>255</td>\n",
              "      <td>1.0</td>\n",
              "      <td>22.00</td>\n",
              "      <td>3.0</td>\n",
              "      <td>0.5</td>\n",
              "      <td>2.00</td>\n",
              "      <td>0.00</td>\n",
              "      <td>0.3</td>\n",
              "      <td>27.80</td>\n",
              "      <td>2.5</td>\n",
              "      <td>30.483333</td>\n",
              "      <td>9.250957</td>\n",
              "      <td>40.707612</td>\n",
              "      <td>-74.009378</td>\n",
              "      <td>40.714622</td>\n",
              "      <td>-73.953450</td>\n",
              "      <td>6</td>\n",
              "    </tr>\n",
              "    <tr>\n",
              "      <th>1</th>\n",
              "      <td>1.0</td>\n",
              "      <td>2020-03-01 00:05:44</td>\n",
              "      <td>2020-03-01 00:19:54</td>\n",
              "      <td>2.0</td>\n",
              "      <td>8.00</td>\n",
              "      <td>1.0</td>\n",
              "      <td>N</td>\n",
              "      <td>88</td>\n",
              "      <td>263</td>\n",
              "      <td>2.0</td>\n",
              "      <td>23.50</td>\n",
              "      <td>3.0</td>\n",
              "      <td>0.5</td>\n",
              "      <td>0.00</td>\n",
              "      <td>0.00</td>\n",
              "      <td>0.3</td>\n",
              "      <td>27.30</td>\n",
              "      <td>2.5</td>\n",
              "      <td>14.166667</td>\n",
              "      <td>33.882353</td>\n",
              "      <td>40.707612</td>\n",
              "      <td>-74.009378</td>\n",
              "      <td>40.778007</td>\n",
              "      <td>-73.948202</td>\n",
              "      <td>6</td>\n",
              "    </tr>\n",
              "    <tr>\n",
              "      <th>2</th>\n",
              "      <td>2.0</td>\n",
              "      <td>2020-03-01 00:27:15</td>\n",
              "      <td>2020-03-01 00:47:22</td>\n",
              "      <td>2.0</td>\n",
              "      <td>3.34</td>\n",
              "      <td>1.0</td>\n",
              "      <td>N</td>\n",
              "      <td>88</td>\n",
              "      <td>170</td>\n",
              "      <td>1.0</td>\n",
              "      <td>14.50</td>\n",
              "      <td>0.5</td>\n",
              "      <td>0.5</td>\n",
              "      <td>3.66</td>\n",
              "      <td>0.00</td>\n",
              "      <td>0.3</td>\n",
              "      <td>21.96</td>\n",
              "      <td>2.5</td>\n",
              "      <td>20.116667</td>\n",
              "      <td>9.961889</td>\n",
              "      <td>40.707612</td>\n",
              "      <td>-74.009378</td>\n",
              "      <td>38.290348</td>\n",
              "      <td>-85.588294</td>\n",
              "      <td>6</td>\n",
              "    </tr>\n",
              "    <tr>\n",
              "      <th>3</th>\n",
              "      <td>1.0</td>\n",
              "      <td>2020-03-01 00:29:40</td>\n",
              "      <td>2020-03-01 00:42:38</td>\n",
              "      <td>2.0</td>\n",
              "      <td>3.60</td>\n",
              "      <td>1.0</td>\n",
              "      <td>N</td>\n",
              "      <td>88</td>\n",
              "      <td>79</td>\n",
              "      <td>2.0</td>\n",
              "      <td>13.50</td>\n",
              "      <td>3.0</td>\n",
              "      <td>0.5</td>\n",
              "      <td>0.00</td>\n",
              "      <td>0.00</td>\n",
              "      <td>0.3</td>\n",
              "      <td>17.30</td>\n",
              "      <td>2.5</td>\n",
              "      <td>12.966667</td>\n",
              "      <td>16.658098</td>\n",
              "      <td>40.707612</td>\n",
              "      <td>-74.009378</td>\n",
              "      <td>40.729269</td>\n",
              "      <td>-73.987361</td>\n",
              "      <td>6</td>\n",
              "    </tr>\n",
              "    <tr>\n",
              "      <th>4</th>\n",
              "      <td>1.0</td>\n",
              "      <td>2020-03-01 00:41:27</td>\n",
              "      <td>2020-03-01 00:57:10</td>\n",
              "      <td>2.0</td>\n",
              "      <td>2.90</td>\n",
              "      <td>1.0</td>\n",
              "      <td>N</td>\n",
              "      <td>88</td>\n",
              "      <td>249</td>\n",
              "      <td>1.0</td>\n",
              "      <td>13.00</td>\n",
              "      <td>3.0</td>\n",
              "      <td>0.5</td>\n",
              "      <td>3.35</td>\n",
              "      <td>0.00</td>\n",
              "      <td>0.3</td>\n",
              "      <td>20.15</td>\n",
              "      <td>2.5</td>\n",
              "      <td>15.716667</td>\n",
              "      <td>11.071050</td>\n",
              "      <td>40.707612</td>\n",
              "      <td>-74.009378</td>\n",
              "      <td>40.734186</td>\n",
              "      <td>-74.005580</td>\n",
              "      <td>6</td>\n",
              "    </tr>\n",
              "    <tr>\n",
              "      <th>...</th>\n",
              "      <td>...</td>\n",
              "      <td>...</td>\n",
              "      <td>...</td>\n",
              "      <td>...</td>\n",
              "      <td>...</td>\n",
              "      <td>...</td>\n",
              "      <td>...</td>\n",
              "      <td>...</td>\n",
              "      <td>...</td>\n",
              "      <td>...</td>\n",
              "      <td>...</td>\n",
              "      <td>...</td>\n",
              "      <td>...</td>\n",
              "      <td>...</td>\n",
              "      <td>...</td>\n",
              "      <td>...</td>\n",
              "      <td>...</td>\n",
              "      <td>...</td>\n",
              "      <td>...</td>\n",
              "      <td>...</td>\n",
              "      <td>...</td>\n",
              "      <td>...</td>\n",
              "      <td>...</td>\n",
              "      <td>...</td>\n",
              "      <td>...</td>\n",
              "    </tr>\n",
              "    <tr>\n",
              "      <th>2923793</th>\n",
              "      <td>NaN</td>\n",
              "      <td>2020-03-09 17:30:00</td>\n",
              "      <td>2020-03-09 18:10:00</td>\n",
              "      <td>NaN</td>\n",
              "      <td>17.22</td>\n",
              "      <td>NaN</td>\n",
              "      <td>NaN</td>\n",
              "      <td>27</td>\n",
              "      <td>139</td>\n",
              "      <td>NaN</td>\n",
              "      <td>51.97</td>\n",
              "      <td>0.0</td>\n",
              "      <td>0.5</td>\n",
              "      <td>0.00</td>\n",
              "      <td>2.29</td>\n",
              "      <td>0.3</td>\n",
              "      <td>55.06</td>\n",
              "      <td>0.0</td>\n",
              "      <td>40.000000</td>\n",
              "      <td>25.830000</td>\n",
              "      <td>46.616630</td>\n",
              "      <td>-94.216935</td>\n",
              "      <td>40.666770</td>\n",
              "      <td>-73.751521</td>\n",
              "      <td>25</td>\n",
              "    </tr>\n",
              "    <tr>\n",
              "      <th>2923794</th>\n",
              "      <td>NaN</td>\n",
              "      <td>2020-03-10 10:00:00</td>\n",
              "      <td>2020-03-10 10:20:00</td>\n",
              "      <td>NaN</td>\n",
              "      <td>7.72</td>\n",
              "      <td>NaN</td>\n",
              "      <td>NaN</td>\n",
              "      <td>27</td>\n",
              "      <td>91</td>\n",
              "      <td>NaN</td>\n",
              "      <td>21.40</td>\n",
              "      <td>0.0</td>\n",
              "      <td>0.5</td>\n",
              "      <td>0.00</td>\n",
              "      <td>2.29</td>\n",
              "      <td>0.3</td>\n",
              "      <td>24.49</td>\n",
              "      <td>0.0</td>\n",
              "      <td>20.000000</td>\n",
              "      <td>23.160000</td>\n",
              "      <td>46.616630</td>\n",
              "      <td>-94.216935</td>\n",
              "      <td>40.621215</td>\n",
              "      <td>-73.934860</td>\n",
              "      <td>25</td>\n",
              "    </tr>\n",
              "    <tr>\n",
              "      <th>2923795</th>\n",
              "      <td>NaN</td>\n",
              "      <td>2020-03-17 06:48:00</td>\n",
              "      <td>2020-03-17 07:35:00</td>\n",
              "      <td>NaN</td>\n",
              "      <td>28.89</td>\n",
              "      <td>NaN</td>\n",
              "      <td>NaN</td>\n",
              "      <td>27</td>\n",
              "      <td>32</td>\n",
              "      <td>NaN</td>\n",
              "      <td>71.55</td>\n",
              "      <td>0.0</td>\n",
              "      <td>0.5</td>\n",
              "      <td>0.00</td>\n",
              "      <td>10.70</td>\n",
              "      <td>0.3</td>\n",
              "      <td>83.05</td>\n",
              "      <td>0.0</td>\n",
              "      <td>47.000000</td>\n",
              "      <td>36.880851</td>\n",
              "      <td>46.616630</td>\n",
              "      <td>-94.216935</td>\n",
              "      <td>40.826378</td>\n",
              "      <td>-73.867196</td>\n",
              "      <td>25</td>\n",
              "    </tr>\n",
              "    <tr>\n",
              "      <th>2923796</th>\n",
              "      <td>NaN</td>\n",
              "      <td>2020-03-11 12:37:26</td>\n",
              "      <td>2020-03-11 13:15:09</td>\n",
              "      <td>NaN</td>\n",
              "      <td>23.55</td>\n",
              "      <td>NaN</td>\n",
              "      <td>NaN</td>\n",
              "      <td>245</td>\n",
              "      <td>179</td>\n",
              "      <td>NaN</td>\n",
              "      <td>60.98</td>\n",
              "      <td>0.0</td>\n",
              "      <td>0.0</td>\n",
              "      <td>0.00</td>\n",
              "      <td>25.99</td>\n",
              "      <td>0.3</td>\n",
              "      <td>89.22</td>\n",
              "      <td>0.0</td>\n",
              "      <td>37.716667</td>\n",
              "      <td>37.463544</td>\n",
              "      <td>40.578087</td>\n",
              "      <td>-73.974925</td>\n",
              "      <td>46.187885</td>\n",
              "      <td>-123.831256</td>\n",
              "      <td>15</td>\n",
              "    </tr>\n",
              "    <tr>\n",
              "      <th>2923797</th>\n",
              "      <td>NaN</td>\n",
              "      <td>2020-03-19 14:12:00</td>\n",
              "      <td>2020-03-19 14:37:00</td>\n",
              "      <td>NaN</td>\n",
              "      <td>6.00</td>\n",
              "      <td>NaN</td>\n",
              "      <td>NaN</td>\n",
              "      <td>251</td>\n",
              "      <td>156</td>\n",
              "      <td>NaN</td>\n",
              "      <td>22.10</td>\n",
              "      <td>0.0</td>\n",
              "      <td>0.5</td>\n",
              "      <td>0.00</td>\n",
              "      <td>0.00</td>\n",
              "      <td>0.3</td>\n",
              "      <td>24.85</td>\n",
              "      <td>0.0</td>\n",
              "      <td>25.000000</td>\n",
              "      <td>14.400000</td>\n",
              "      <td>51.516541</td>\n",
              "      <td>-2.434635</td>\n",
              "      <td>40.636770</td>\n",
              "      <td>-74.158755</td>\n",
              "      <td>3</td>\n",
              "    </tr>\n",
              "  </tbody>\n",
              "</table>\n",
              "<p>2923798 rows × 25 columns</p>\n",
              "</div>"
            ],
            "text/plain": [
              "         VendorID tpep_pickup_datetime  ... DOLongitude  pickup_cluster_formed\n",
              "0             1.0  2020-03-01 00:31:13  ...  -73.953450                      6\n",
              "1             1.0  2020-03-01 00:05:44  ...  -73.948202                      6\n",
              "2             2.0  2020-03-01 00:27:15  ...  -85.588294                      6\n",
              "3             1.0  2020-03-01 00:29:40  ...  -73.987361                      6\n",
              "4             1.0  2020-03-01 00:41:27  ...  -74.005580                      6\n",
              "...           ...                  ...  ...         ...                    ...\n",
              "2923793       NaN  2020-03-09 17:30:00  ...  -73.751521                     25\n",
              "2923794       NaN  2020-03-10 10:00:00  ...  -73.934860                     25\n",
              "2923795       NaN  2020-03-17 06:48:00  ...  -73.867196                     25\n",
              "2923796       NaN  2020-03-11 12:37:26  ... -123.831256                     15\n",
              "2923797       NaN  2020-03-19 14:12:00  ...  -74.158755                      3\n",
              "\n",
              "[2923798 rows x 25 columns]"
            ]
          },
          "metadata": {
            "tags": []
          },
          "execution_count": 356
        }
      ]
    },
    {
      "cell_type": "code",
      "metadata": {
        "colab": {
          "base_uri": "https://localhost:8080/",
          "height": 69
        },
        "id": "sqDuNzMuJ5Xd",
        "outputId": "a73a0376-32b1-4173-f0f7-555dae6f5f9a"
      },
      "source": [
        "Main_df_loc_DO_Updated[(Main_df_loc_DO_Updated['tpep_pickup_datetime']=='2020-02-29 23:45:00')]"
      ],
      "execution_count": null,
      "outputs": [
        {
          "output_type": "execute_result",
          "data": {
            "text/html": [
              "<div>\n",
              "<style scoped>\n",
              "    .dataframe tbody tr th:only-of-type {\n",
              "        vertical-align: middle;\n",
              "    }\n",
              "\n",
              "    .dataframe tbody tr th {\n",
              "        vertical-align: top;\n",
              "    }\n",
              "\n",
              "    .dataframe thead th {\n",
              "        text-align: right;\n",
              "    }\n",
              "</style>\n",
              "<table border=\"1\" class=\"dataframe\">\n",
              "  <thead>\n",
              "    <tr style=\"text-align: right;\">\n",
              "      <th></th>\n",
              "      <th>VendorID</th>\n",
              "      <th>tpep_pickup_datetime</th>\n",
              "      <th>tpep_dropoff_datetime</th>\n",
              "      <th>passenger_count</th>\n",
              "      <th>trip_distance</th>\n",
              "      <th>RatecodeID</th>\n",
              "      <th>store_and_fwd_flag</th>\n",
              "      <th>PULocationID</th>\n",
              "      <th>DOLocationID</th>\n",
              "      <th>payment_type</th>\n",
              "      <th>fare_amount</th>\n",
              "      <th>extra</th>\n",
              "      <th>mta_tax</th>\n",
              "      <th>tip_amount</th>\n",
              "      <th>tolls_amount</th>\n",
              "      <th>improvement_surcharge</th>\n",
              "      <th>total_amount</th>\n",
              "      <th>congestion_surcharge</th>\n",
              "      <th>trip_duration</th>\n",
              "      <th>speed</th>\n",
              "      <th>PULatitude</th>\n",
              "      <th>PULongitude</th>\n",
              "      <th>DOLatitude</th>\n",
              "      <th>DOLongitude</th>\n",
              "      <th>pickup_cluster_formed</th>\n",
              "    </tr>\n",
              "  </thead>\n",
              "  <tbody>\n",
              "  </tbody>\n",
              "</table>\n",
              "</div>"
            ],
            "text/plain": [
              "Empty DataFrame\n",
              "Columns: [VendorID, tpep_pickup_datetime, tpep_dropoff_datetime, passenger_count, trip_distance, RatecodeID, store_and_fwd_flag, PULocationID, DOLocationID, payment_type, fare_amount, extra, mta_tax, tip_amount, tolls_amount, improvement_surcharge, total_amount, congestion_surcharge, trip_duration, speed, PULatitude, PULongitude, DOLatitude, DOLongitude, pickup_cluster_formed]\n",
              "Index: []"
            ]
          },
          "metadata": {
            "tags": []
          },
          "execution_count": 357
        }
      ]
    },
    {
      "cell_type": "code",
      "metadata": {
        "id": "FJ2mlyosK2E1"
      },
      "source": [
        "#02/29/2020 @ 11:45pm (UTC)\n"
      ],
      "execution_count": null,
      "outputs": []
    },
    {
      "cell_type": "code",
      "metadata": {
        "colab": {
          "base_uri": "https://localhost:8080/"
        },
        "id": "zN7_cT8eSrnb",
        "outputId": "41ac5718-3e79-4b7a-e12f-448a2091aeaf"
      },
      "source": [
        "Main_df_loc_DO_Updated.columns"
      ],
      "execution_count": null,
      "outputs": [
        {
          "output_type": "execute_result",
          "data": {
            "text/plain": [
              "Index(['VendorID', 'tpep_pickup_datetime', 'tpep_dropoff_datetime',\n",
              "       'passenger_count', 'trip_distance', 'RatecodeID', 'store_and_fwd_flag',\n",
              "       'PULocationID', 'DOLocationID', 'payment_type', 'fare_amount', 'extra',\n",
              "       'mta_tax', 'tip_amount', 'tolls_amount', 'improvement_surcharge',\n",
              "       'total_amount', 'congestion_surcharge', 'trip_duration', 'speed',\n",
              "       'PULatitude', 'PULongitude', 'DOLatitude', 'DOLongitude',\n",
              "       'pickup_cluster_formed'],\n",
              "      dtype='object')"
            ]
          },
          "metadata": {
            "tags": []
          },
          "execution_count": 359
        }
      ]
    },
    {
      "cell_type": "code",
      "metadata": {
        "colab": {
          "base_uri": "https://localhost:8080/"
        },
        "id": "rFDVgkm-ycDz",
        "outputId": "76899f69-d062-4088-b542-53590459a20e"
      },
      "source": [
        "!pip install dask[complete]"
      ],
      "execution_count": null,
      "outputs": [
        {
          "output_type": "stream",
          "text": [
            "Requirement already satisfied: dask[complete] in /usr/local/lib/python3.6/dist-packages (2.12.0)\n",
            "Requirement already satisfied: toolz>=0.7.3; extra == \"complete\" in /usr/local/lib/python3.6/dist-packages (from dask[complete]) (0.11.1)\n",
            "Requirement already satisfied: fsspec>=0.6.0; extra == \"complete\" in /usr/local/lib/python3.6/dist-packages (from dask[complete]) (0.8.5)\n",
            "Requirement already satisfied: cloudpickle>=0.2.1; extra == \"complete\" in /usr/local/lib/python3.6/dist-packages (from dask[complete]) (1.3.0)\n",
            "Requirement already satisfied: bokeh>=1.0.0; extra == \"complete\" in /usr/local/lib/python3.6/dist-packages (from dask[complete]) (2.1.1)\n",
            "Requirement already satisfied: PyYaml; extra == \"complete\" in /usr/local/lib/python3.6/dist-packages (from dask[complete]) (3.13)\n",
            "Requirement already satisfied: numpy>=1.13.0; extra == \"complete\" in /usr/local/lib/python3.6/dist-packages (from dask[complete]) (1.19.4)\n",
            "Requirement already satisfied: pandas>=0.23.0; extra == \"complete\" in /usr/local/lib/python3.6/dist-packages (from dask[complete]) (1.1.5)\n",
            "Requirement already satisfied: distributed>=2.0; extra == \"complete\" in /usr/local/lib/python3.6/dist-packages (from dask[complete]) (2020.12.0)\n",
            "Requirement already satisfied: partd>=0.3.10; extra == \"complete\" in /usr/local/lib/python3.6/dist-packages (from dask[complete]) (1.1.0)\n",
            "Requirement already satisfied: Jinja2>=2.7 in /usr/local/lib/python3.6/dist-packages (from bokeh>=1.0.0; extra == \"complete\"->dask[complete]) (2.11.2)\n",
            "Requirement already satisfied: packaging>=16.8 in /usr/local/lib/python3.6/dist-packages (from bokeh>=1.0.0; extra == \"complete\"->dask[complete]) (20.8)\n",
            "Requirement already satisfied: tornado>=5.1 in /usr/local/lib/python3.6/dist-packages (from bokeh>=1.0.0; extra == \"complete\"->dask[complete]) (5.1.1)\n",
            "Requirement already satisfied: python-dateutil>=2.1 in /usr/local/lib/python3.6/dist-packages (from bokeh>=1.0.0; extra == \"complete\"->dask[complete]) (2.8.1)\n",
            "Requirement already satisfied: typing-extensions>=3.7.4 in /usr/local/lib/python3.6/dist-packages (from bokeh>=1.0.0; extra == \"complete\"->dask[complete]) (3.7.4.3)\n",
            "Requirement already satisfied: pillow>=4.0 in /usr/local/lib/python3.6/dist-packages (from bokeh>=1.0.0; extra == \"complete\"->dask[complete]) (7.0.0)\n",
            "Requirement already satisfied: pytz>=2017.2 in /usr/local/lib/python3.6/dist-packages (from pandas>=0.23.0; extra == \"complete\"->dask[complete]) (2018.9)\n",
            "Requirement already satisfied: click>=6.6 in /usr/local/lib/python3.6/dist-packages (from distributed>=2.0; extra == \"complete\"->dask[complete]) (7.1.2)\n",
            "Requirement already satisfied: tblib>=1.6.0 in /usr/local/lib/python3.6/dist-packages (from distributed>=2.0; extra == \"complete\"->dask[complete]) (1.7.0)\n",
            "Requirement already satisfied: msgpack>=0.6.0 in /usr/local/lib/python3.6/dist-packages (from distributed>=2.0; extra == \"complete\"->dask[complete]) (1.0.1)\n",
            "Requirement already satisfied: sortedcontainers!=2.0.0,!=2.0.1 in /usr/local/lib/python3.6/dist-packages (from distributed>=2.0; extra == \"complete\"->dask[complete]) (2.3.0)\n",
            "Requirement already satisfied: zict>=0.1.3 in /usr/local/lib/python3.6/dist-packages (from distributed>=2.0; extra == \"complete\"->dask[complete]) (2.0.0)\n",
            "Requirement already satisfied: contextvars; python_version < \"3.7\" in /usr/local/lib/python3.6/dist-packages (from distributed>=2.0; extra == \"complete\"->dask[complete]) (2.4)\n",
            "Requirement already satisfied: setuptools in /usr/local/lib/python3.6/dist-packages (from distributed>=2.0; extra == \"complete\"->dask[complete]) (50.3.2)\n",
            "Requirement already satisfied: psutil>=5.0 in /usr/local/lib/python3.6/dist-packages (from distributed>=2.0; extra == \"complete\"->dask[complete]) (5.4.8)\n",
            "Requirement already satisfied: locket in /usr/local/lib/python3.6/dist-packages (from partd>=0.3.10; extra == \"complete\"->dask[complete]) (0.2.0)\n",
            "Requirement already satisfied: MarkupSafe>=0.23 in /usr/local/lib/python3.6/dist-packages (from Jinja2>=2.7->bokeh>=1.0.0; extra == \"complete\"->dask[complete]) (1.1.1)\n",
            "Requirement already satisfied: pyparsing>=2.0.2 in /usr/local/lib/python3.6/dist-packages (from packaging>=16.8->bokeh>=1.0.0; extra == \"complete\"->dask[complete]) (2.4.7)\n",
            "Requirement already satisfied: six>=1.5 in /usr/local/lib/python3.6/dist-packages (from python-dateutil>=2.1->bokeh>=1.0.0; extra == \"complete\"->dask[complete]) (1.15.0)\n",
            "Requirement already satisfied: heapdict in /usr/local/lib/python3.6/dist-packages (from zict>=0.1.3->distributed>=2.0; extra == \"complete\"->dask[complete]) (1.0.1)\n",
            "Requirement already satisfied: immutables>=0.9 in /usr/local/lib/python3.6/dist-packages (from contextvars; python_version < \"3.7\"->distributed>=2.0; extra == \"complete\"->dask[complete]) (0.14)\n"
          ],
          "name": "stdout"
        }
      ]
    },
    {
      "cell_type": "code",
      "metadata": {
        "colab": {
          "background_save": true
        },
        "id": "RS5wWVf0aKcW"
      },
      "source": [
        "\n",
        "from dask import dataframe as dd \n",
        "\n",
        "def convert_to_unix(s):\n",
        "    return time.mktime(datetime.datetime.strptime(s, \"%Y-%m-%d %H:%M:%S\").timetuple())\n",
        "\n",
        "\n",
        "duration = dd.from_pandas(Main_df_loc_DO_Updated[['tpep_pickup_datetime','tpep_dropoff_datetime']],npartitions=1).compute()\n",
        "duration_pickup = [convert_to_unix(x) for x in duration['tpep_pickup_datetime'].values]\n",
        "\n",
        "Main_df_loc_DO_Updated['pickup_times'] = duration_pickup"
      ],
      "execution_count": null,
      "outputs": []
    },
    {
      "cell_type": "code",
      "metadata": {
        "colab": {
          "background_save": true,
          "base_uri": "https://localhost:8080/",
          "height": 224
        },
        "id": "vQCEMJYWUVed",
        "outputId": "9bf7eccf-86e5-4c08-952b-92404570fe87"
      },
      "source": [
        "Main_df_loc_DO_Updated.head()"
      ],
      "execution_count": null,
      "outputs": [
        {
          "output_type": "execute_result",
          "data": {
            "text/html": [
              "<div>\n",
              "<style scoped>\n",
              "    .dataframe tbody tr th:only-of-type {\n",
              "        vertical-align: middle;\n",
              "    }\n",
              "\n",
              "    .dataframe tbody tr th {\n",
              "        vertical-align: top;\n",
              "    }\n",
              "\n",
              "    .dataframe thead th {\n",
              "        text-align: right;\n",
              "    }\n",
              "</style>\n",
              "<table border=\"1\" class=\"dataframe\">\n",
              "  <thead>\n",
              "    <tr style=\"text-align: right;\">\n",
              "      <th></th>\n",
              "      <th>VendorID</th>\n",
              "      <th>tpep_pickup_datetime</th>\n",
              "      <th>tpep_dropoff_datetime</th>\n",
              "      <th>passenger_count</th>\n",
              "      <th>trip_distance</th>\n",
              "      <th>RatecodeID</th>\n",
              "      <th>store_and_fwd_flag</th>\n",
              "      <th>PULocationID</th>\n",
              "      <th>DOLocationID</th>\n",
              "      <th>payment_type</th>\n",
              "      <th>fare_amount</th>\n",
              "      <th>extra</th>\n",
              "      <th>mta_tax</th>\n",
              "      <th>tip_amount</th>\n",
              "      <th>tolls_amount</th>\n",
              "      <th>improvement_surcharge</th>\n",
              "      <th>total_amount</th>\n",
              "      <th>congestion_surcharge</th>\n",
              "      <th>trip_duration</th>\n",
              "      <th>speed</th>\n",
              "      <th>PULatitude</th>\n",
              "      <th>PULongitude</th>\n",
              "      <th>DOLatitude</th>\n",
              "      <th>DOLongitude</th>\n",
              "      <th>pickup_cluster_formed</th>\n",
              "      <th>pickup_times</th>\n",
              "    </tr>\n",
              "  </thead>\n",
              "  <tbody>\n",
              "    <tr>\n",
              "      <th>0</th>\n",
              "      <td>1.0</td>\n",
              "      <td>2020-03-01 00:31:13</td>\n",
              "      <td>2020-03-01 01:01:42</td>\n",
              "      <td>1.0</td>\n",
              "      <td>4.70</td>\n",
              "      <td>1.0</td>\n",
              "      <td>N</td>\n",
              "      <td>88</td>\n",
              "      <td>255</td>\n",
              "      <td>1.0</td>\n",
              "      <td>22.0</td>\n",
              "      <td>3.0</td>\n",
              "      <td>0.5</td>\n",
              "      <td>2.00</td>\n",
              "      <td>0.0</td>\n",
              "      <td>0.3</td>\n",
              "      <td>27.80</td>\n",
              "      <td>2.5</td>\n",
              "      <td>30.483333</td>\n",
              "      <td>9.250957</td>\n",
              "      <td>40.707612</td>\n",
              "      <td>-74.009378</td>\n",
              "      <td>40.714622</td>\n",
              "      <td>-73.953450</td>\n",
              "      <td>6</td>\n",
              "      <td>1.583023e+09</td>\n",
              "    </tr>\n",
              "    <tr>\n",
              "      <th>1</th>\n",
              "      <td>1.0</td>\n",
              "      <td>2020-03-01 00:05:44</td>\n",
              "      <td>2020-03-01 00:19:54</td>\n",
              "      <td>2.0</td>\n",
              "      <td>8.00</td>\n",
              "      <td>1.0</td>\n",
              "      <td>N</td>\n",
              "      <td>88</td>\n",
              "      <td>263</td>\n",
              "      <td>2.0</td>\n",
              "      <td>23.5</td>\n",
              "      <td>3.0</td>\n",
              "      <td>0.5</td>\n",
              "      <td>0.00</td>\n",
              "      <td>0.0</td>\n",
              "      <td>0.3</td>\n",
              "      <td>27.30</td>\n",
              "      <td>2.5</td>\n",
              "      <td>14.166667</td>\n",
              "      <td>33.882353</td>\n",
              "      <td>40.707612</td>\n",
              "      <td>-74.009378</td>\n",
              "      <td>40.778007</td>\n",
              "      <td>-73.948202</td>\n",
              "      <td>6</td>\n",
              "      <td>1.583021e+09</td>\n",
              "    </tr>\n",
              "    <tr>\n",
              "      <th>2</th>\n",
              "      <td>2.0</td>\n",
              "      <td>2020-03-01 00:27:15</td>\n",
              "      <td>2020-03-01 00:47:22</td>\n",
              "      <td>2.0</td>\n",
              "      <td>3.34</td>\n",
              "      <td>1.0</td>\n",
              "      <td>N</td>\n",
              "      <td>88</td>\n",
              "      <td>170</td>\n",
              "      <td>1.0</td>\n",
              "      <td>14.5</td>\n",
              "      <td>0.5</td>\n",
              "      <td>0.5</td>\n",
              "      <td>3.66</td>\n",
              "      <td>0.0</td>\n",
              "      <td>0.3</td>\n",
              "      <td>21.96</td>\n",
              "      <td>2.5</td>\n",
              "      <td>20.116667</td>\n",
              "      <td>9.961889</td>\n",
              "      <td>40.707612</td>\n",
              "      <td>-74.009378</td>\n",
              "      <td>38.290348</td>\n",
              "      <td>-85.588294</td>\n",
              "      <td>6</td>\n",
              "      <td>1.583022e+09</td>\n",
              "    </tr>\n",
              "    <tr>\n",
              "      <th>3</th>\n",
              "      <td>1.0</td>\n",
              "      <td>2020-03-01 00:29:40</td>\n",
              "      <td>2020-03-01 00:42:38</td>\n",
              "      <td>2.0</td>\n",
              "      <td>3.60</td>\n",
              "      <td>1.0</td>\n",
              "      <td>N</td>\n",
              "      <td>88</td>\n",
              "      <td>79</td>\n",
              "      <td>2.0</td>\n",
              "      <td>13.5</td>\n",
              "      <td>3.0</td>\n",
              "      <td>0.5</td>\n",
              "      <td>0.00</td>\n",
              "      <td>0.0</td>\n",
              "      <td>0.3</td>\n",
              "      <td>17.30</td>\n",
              "      <td>2.5</td>\n",
              "      <td>12.966667</td>\n",
              "      <td>16.658098</td>\n",
              "      <td>40.707612</td>\n",
              "      <td>-74.009378</td>\n",
              "      <td>40.729269</td>\n",
              "      <td>-73.987361</td>\n",
              "      <td>6</td>\n",
              "      <td>1.583023e+09</td>\n",
              "    </tr>\n",
              "    <tr>\n",
              "      <th>4</th>\n",
              "      <td>1.0</td>\n",
              "      <td>2020-03-01 00:41:27</td>\n",
              "      <td>2020-03-01 00:57:10</td>\n",
              "      <td>2.0</td>\n",
              "      <td>2.90</td>\n",
              "      <td>1.0</td>\n",
              "      <td>N</td>\n",
              "      <td>88</td>\n",
              "      <td>249</td>\n",
              "      <td>1.0</td>\n",
              "      <td>13.0</td>\n",
              "      <td>3.0</td>\n",
              "      <td>0.5</td>\n",
              "      <td>3.35</td>\n",
              "      <td>0.0</td>\n",
              "      <td>0.3</td>\n",
              "      <td>20.15</td>\n",
              "      <td>2.5</td>\n",
              "      <td>15.716667</td>\n",
              "      <td>11.071050</td>\n",
              "      <td>40.707612</td>\n",
              "      <td>-74.009378</td>\n",
              "      <td>40.734186</td>\n",
              "      <td>-74.005580</td>\n",
              "      <td>6</td>\n",
              "      <td>1.583023e+09</td>\n",
              "    </tr>\n",
              "  </tbody>\n",
              "</table>\n",
              "</div>"
            ],
            "text/plain": [
              "   VendorID tpep_pickup_datetime  ... pickup_cluster_formed  pickup_times\n",
              "0       1.0  2020-03-01 00:31:13  ...                     6  1.583023e+09\n",
              "1       1.0  2020-03-01 00:05:44  ...                     6  1.583021e+09\n",
              "2       2.0  2020-03-01 00:27:15  ...                     6  1.583022e+09\n",
              "3       1.0  2020-03-01 00:29:40  ...                     6  1.583023e+09\n",
              "4       1.0  2020-03-01 00:41:27  ...                     6  1.583023e+09\n",
              "\n",
              "[5 rows x 26 columns]"
            ]
          },
          "metadata": {
            "tags": []
          },
          "execution_count": 0
        }
      ]
    },
    {
      "cell_type": "code",
      "metadata": {
        "colab": {
          "background_save": true
        },
        "id": "KeUibAbgO8bM"
      },
      "source": [
        "#Outlier!!!\n",
        "Main_df_loc_DO_Updated = Main_df_loc_DO_Updated[(Main_df_loc_DO_Updated['pickup_times']>=1583020800)]\n",
        "Main_df_loc_DO_Updated = Main_df_loc_DO_Updated[(Main_df_loc_DO_Updated['pickup_times']<1585980275)]"
      ],
      "execution_count": null,
      "outputs": []
    },
    {
      "cell_type": "code",
      "metadata": {
        "colab": {
          "background_save": true
        },
        "id": "4wv3xuX121Qb"
      },
      "source": [
        "unix_pickup_times=[i for i in Main_df_loc_DO_Updated['pickup_times'].values]\n",
        "fifteenminutewise_binned_unix_pickup_times=[(int((i-1583020800)/900)) for i in unix_pickup_times]\n",
        "Main_df_loc_DO_Updated['pickup_bins'] = np.array(fifteenminutewise_binned_unix_pickup_times)"
      ],
      "execution_count": null,
      "outputs": []
    },
    {
      "cell_type": "code",
      "metadata": {
        "colab": {
          "background_save": true,
          "base_uri": "https://localhost:8080/",
          "height": 439
        },
        "id": "sfIbK5c79OzN",
        "outputId": "648db015-1f87-4dee-bdb3-db93c8bd0bbd"
      },
      "source": [
        "Main_df_loc_DO_Updated"
      ],
      "execution_count": null,
      "outputs": [
        {
          "output_type": "execute_result",
          "data": {
            "text/html": [
              "<div>\n",
              "<style scoped>\n",
              "    .dataframe tbody tr th:only-of-type {\n",
              "        vertical-align: middle;\n",
              "    }\n",
              "\n",
              "    .dataframe tbody tr th {\n",
              "        vertical-align: top;\n",
              "    }\n",
              "\n",
              "    .dataframe thead th {\n",
              "        text-align: right;\n",
              "    }\n",
              "</style>\n",
              "<table border=\"1\" class=\"dataframe\">\n",
              "  <thead>\n",
              "    <tr style=\"text-align: right;\">\n",
              "      <th></th>\n",
              "      <th>VendorID</th>\n",
              "      <th>tpep_pickup_datetime</th>\n",
              "      <th>tpep_dropoff_datetime</th>\n",
              "      <th>passenger_count</th>\n",
              "      <th>trip_distance</th>\n",
              "      <th>RatecodeID</th>\n",
              "      <th>store_and_fwd_flag</th>\n",
              "      <th>PULocationID</th>\n",
              "      <th>DOLocationID</th>\n",
              "      <th>payment_type</th>\n",
              "      <th>fare_amount</th>\n",
              "      <th>extra</th>\n",
              "      <th>mta_tax</th>\n",
              "      <th>tip_amount</th>\n",
              "      <th>tolls_amount</th>\n",
              "      <th>improvement_surcharge</th>\n",
              "      <th>total_amount</th>\n",
              "      <th>congestion_surcharge</th>\n",
              "      <th>trip_duration</th>\n",
              "      <th>speed</th>\n",
              "      <th>PULatitude</th>\n",
              "      <th>PULongitude</th>\n",
              "      <th>DOLatitude</th>\n",
              "      <th>DOLongitude</th>\n",
              "      <th>pickup_cluster_formed</th>\n",
              "      <th>pickup_times</th>\n",
              "      <th>pickup_bins</th>\n",
              "    </tr>\n",
              "  </thead>\n",
              "  <tbody>\n",
              "    <tr>\n",
              "      <th>0</th>\n",
              "      <td>1.0</td>\n",
              "      <td>2020-03-01 00:31:13</td>\n",
              "      <td>2020-03-01 01:01:42</td>\n",
              "      <td>1.0</td>\n",
              "      <td>4.70</td>\n",
              "      <td>1.0</td>\n",
              "      <td>N</td>\n",
              "      <td>88</td>\n",
              "      <td>255</td>\n",
              "      <td>1.0</td>\n",
              "      <td>22.00</td>\n",
              "      <td>3.0</td>\n",
              "      <td>0.5</td>\n",
              "      <td>2.00</td>\n",
              "      <td>0.00</td>\n",
              "      <td>0.3</td>\n",
              "      <td>27.80</td>\n",
              "      <td>2.5</td>\n",
              "      <td>30.483333</td>\n",
              "      <td>9.250957</td>\n",
              "      <td>40.707612</td>\n",
              "      <td>-74.009378</td>\n",
              "      <td>40.714622</td>\n",
              "      <td>-73.953450</td>\n",
              "      <td>6</td>\n",
              "      <td>1.583023e+09</td>\n",
              "      <td>2</td>\n",
              "    </tr>\n",
              "    <tr>\n",
              "      <th>1</th>\n",
              "      <td>1.0</td>\n",
              "      <td>2020-03-01 00:05:44</td>\n",
              "      <td>2020-03-01 00:19:54</td>\n",
              "      <td>2.0</td>\n",
              "      <td>8.00</td>\n",
              "      <td>1.0</td>\n",
              "      <td>N</td>\n",
              "      <td>88</td>\n",
              "      <td>263</td>\n",
              "      <td>2.0</td>\n",
              "      <td>23.50</td>\n",
              "      <td>3.0</td>\n",
              "      <td>0.5</td>\n",
              "      <td>0.00</td>\n",
              "      <td>0.00</td>\n",
              "      <td>0.3</td>\n",
              "      <td>27.30</td>\n",
              "      <td>2.5</td>\n",
              "      <td>14.166667</td>\n",
              "      <td>33.882353</td>\n",
              "      <td>40.707612</td>\n",
              "      <td>-74.009378</td>\n",
              "      <td>40.778007</td>\n",
              "      <td>-73.948202</td>\n",
              "      <td>6</td>\n",
              "      <td>1.583021e+09</td>\n",
              "      <td>0</td>\n",
              "    </tr>\n",
              "    <tr>\n",
              "      <th>2</th>\n",
              "      <td>2.0</td>\n",
              "      <td>2020-03-01 00:27:15</td>\n",
              "      <td>2020-03-01 00:47:22</td>\n",
              "      <td>2.0</td>\n",
              "      <td>3.34</td>\n",
              "      <td>1.0</td>\n",
              "      <td>N</td>\n",
              "      <td>88</td>\n",
              "      <td>170</td>\n",
              "      <td>1.0</td>\n",
              "      <td>14.50</td>\n",
              "      <td>0.5</td>\n",
              "      <td>0.5</td>\n",
              "      <td>3.66</td>\n",
              "      <td>0.00</td>\n",
              "      <td>0.3</td>\n",
              "      <td>21.96</td>\n",
              "      <td>2.5</td>\n",
              "      <td>20.116667</td>\n",
              "      <td>9.961889</td>\n",
              "      <td>40.707612</td>\n",
              "      <td>-74.009378</td>\n",
              "      <td>38.290348</td>\n",
              "      <td>-85.588294</td>\n",
              "      <td>6</td>\n",
              "      <td>1.583022e+09</td>\n",
              "      <td>1</td>\n",
              "    </tr>\n",
              "    <tr>\n",
              "      <th>3</th>\n",
              "      <td>1.0</td>\n",
              "      <td>2020-03-01 00:29:40</td>\n",
              "      <td>2020-03-01 00:42:38</td>\n",
              "      <td>2.0</td>\n",
              "      <td>3.60</td>\n",
              "      <td>1.0</td>\n",
              "      <td>N</td>\n",
              "      <td>88</td>\n",
              "      <td>79</td>\n",
              "      <td>2.0</td>\n",
              "      <td>13.50</td>\n",
              "      <td>3.0</td>\n",
              "      <td>0.5</td>\n",
              "      <td>0.00</td>\n",
              "      <td>0.00</td>\n",
              "      <td>0.3</td>\n",
              "      <td>17.30</td>\n",
              "      <td>2.5</td>\n",
              "      <td>12.966667</td>\n",
              "      <td>16.658098</td>\n",
              "      <td>40.707612</td>\n",
              "      <td>-74.009378</td>\n",
              "      <td>40.729269</td>\n",
              "      <td>-73.987361</td>\n",
              "      <td>6</td>\n",
              "      <td>1.583023e+09</td>\n",
              "      <td>1</td>\n",
              "    </tr>\n",
              "    <tr>\n",
              "      <th>4</th>\n",
              "      <td>1.0</td>\n",
              "      <td>2020-03-01 00:41:27</td>\n",
              "      <td>2020-03-01 00:57:10</td>\n",
              "      <td>2.0</td>\n",
              "      <td>2.90</td>\n",
              "      <td>1.0</td>\n",
              "      <td>N</td>\n",
              "      <td>88</td>\n",
              "      <td>249</td>\n",
              "      <td>1.0</td>\n",
              "      <td>13.00</td>\n",
              "      <td>3.0</td>\n",
              "      <td>0.5</td>\n",
              "      <td>3.35</td>\n",
              "      <td>0.00</td>\n",
              "      <td>0.3</td>\n",
              "      <td>20.15</td>\n",
              "      <td>2.5</td>\n",
              "      <td>15.716667</td>\n",
              "      <td>11.071050</td>\n",
              "      <td>40.707612</td>\n",
              "      <td>-74.009378</td>\n",
              "      <td>40.734186</td>\n",
              "      <td>-74.005580</td>\n",
              "      <td>6</td>\n",
              "      <td>1.583023e+09</td>\n",
              "      <td>2</td>\n",
              "    </tr>\n",
              "    <tr>\n",
              "      <th>...</th>\n",
              "      <td>...</td>\n",
              "      <td>...</td>\n",
              "      <td>...</td>\n",
              "      <td>...</td>\n",
              "      <td>...</td>\n",
              "      <td>...</td>\n",
              "      <td>...</td>\n",
              "      <td>...</td>\n",
              "      <td>...</td>\n",
              "      <td>...</td>\n",
              "      <td>...</td>\n",
              "      <td>...</td>\n",
              "      <td>...</td>\n",
              "      <td>...</td>\n",
              "      <td>...</td>\n",
              "      <td>...</td>\n",
              "      <td>...</td>\n",
              "      <td>...</td>\n",
              "      <td>...</td>\n",
              "      <td>...</td>\n",
              "      <td>...</td>\n",
              "      <td>...</td>\n",
              "      <td>...</td>\n",
              "      <td>...</td>\n",
              "      <td>...</td>\n",
              "      <td>...</td>\n",
              "      <td>...</td>\n",
              "    </tr>\n",
              "    <tr>\n",
              "      <th>2923793</th>\n",
              "      <td>NaN</td>\n",
              "      <td>2020-03-09 17:30:00</td>\n",
              "      <td>2020-03-09 18:10:00</td>\n",
              "      <td>NaN</td>\n",
              "      <td>17.22</td>\n",
              "      <td>NaN</td>\n",
              "      <td>NaN</td>\n",
              "      <td>27</td>\n",
              "      <td>139</td>\n",
              "      <td>NaN</td>\n",
              "      <td>51.97</td>\n",
              "      <td>0.0</td>\n",
              "      <td>0.5</td>\n",
              "      <td>0.00</td>\n",
              "      <td>2.29</td>\n",
              "      <td>0.3</td>\n",
              "      <td>55.06</td>\n",
              "      <td>0.0</td>\n",
              "      <td>40.000000</td>\n",
              "      <td>25.830000</td>\n",
              "      <td>46.616630</td>\n",
              "      <td>-94.216935</td>\n",
              "      <td>40.666770</td>\n",
              "      <td>-73.751521</td>\n",
              "      <td>25</td>\n",
              "      <td>1.583775e+09</td>\n",
              "      <td>838</td>\n",
              "    </tr>\n",
              "    <tr>\n",
              "      <th>2923794</th>\n",
              "      <td>NaN</td>\n",
              "      <td>2020-03-10 10:00:00</td>\n",
              "      <td>2020-03-10 10:20:00</td>\n",
              "      <td>NaN</td>\n",
              "      <td>7.72</td>\n",
              "      <td>NaN</td>\n",
              "      <td>NaN</td>\n",
              "      <td>27</td>\n",
              "      <td>91</td>\n",
              "      <td>NaN</td>\n",
              "      <td>21.40</td>\n",
              "      <td>0.0</td>\n",
              "      <td>0.5</td>\n",
              "      <td>0.00</td>\n",
              "      <td>2.29</td>\n",
              "      <td>0.3</td>\n",
              "      <td>24.49</td>\n",
              "      <td>0.0</td>\n",
              "      <td>20.000000</td>\n",
              "      <td>23.160000</td>\n",
              "      <td>46.616630</td>\n",
              "      <td>-94.216935</td>\n",
              "      <td>40.621215</td>\n",
              "      <td>-73.934860</td>\n",
              "      <td>25</td>\n",
              "      <td>1.583834e+09</td>\n",
              "      <td>904</td>\n",
              "    </tr>\n",
              "    <tr>\n",
              "      <th>2923795</th>\n",
              "      <td>NaN</td>\n",
              "      <td>2020-03-17 06:48:00</td>\n",
              "      <td>2020-03-17 07:35:00</td>\n",
              "      <td>NaN</td>\n",
              "      <td>28.89</td>\n",
              "      <td>NaN</td>\n",
              "      <td>NaN</td>\n",
              "      <td>27</td>\n",
              "      <td>32</td>\n",
              "      <td>NaN</td>\n",
              "      <td>71.55</td>\n",
              "      <td>0.0</td>\n",
              "      <td>0.5</td>\n",
              "      <td>0.00</td>\n",
              "      <td>10.70</td>\n",
              "      <td>0.3</td>\n",
              "      <td>83.05</td>\n",
              "      <td>0.0</td>\n",
              "      <td>47.000000</td>\n",
              "      <td>36.880851</td>\n",
              "      <td>46.616630</td>\n",
              "      <td>-94.216935</td>\n",
              "      <td>40.826378</td>\n",
              "      <td>-73.867196</td>\n",
              "      <td>25</td>\n",
              "      <td>1.584428e+09</td>\n",
              "      <td>1563</td>\n",
              "    </tr>\n",
              "    <tr>\n",
              "      <th>2923796</th>\n",
              "      <td>NaN</td>\n",
              "      <td>2020-03-11 12:37:26</td>\n",
              "      <td>2020-03-11 13:15:09</td>\n",
              "      <td>NaN</td>\n",
              "      <td>23.55</td>\n",
              "      <td>NaN</td>\n",
              "      <td>NaN</td>\n",
              "      <td>245</td>\n",
              "      <td>179</td>\n",
              "      <td>NaN</td>\n",
              "      <td>60.98</td>\n",
              "      <td>0.0</td>\n",
              "      <td>0.0</td>\n",
              "      <td>0.00</td>\n",
              "      <td>25.99</td>\n",
              "      <td>0.3</td>\n",
              "      <td>89.22</td>\n",
              "      <td>0.0</td>\n",
              "      <td>37.716667</td>\n",
              "      <td>37.463544</td>\n",
              "      <td>40.578087</td>\n",
              "      <td>-73.974925</td>\n",
              "      <td>46.187885</td>\n",
              "      <td>-123.831256</td>\n",
              "      <td>15</td>\n",
              "      <td>1.583930e+09</td>\n",
              "      <td>1010</td>\n",
              "    </tr>\n",
              "    <tr>\n",
              "      <th>2923797</th>\n",
              "      <td>NaN</td>\n",
              "      <td>2020-03-19 14:12:00</td>\n",
              "      <td>2020-03-19 14:37:00</td>\n",
              "      <td>NaN</td>\n",
              "      <td>6.00</td>\n",
              "      <td>NaN</td>\n",
              "      <td>NaN</td>\n",
              "      <td>251</td>\n",
              "      <td>156</td>\n",
              "      <td>NaN</td>\n",
              "      <td>22.10</td>\n",
              "      <td>0.0</td>\n",
              "      <td>0.5</td>\n",
              "      <td>0.00</td>\n",
              "      <td>0.00</td>\n",
              "      <td>0.3</td>\n",
              "      <td>24.85</td>\n",
              "      <td>0.0</td>\n",
              "      <td>25.000000</td>\n",
              "      <td>14.400000</td>\n",
              "      <td>51.516541</td>\n",
              "      <td>-2.434635</td>\n",
              "      <td>40.636770</td>\n",
              "      <td>-74.158755</td>\n",
              "      <td>3</td>\n",
              "      <td>1.584627e+09</td>\n",
              "      <td>1784</td>\n",
              "    </tr>\n",
              "  </tbody>\n",
              "</table>\n",
              "<p>2923395 rows × 27 columns</p>\n",
              "</div>"
            ],
            "text/plain": [
              "         VendorID tpep_pickup_datetime  ...  pickup_times  pickup_bins\n",
              "0             1.0  2020-03-01 00:31:13  ...  1.583023e+09            2\n",
              "1             1.0  2020-03-01 00:05:44  ...  1.583021e+09            0\n",
              "2             2.0  2020-03-01 00:27:15  ...  1.583022e+09            1\n",
              "3             1.0  2020-03-01 00:29:40  ...  1.583023e+09            1\n",
              "4             1.0  2020-03-01 00:41:27  ...  1.583023e+09            2\n",
              "...           ...                  ...  ...           ...          ...\n",
              "2923793       NaN  2020-03-09 17:30:00  ...  1.583775e+09          838\n",
              "2923794       NaN  2020-03-10 10:00:00  ...  1.583834e+09          904\n",
              "2923795       NaN  2020-03-17 06:48:00  ...  1.584428e+09         1563\n",
              "2923796       NaN  2020-03-11 12:37:26  ...  1.583930e+09         1010\n",
              "2923797       NaN  2020-03-19 14:12:00  ...  1.584627e+09         1784\n",
              "\n",
              "[2923395 rows x 27 columns]"
            ]
          },
          "metadata": {
            "tags": []
          },
          "execution_count": 0
        }
      ]
    },
    {
      "cell_type": "code",
      "metadata": {
        "colab": {
          "background_save": true,
          "base_uri": "https://localhost:8080/"
        },
        "id": "O0dlyhmT7mjV",
        "outputId": "5c72d8b0-416e-4828-f8f7-45b100dc0401"
      },
      "source": [
        "count = 0\n",
        "for i in Main_df_loc_DO_Updated['pickup_times'].values:\n",
        "  if i<1583020800:\n",
        "    count=count+1\n",
        "    print(i)\n",
        "\n",
        "print(count)"
      ],
      "execution_count": null,
      "outputs": [
        {
          "output_type": "stream",
          "text": [
            "0\n"
          ],
          "name": "stdout"
        }
      ]
    },
    {
      "cell_type": "code",
      "metadata": {
        "colab": {
          "background_save": true,
          "base_uri": "https://localhost:8080/"
        },
        "id": "z3TdTGzCRrs0",
        "outputId": "1f700314-85c6-4fdb-d6b0-95f33c06f6df"
      },
      "source": [
        "print(\"No of pickup bins formed in a month: \", Main_df_loc_DO_Updated['pickup_bins'].unique().shape[0])\n",
        "print (Main_df_loc_DO_Updated['pickup_bins'].max())\n",
        "print (Main_df_loc_DO_Updated['pickup_bins'].min())"
      ],
      "execution_count": null,
      "outputs": [
        {
          "output_type": "stream",
          "text": [
            "No of pickup bins formed in a month:  2972\n",
            "2975\n",
            "0\n"
          ],
          "name": "stdout"
        }
      ]
    },
    {
      "cell_type": "code",
      "metadata": {
        "colab": {
          "background_save": true
        },
        "id": "VW6WrtZ13lze"
      },
      "source": [
        "mar_2020_groupby = Main_df_loc_DO_Updated[['pickup_cluster_formed','pickup_bins','trip_distance']].groupby(['pickup_cluster_formed','pickup_bins']).count()"
      ],
      "execution_count": null,
      "outputs": []
    },
    {
      "cell_type": "code",
      "metadata": {
        "colab": {
          "background_save": true,
          "base_uri": "https://localhost:8080/",
          "height": 450
        },
        "id": "tpchtI0_4Fu4",
        "outputId": "28c87b70-a88c-42f6-8894-4fc2e50d4b6f"
      },
      "source": [
        "mar_2020_groupby"
      ],
      "execution_count": null,
      "outputs": [
        {
          "output_type": "execute_result",
          "data": {
            "text/html": [
              "<div>\n",
              "<style scoped>\n",
              "    .dataframe tbody tr th:only-of-type {\n",
              "        vertical-align: middle;\n",
              "    }\n",
              "\n",
              "    .dataframe tbody tr th {\n",
              "        vertical-align: top;\n",
              "    }\n",
              "\n",
              "    .dataframe thead th {\n",
              "        text-align: right;\n",
              "    }\n",
              "</style>\n",
              "<table border=\"1\" class=\"dataframe\">\n",
              "  <thead>\n",
              "    <tr style=\"text-align: right;\">\n",
              "      <th></th>\n",
              "      <th></th>\n",
              "      <th>trip_distance</th>\n",
              "    </tr>\n",
              "    <tr>\n",
              "      <th>pickup_cluster_formed</th>\n",
              "      <th>pickup_bins</th>\n",
              "      <th></th>\n",
              "    </tr>\n",
              "  </thead>\n",
              "  <tbody>\n",
              "    <tr>\n",
              "      <th rowspan=\"5\" valign=\"top\">0</th>\n",
              "      <th>0</th>\n",
              "      <td>60</td>\n",
              "    </tr>\n",
              "    <tr>\n",
              "      <th>1</th>\n",
              "      <td>64</td>\n",
              "    </tr>\n",
              "    <tr>\n",
              "      <th>2</th>\n",
              "      <td>65</td>\n",
              "    </tr>\n",
              "    <tr>\n",
              "      <th>3</th>\n",
              "      <td>56</td>\n",
              "    </tr>\n",
              "    <tr>\n",
              "      <th>4</th>\n",
              "      <td>56</td>\n",
              "    </tr>\n",
              "    <tr>\n",
              "      <th>...</th>\n",
              "      <th>...</th>\n",
              "      <td>...</td>\n",
              "    </tr>\n",
              "    <tr>\n",
              "      <th rowspan=\"5\" valign=\"top\">29</th>\n",
              "      <th>2971</th>\n",
              "      <td>3</td>\n",
              "    </tr>\n",
              "    <tr>\n",
              "      <th>2972</th>\n",
              "      <td>1</td>\n",
              "    </tr>\n",
              "    <tr>\n",
              "      <th>2973</th>\n",
              "      <td>1</td>\n",
              "    </tr>\n",
              "    <tr>\n",
              "      <th>2974</th>\n",
              "      <td>3</td>\n",
              "    </tr>\n",
              "    <tr>\n",
              "      <th>2975</th>\n",
              "      <td>1</td>\n",
              "    </tr>\n",
              "  </tbody>\n",
              "</table>\n",
              "<p>71292 rows × 1 columns</p>\n",
              "</div>"
            ],
            "text/plain": [
              "                                   trip_distance\n",
              "pickup_cluster_formed pickup_bins               \n",
              "0                     0                       60\n",
              "                      1                       64\n",
              "                      2                       65\n",
              "                      3                       56\n",
              "                      4                       56\n",
              "...                                          ...\n",
              "29                    2971                     3\n",
              "                      2972                     1\n",
              "                      2973                     1\n",
              "                      2974                     3\n",
              "                      2975                     1\n",
              "\n",
              "[71292 rows x 1 columns]"
            ]
          },
          "metadata": {
            "tags": []
          },
          "execution_count": 0
        }
      ]
    },
    {
      "cell_type": "code",
      "metadata": {
        "colab": {
          "background_save": true
        },
        "id": "HASC6wk8XRph"
      },
      "source": [
        ""
      ],
      "execution_count": null,
      "outputs": []
    },
    {
      "cell_type": "code",
      "metadata": {
        "colab": {
          "background_save": true
        },
        "id": "n9_YEyrrvwnd"
      },
      "source": [
        ""
      ],
      "execution_count": null,
      "outputs": []
    },
    {
      "cell_type": "code",
      "metadata": {
        "colab": {
          "background_save": true
        },
        "id": "QgorsUSTXRnn"
      },
      "source": [
        "c=0\n",
        "c1=0\n",
        "lst=[]\n",
        "for i in Main_df_loc_DO_Updated['pickup_bins']:\n",
        "  if int(i)>int(2976):\n",
        "      #print(i)\n",
        "      c=c+1\n",
        "      l=Main_df_loc_DO_Updated.iloc[c1]['pickup_times']\n",
        "      print(l)\n",
        "      lst.append(c1)\n",
        "  c1=c1+1"
      ],
      "execution_count": null,
      "outputs": []
    },
    {
      "cell_type": "code",
      "metadata": {
        "colab": {
          "background_save": true
        },
        "id": "E5g5cHeLXRkQ"
      },
      "source": [
        "#Time Binning Done!!!"
      ],
      "execution_count": null,
      "outputs": []
    },
    {
      "cell_type": "code",
      "metadata": {
        "colab": {
          "background_save": true
        },
        "id": "OO4ituabnh6q"
      },
      "source": [
        "#smoothing"
      ],
      "execution_count": null,
      "outputs": []
    },
    {
      "cell_type": "code",
      "metadata": {
        "colab": {
          "background_save": true
        },
        "id": "dJTVNnTtnjmY"
      },
      "source": [
        "def return_unique_bins(frame):\n",
        "    values_list = []\n",
        "    for i in range(0,30):\n",
        "        new_temp_df = frame[frame['pickup_cluster_formed'] == i]\n",
        "        unique_list = list(set(new_temp_df['pickup_bins']))\n",
        "        unique_list.sort()\n",
        "        values_list.append(unique_list)\n",
        "    return values_list     "
      ],
      "execution_count": null,
      "outputs": []
    },
    {
      "cell_type": "code",
      "metadata": {
        "colab": {
          "background_save": true
        },
        "id": "uklXJE3VnktW"
      },
      "source": [
        "mar_2020_unique = return_unique_bins(Main_df_loc_DO_Updated)"
      ],
      "execution_count": null,
      "outputs": []
    },
    {
      "cell_type": "code",
      "metadata": {
        "colab": {
          "background_save": true,
          "base_uri": "https://localhost:8080/"
        },
        "id": "tuEdaiF_nlVe",
        "outputId": "8f0d49c5-2aaf-46eb-b2db-7e25959e0c55"
      },
      "source": [
        "#No of zero pickups in each bin\n",
        "for i in range(30):\n",
        "    print(i,\"has total zero pickups: \",2976 - len(set(mar_2020_unique[i])))\n",
        "    print('^'*60)"
      ],
      "execution_count": null,
      "outputs": [
        {
          "output_type": "stream",
          "text": [
            "0 has total zero pickups:  167\n",
            "^^^^^^^^^^^^^^^^^^^^^^^^^^^^^^^^^^^^^^^^^^^^^^^^^^^^^^^^^^^^\n",
            "1 has total zero pickups:  276\n",
            "^^^^^^^^^^^^^^^^^^^^^^^^^^^^^^^^^^^^^^^^^^^^^^^^^^^^^^^^^^^^\n",
            "2 has total zero pickups:  173\n",
            "^^^^^^^^^^^^^^^^^^^^^^^^^^^^^^^^^^^^^^^^^^^^^^^^^^^^^^^^^^^^\n",
            "3 has total zero pickups:  172\n",
            "^^^^^^^^^^^^^^^^^^^^^^^^^^^^^^^^^^^^^^^^^^^^^^^^^^^^^^^^^^^^\n",
            "4 has total zero pickups:  225\n",
            "^^^^^^^^^^^^^^^^^^^^^^^^^^^^^^^^^^^^^^^^^^^^^^^^^^^^^^^^^^^^\n",
            "5 has total zero pickups:  587\n",
            "^^^^^^^^^^^^^^^^^^^^^^^^^^^^^^^^^^^^^^^^^^^^^^^^^^^^^^^^^^^^\n",
            "6 has total zero pickups:  363\n",
            "^^^^^^^^^^^^^^^^^^^^^^^^^^^^^^^^^^^^^^^^^^^^^^^^^^^^^^^^^^^^\n",
            "7 has total zero pickups:  183\n",
            "^^^^^^^^^^^^^^^^^^^^^^^^^^^^^^^^^^^^^^^^^^^^^^^^^^^^^^^^^^^^\n",
            "8 has total zero pickups:  109\n",
            "^^^^^^^^^^^^^^^^^^^^^^^^^^^^^^^^^^^^^^^^^^^^^^^^^^^^^^^^^^^^\n",
            "9 has total zero pickups:  337\n",
            "^^^^^^^^^^^^^^^^^^^^^^^^^^^^^^^^^^^^^^^^^^^^^^^^^^^^^^^^^^^^\n",
            "10 has total zero pickups:  330\n",
            "^^^^^^^^^^^^^^^^^^^^^^^^^^^^^^^^^^^^^^^^^^^^^^^^^^^^^^^^^^^^\n",
            "11 has total zero pickups:  135\n",
            "^^^^^^^^^^^^^^^^^^^^^^^^^^^^^^^^^^^^^^^^^^^^^^^^^^^^^^^^^^^^\n",
            "12 has total zero pickups:  318\n",
            "^^^^^^^^^^^^^^^^^^^^^^^^^^^^^^^^^^^^^^^^^^^^^^^^^^^^^^^^^^^^\n",
            "13 has total zero pickups:  134\n",
            "^^^^^^^^^^^^^^^^^^^^^^^^^^^^^^^^^^^^^^^^^^^^^^^^^^^^^^^^^^^^\n",
            "14 has total zero pickups:  526\n",
            "^^^^^^^^^^^^^^^^^^^^^^^^^^^^^^^^^^^^^^^^^^^^^^^^^^^^^^^^^^^^\n",
            "15 has total zero pickups:  114\n",
            "^^^^^^^^^^^^^^^^^^^^^^^^^^^^^^^^^^^^^^^^^^^^^^^^^^^^^^^^^^^^\n",
            "16 has total zero pickups:  144\n",
            "^^^^^^^^^^^^^^^^^^^^^^^^^^^^^^^^^^^^^^^^^^^^^^^^^^^^^^^^^^^^\n",
            "17 has total zero pickups:  2499\n",
            "^^^^^^^^^^^^^^^^^^^^^^^^^^^^^^^^^^^^^^^^^^^^^^^^^^^^^^^^^^^^\n",
            "18 has total zero pickups:  2824\n",
            "^^^^^^^^^^^^^^^^^^^^^^^^^^^^^^^^^^^^^^^^^^^^^^^^^^^^^^^^^^^^\n",
            "19 has total zero pickups:  1352\n",
            "^^^^^^^^^^^^^^^^^^^^^^^^^^^^^^^^^^^^^^^^^^^^^^^^^^^^^^^^^^^^\n",
            "20 has total zero pickups:  130\n",
            "^^^^^^^^^^^^^^^^^^^^^^^^^^^^^^^^^^^^^^^^^^^^^^^^^^^^^^^^^^^^\n",
            "21 has total zero pickups:  700\n",
            "^^^^^^^^^^^^^^^^^^^^^^^^^^^^^^^^^^^^^^^^^^^^^^^^^^^^^^^^^^^^\n",
            "22 has total zero pickups:  1860\n",
            "^^^^^^^^^^^^^^^^^^^^^^^^^^^^^^^^^^^^^^^^^^^^^^^^^^^^^^^^^^^^\n",
            "23 has total zero pickups:  1631\n",
            "^^^^^^^^^^^^^^^^^^^^^^^^^^^^^^^^^^^^^^^^^^^^^^^^^^^^^^^^^^^^\n",
            "24 has total zero pickups:  337\n",
            "^^^^^^^^^^^^^^^^^^^^^^^^^^^^^^^^^^^^^^^^^^^^^^^^^^^^^^^^^^^^\n",
            "25 has total zero pickups:  39\n",
            "^^^^^^^^^^^^^^^^^^^^^^^^^^^^^^^^^^^^^^^^^^^^^^^^^^^^^^^^^^^^\n",
            "26 has total zero pickups:  422\n",
            "^^^^^^^^^^^^^^^^^^^^^^^^^^^^^^^^^^^^^^^^^^^^^^^^^^^^^^^^^^^^\n",
            "27 has total zero pickups:  1055\n",
            "^^^^^^^^^^^^^^^^^^^^^^^^^^^^^^^^^^^^^^^^^^^^^^^^^^^^^^^^^^^^\n",
            "28 has total zero pickups:  500\n",
            "^^^^^^^^^^^^^^^^^^^^^^^^^^^^^^^^^^^^^^^^^^^^^^^^^^^^^^^^^^^^\n",
            "29 has total zero pickups:  346\n",
            "^^^^^^^^^^^^^^^^^^^^^^^^^^^^^^^^^^^^^^^^^^^^^^^^^^^^^^^^^^^^\n"
          ],
          "name": "stdout"
        }
      ]
    },
    {
      "cell_type": "code",
      "metadata": {
        "colab": {
          "background_save": true
        },
        "id": "W9vf368bnlz4"
      },
      "source": [
        "#Fill the zeroes wherever there are zero pickup\n",
        "def fill_zero_pickups(count_list,values):\n",
        "    smooth_list_regeion=[]\n",
        "    index=0\n",
        "    for r in range(0,30):\n",
        "        smooth_list_bins=[]\n",
        "        for i in range(2976):\n",
        "            if i in values[r]:\n",
        "                smooth_list_bins.append(count_list[index])\n",
        "                index=index + 1\n",
        "            else:\n",
        "                smooth_list_bins.append(0)\n",
        "        smooth_list_regeion.extend(smooth_list_bins)\n",
        "    return smooth_list_regeion"
      ],
      "execution_count": null,
      "outputs": []
    },
    {
      "cell_type": "code",
      "metadata": {
        "colab": {
          "background_save": true
        },
        "id": "kI-_2Q0dnmSm"
      },
      "source": [
        "import math\n",
        "def smoothing_function(count_values,values):\n",
        "    again=0 \n",
        "    s_v=0\n",
        "    index=0\n",
        "    s_r=[] \n",
        "    for r in range(0,30):\n",
        "        s_b=[] \n",
        "        again=0\n",
        "        for i in range(2976):\n",
        "            if again!=0: \n",
        "                again-=1\n",
        "                continue\n",
        "            if i in values[r]:\n",
        "                s_b.append(count_values[index]) \n",
        "            else:\n",
        "                if i!=0:\n",
        "                    right_hand_limit=0\n",
        "                    for j in range(i,2976):\n",
        "                        if  j not in values[r]: \n",
        "                            continue\n",
        "                        else:\n",
        "                            right_hand_limit=j\n",
        "                            break\n",
        "                    if right_hand_limit==0:\n",
        "                    \n",
        "                        s_v=count_values[index-1]*1.0/((2975-i)+2)*1.0                               \n",
        "                        for j in range(i,2976):                              \n",
        "                            s_b.append(math.ceil(s_v))\n",
        "                        s_b[i-1] = math.ceil(s_v)\n",
        "                        again=(4463-i)\n",
        "                        index-=1\n",
        "                    else:\n",
        "                    \n",
        "                        s_v=(count_values[index-1]+count_values[index])*1.0/((right_hand_limit-i)+2)*1.0             \n",
        "                        for j in range(i,right_hand_limit+1):\n",
        "                            s_b.append(math.ceil(s_v))\n",
        "                        s_b[i-1] = math.ceil(s_v)\n",
        "                        again=(right_hand_limit-i)\n",
        "                else:\n",
        "                   \n",
        "                    right_hand_limit=0\n",
        "                    for j in range(i,2976):\n",
        "                        if  j not in values[r]:\n",
        "                            continue\n",
        "                        else:\n",
        "                            right_hand_limit=j\n",
        "                            break\n",
        "                    s_v=count_values[index]*1.0/((right_hand_limit-i)+1)*1.0\n",
        "                    for j in range(i,right_hand_limit+1):\n",
        "                            s_b.append(math.ceil(s_v))\n",
        "                    again=(right_hand_limit-i)\n",
        "            index+=1\n",
        "        s_r.extend(s_b)\n",
        "    return s_r\n"
      ],
      "execution_count": null,
      "outputs": []
    },
    {
      "cell_type": "code",
      "metadata": {
        "colab": {
          "background_save": true
        },
        "id": "R6GXA6_6nmwD"
      },
      "source": [
        "mar_2020_fill = fill_zero_pickups(mar_2020_groupby['trip_distance'].values,mar_2020_unique)\n",
        "\n",
        "mar_2020_smooth = smoothing_function(mar_2020_groupby['trip_distance'].values,mar_2020_unique)"
      ],
      "execution_count": null,
      "outputs": []
    },
    {
      "cell_type": "code",
      "metadata": {
        "colab": {
          "background_save": true,
          "base_uri": "https://localhost:8080/"
        },
        "id": "NKBxJ18ZnnOr",
        "outputId": "8ad9ee6a-3a85-40e6-eda1-7ccd1888bfc5"
      },
      "source": [
        "\n",
        "print(\"number of 15 min intravels among all the clusters \",len(mar_2020_fill))"
      ],
      "execution_count": null,
      "outputs": [
        {
          "output_type": "stream",
          "text": [
            "number of 15 min intravels among all the clusters  89280\n"
          ],
          "name": "stdout"
        }
      ]
    },
    {
      "cell_type": "code",
      "metadata": {
        "colab": {
          "background_save": true
        },
        "id": "NQ06AnFhn7SM"
      },
      "source": [
        "regions_final_list = []\n",
        "\n",
        "\n",
        "for i in range(0,30):\n",
        "    regions_final_list.append(mar_2020_smooth[2976*i:2976*(i+1)])"
      ],
      "execution_count": null,
      "outputs": []
    },
    {
      "cell_type": "code",
      "metadata": {
        "colab": {
          "background_save": true
        },
        "id": "Rlwct--bPBxI"
      },
      "source": [
        "#Time Series\n",
        "import matplotlib.pyplot as plt"
      ],
      "execution_count": null,
      "outputs": []
    },
    {
      "cell_type": "code",
      "metadata": {
        "colab": {
          "background_save": true,
          "base_uri": "https://localhost:8080/",
          "height": 1000
        },
        "id": "TJrfQRxQPD51",
        "outputId": "09402fb1-aab2-40a1-c89a-a2780b201f42"
      },
      "source": [
        "first_x = list(range(0,2976))\n",
        "for i in range(30):\n",
        "    plt.plot(first_x,regions_final_list[i][:2976], color=plt.cm.gist_ncar(np.random.random()), label='2020 March')\n",
        "    plt.legend()\n",
        "    plt.show()"
      ],
      "execution_count": null,
      "outputs": [
        {
          "output_type": "display_data",
          "data": {
            "image/png": "[encoded data removed]",
            "text/plain": [
              "<Figure size 432x288 with 1 Axes>"
            ]
          },
          "metadata": {
            "tags": []
          }
        },
        {
          "output_type": "display_data",
          "data": {
            "image/png": "[encoded data removed]",
            "text/plain": [
              "<Figure size 432x288 with 1 Axes>"
            ]
          },
          "metadata": {
            "tags": []
          }
        },
        {
          "output_type": "display_data",
          "data": {
            "image/png": "[encoded data removed]",
            "text/plain": [
              "<Figure size 432x288 with 1 Axes>"
            ]
          },
          "metadata": {
            "tags": []
          }
        },
        {
          "output_type": "display_data",
          "data": {
            "image/png": "[encoded data removed]",
            "text/plain": [
              "<Figure size 432x288 with 1 Axes>"
            ]
          },
          "metadata": {
            "tags": []
          }
        },
        {
          "output_type": "display_data",
          "data": {
            "image/png": "[encoded data removed]",
            "text/plain": [
              "<Figure size 432x288 with 1 Axes>"
            ]
          },
          "metadata": {
            "tags": []
          }
        },
        {
          "output_type": "display_data",
          "data": {
            "image/png": "[encoded data removed]",
            "text/plain": [
              "<Figure size 432x288 with 1 Axes>"
            ]
          },
          "metadata": {
            "tags": []
          }
        },
        {
          "output_type": "display_data",
          "data": {
            "image/png": "[encoded data removed]",
            "text/plain": [
              "<Figure size 432x288 with 1 Axes>"
            ]
          },
          "metadata": {
            "tags": []
          }
        },
        {
          "output_type": "display_data",
          "data": {
            "image/png": "[encoded data removed]",
            "text/plain": [
              "<Figure size 432x288 with 1 Axes>"
            ]
          },
          "metadata": {
            "tags": []
          }
        },
        {
          "output_type": "display_data",
          "data": {
            "image/png": "[encoded data removed]",
            "text/plain": [
              "<Figure size 432x288 with 1 Axes>"
            ]
          },
          "metadata": {
            "tags": []
          }
        },
        {
          "output_type": "display_data",
          "data": {
            "image/png": "[encoded data removed]",
            "text/plain": [
              "<Figure size 432x288 with 1 Axes>"
            ]
          },
          "metadata": {
            "tags": []
          }
        },
        {
          "output_type": "display_data",
          "data": {
            "image/png": "[encoded data removed]",
            "text/plain": [
              "<Figure size 432x288 with 1 Axes>"
            ]
          },
          "metadata": {
            "tags": []
          }
        },
        {
          "output_type": "display_data",
          "data": {
            "image/png": "[encoded data removed]",
            "text/plain": [
              "<Figure size 432x288 with 1 Axes>"
            ]
          },
          "metadata": {
            "tags": []
          }
        },
        {
          "output_type": "display_data",
          "data": {
            "image/png": "[encoded data removed]",
            "text/plain": [
              "<Figure size 432x288 with 1 Axes>"
            ]
          },
          "metadata": {
            "tags": []
          }
        },
        {
          "output_type": "display_data",
          "data": {
            "image/png": "[encoded data removed]",
            "text/plain": [
              "<Figure size 432x288 with 1 Axes>"
            ]
          },
          "metadata": {
            "tags": []
          }
        },
        {
          "output_type": "display_data",
          "data": {
            "image/png": "[encoded data removed]",
            "text/plain": [
              "<Figure size 432x288 with 1 Axes>"
            ]
          },
          "metadata": {
            "tags": []
          }
        },
        {
          "output_type": "display_data",
          "data": {
            "image/png": "[encoded data removed]",
            "text/plain": [
              "<Figure size 432x288 with 1 Axes>"
            ]
          },
          "metadata": {
            "tags": []
          }
        },
        {
          "output_type": "display_data",
          "data": {
            "image/png": "[encoded data removed]",
            "text/plain": [
              "<Figure size 432x288 with 1 Axes>"
            ]
          },
          "metadata": {
            "tags": []
          }
        },
        {
          "output_type": "display_data",
          "data": {
            "image/png": "[encoded data removed]",
            "text/plain": [
              "<Figure size 432x288 with 1 Axes>"
            ]
          },
          "metadata": {
            "tags": []
          }
        },
        {
          "output_type": "display_data",
          "data": {
            "image/png": "[encoded data removed]",
            "text/plain": [
              "<Figure size 432x288 with 1 Axes>"
            ]
          },
          "metadata": {
            "tags": []
          }
        },
        {
          "output_type": "display_data",
          "data": {
            "image/png": "[encoded data removed]",
            "text/plain": [
              "<Figure size 432x288 with 1 Axes>"
            ]
          },
          "metadata": {
            "tags": []
          }
        },
        {
          "output_type": "display_data",
          "data": {
            "image/png": "[encoded data removed]",
            "text/plain": [
              "<Figure size 432x288 with 1 Axes>"
            ]
          },
          "metadata": {
            "tags": []
          }
        },
        {
          "output_type": "display_data",
          "data": {
            "image/png": "[encoded data removed]",
            "text/plain": [
              "<Figure size 432x288 with 1 Axes>"
            ]
          },
          "metadata": {
            "tags": []
          }
        },
        {
          "output_type": "display_data",
          "data": {
            "image/png": "[encoded data removed]",
            "text/plain": [
              "<Figure size 432x288 with 1 Axes>"
            ]
          },
          "metadata": {
            "tags": []
          }
        },
        {
          "output_type": "display_data",
          "data": {
            "image/png": "[encoded data removed]",
            "text/plain": [
              "<Figure size 432x288 with 1 Axes>"
            ]
          },
          "metadata": {
            "tags": []
          }
        },
        {
          "output_type": "display_data",
          "data": {
            "image/png": "[encoded data removed]",
            "text/plain": [
              "<Figure size 432x288 with 1 Axes>"
            ]
          },
          "metadata": {
            "tags": []
          }
        },
        {
          "output_type": "display_data",
          "data": {
            "image/png": "[encoded data removed]",
            "text/plain": [
              "<Figure size 432x288 with 1 Axes>"
            ]
          },
          "metadata": {
            "tags": []
          }
        },
        {
          "output_type": "display_data",
          "data": {
            "image/png": "[encoded data removed]",
            "text/plain": [
              "<Figure size 432x288 with 1 Axes>"
            ]
          },
          "metadata": {
            "tags": []
          }
        },
        {
          "output_type": "display_data",
          "data": {
            "image/png": "[encoded data removed]",
            "text/plain": [
              "<Figure size 432x288 with 1 Axes>"
            ]
          },
          "metadata": {
            "tags": []
          }
        },
        {
          "output_type": "display_data",
          "data": {
            "image/png": "[encoded data removed]",
            "text/plain": [
              "<Figure size 432x288 with 1 Axes>"
            ]
          },
          "metadata": {
            "tags": []
          }
        },
        {
          "output_type": "display_data",
          "data": {
            "image/png": "[encoded data removed]",
            "text/plain": [
              "<Figure size 432x288 with 1 Axes>"
            ]
          },
          "metadata": {
            "tags": []
          }
        }
      ]
    },
    {
      "cell_type": "code",
      "metadata": {
        "colab": {
          "background_save": true
        },
        "id": "kg-CI9yZn8K9"
      },
      "source": [
        "alpha_parameter=0.3\n",
        "Temporary_values=[]\n",
        "ewa_pred_list = []\n",
        "for i in range(0,30):\n",
        "    for j in range(0,2976):\n",
        "        if i==0:\n",
        "            pred= regions_final_list[i][0]\n",
        "            Temporary_values.append(0)\n",
        "            continue\n",
        "        Temporary_values.append(pred)\n",
        "        pred =int((alpha_parameter*pred) + (1-alpha_parameter)*(regions_final_list[i][j]))\n",
        "    ewa_pred_list.append(Temporary_values[5:])\n",
        "    Temporary_values=[]"
      ],
      "execution_count": null,
      "outputs": []
    },
    {
      "cell_type": "code",
      "metadata": {
        "colab": {
          "background_save": true,
          "base_uri": "https://localhost:8080/"
        },
        "id": "QeoHeoVpn8tw",
        "outputId": "29b87863-3a30-4103-fac4-08705f82ba93"
      },
      "source": [
        "len(ewa_pred_list[0])"
      ],
      "execution_count": null,
      "outputs": [
        {
          "output_type": "execute_result",
          "data": {
            "text/plain": [
              "2971"
            ]
          },
          "metadata": {
            "tags": []
          },
          "execution_count": 0
        }
      ]
    },
    {
      "cell_type": "code",
      "metadata": {
        "colab": {
          "background_save": true
        },
        "id": "EJs82-pBZ6-l"
      },
      "source": [
        "Exponential_wgt_avg_pred_train = [i[:2079] for i in ewa_pred_list]\n",
        "Exponential_wgt_avg_pred_test = [i[2079:] for i in ewa_pred_list]\n",
        "\n",
        "test_EWA_standard = sum(Exponential_wgt_avg_pred_test, [])"
      ],
      "execution_count": null,
      "outputs": []
    },
    {
      "cell_type": "code",
      "metadata": {
        "colab": {
          "background_save": true,
          "base_uri": "https://localhost:8080/"
        },
        "id": "tZR0GR2khWtN",
        "outputId": "d84c923a-9b59-4241-9795-1ca0d1575ed2"
      },
      "source": [
        "len(test_EWA_standard)"
      ],
      "execution_count": null,
      "outputs": [
        {
          "output_type": "execute_result",
          "data": {
            "text/plain": [
              "26760"
            ]
          },
          "metadata": {
            "tags": []
          },
          "execution_count": 0
        }
      ]
    },
    {
      "cell_type": "code",
      "metadata": {
        "colab": {
          "background_save": true
        },
        "id": "lTDCTD7in9qb"
      },
      "source": [
        "#Data modeling\n",
        "Model_features = []\n",
        "target = []\n",
        "Model_features = [0]*5\n",
        "#The windows taken for Time series analysis is 5, on the basis of the window we are predicting the 6th unit time instance\n",
        "for i in range(0, 30):\n",
        "  Model_features = np.vstack((Model_features, [regions_final_list[i][region_index:region_index+5] for region_index in range(0,len(regions_final_list[i])-5)]))\n",
        "  target.append(regions_final_list[i][5:])\n",
        "\n",
        "Model_features = Model_features[1:]"
      ],
      "execution_count": null,
      "outputs": []
    },
    {
      "cell_type": "code",
      "metadata": {
        "colab": {
          "background_save": true,
          "base_uri": "https://localhost:8080/"
        },
        "id": "A96JS2Bsn-Qz",
        "outputId": "8582c6a6-71ea-4b57-fceb-92cb37c4a5a4"
      },
      "source": [
        "Model_features.shape"
      ],
      "execution_count": null,
      "outputs": [
        {
          "output_type": "execute_result",
          "data": {
            "text/plain": [
              "(89130, 5)"
            ]
          },
          "metadata": {
            "tags": []
          },
          "execution_count": 0
        }
      ]
    },
    {
      "cell_type": "code",
      "metadata": {
        "colab": {
          "background_save": true,
          "base_uri": "https://localhost:8080/"
        },
        "id": "vC4Th_sMYCA0",
        "outputId": "9732b880-5f38-4a60-809d-ebe988443ae0"
      },
      "source": [
        "#Splitting the dataset size in 70:30 Ratio\n",
        "print(\"size of train data :\", int(2971*0.7))\n",
        "print(\"size of test data :\", int(2971*0.3))"
      ],
      "execution_count": null,
      "outputs": [
        {
          "output_type": "stream",
          "text": [
            "size of train data : 2079\n",
            "size of test data : 891\n"
          ],
          "name": "stdout"
        }
      ]
    },
    {
      "cell_type": "code",
      "metadata": {
        "colab": {
          "background_save": true
        },
        "id": "oeAi86U5XRg4"
      },
      "source": [
        "#Train and test features\n",
        "\n",
        "train_features_list =  [Model_features[i*2971:(2971*i+2079)] for i in range(0,40)]  \n",
        "\n",
        "test_features_list = [Model_features[(2971*(i))+2079:2971*(i+1)] for i in range(0,40)]"
      ],
      "execution_count": null,
      "outputs": []
    },
    {
      "cell_type": "code",
      "metadata": {
        "colab": {
          "background_save": true
        },
        "id": "1fSVnoM9dRqS"
      },
      "source": [
        "#Train and test labels\n",
        "train_target = [i[:2079] for i in target]\n",
        "\n",
        "test_target = [i[2079:] for i in target]\n"
      ],
      "execution_count": null,
      "outputs": []
    },
    {
      "cell_type": "code",
      "metadata": {
        "colab": {
          "background_save": true,
          "base_uri": "https://localhost:8080/"
        },
        "id": "zH_rix4rkm4Y",
        "outputId": "f3ed2799-6d74-4619-9b89-7a8df8bda428"
      },
      "source": [
        "len(train_target[1])"
      ],
      "execution_count": null,
      "outputs": [
        {
          "output_type": "execute_result",
          "data": {
            "text/plain": [
              "2079"
            ]
          },
          "metadata": {
            "tags": []
          },
          "execution_count": 0
        }
      ]
    },
    {
      "cell_type": "code",
      "metadata": {
        "colab": {
          "background_save": true
        },
        "id": "-FnESdvYd60m"
      },
      "source": [
        "train_target_standard = sum(train_target, [])\n",
        "test_target_standard = sum(test_target, [])"
      ],
      "execution_count": null,
      "outputs": []
    },
    {
      "cell_type": "code",
      "metadata": {
        "colab": {
          "background_save": true,
          "base_uri": "https://localhost:8080/"
        },
        "id": "X19uAcYfkcnF",
        "outputId": "f23ca101-3fd9-4441-a76c-4259e32690c1"
      },
      "source": [
        "len(train_target_standard)"
      ],
      "execution_count": null,
      "outputs": [
        {
          "output_type": "execute_result",
          "data": {
            "text/plain": [
              "62370"
            ]
          },
          "metadata": {
            "tags": []
          },
          "execution_count": 0
        }
      ]
    },
    {
      "cell_type": "code",
      "metadata": {
        "colab": {
          "background_save": true,
          "base_uri": "https://localhost:8080/"
        },
        "id": "bGQ8h4lEkhfT",
        "outputId": "c88d1cad-fd1d-4fef-8794-c44327985f0c"
      },
      "source": [
        "len(test_target_standard)"
      ],
      "execution_count": null,
      "outputs": [
        {
          "output_type": "execute_result",
          "data": {
            "text/plain": [
              "26760"
            ]
          },
          "metadata": {
            "tags": []
          },
          "execution_count": 0
        }
      ]
    },
    {
      "cell_type": "code",
      "metadata": {
        "colab": {
          "background_save": true
        },
        "id": "q9etoM63_WgX"
      },
      "source": [
        "train_new_features = []\n",
        "for i in range(0,40):\n",
        "    train_new_features.extend(train_features_list[i])\n",
        "test_new_features = []\n",
        "for i in range(0,40):\n",
        "    test_new_features.extend(test_features_list[i])"
      ],
      "execution_count": null,
      "outputs": []
    },
    {
      "cell_type": "code",
      "metadata": {
        "colab": {
          "background_save": true
        },
        "id": "CoBqR-fRniqx"
      },
      "source": [
        "columns = ['series 5','series 4','series 3','series 2','series 1']\n",
        "df_train = pd.DataFrame(data=train_new_features, columns=columns) \n",
        "\n",
        "df_test = pd.DataFrame(data=test_new_features, columns=columns)"
      ],
      "execution_count": null,
      "outputs": []
    },
    {
      "cell_type": "code",
      "metadata": {
        "colab": {
          "background_save": true,
          "base_uri": "https://localhost:8080/",
          "height": 419
        },
        "id": "S5u7eXJocXnB",
        "outputId": "486bc3a2-2f34-4366-f8a8-7525d1f3ce58"
      },
      "source": [
        "df_train"
      ],
      "execution_count": null,
      "outputs": [
        {
          "output_type": "execute_result",
          "data": {
            "text/html": [
              "<div>\n",
              "<style scoped>\n",
              "    .dataframe tbody tr th:only-of-type {\n",
              "        vertical-align: middle;\n",
              "    }\n",
              "\n",
              "    .dataframe tbody tr th {\n",
              "        vertical-align: top;\n",
              "    }\n",
              "\n",
              "    .dataframe thead th {\n",
              "        text-align: right;\n",
              "    }\n",
              "</style>\n",
              "<table border=\"1\" class=\"dataframe\">\n",
              "  <thead>\n",
              "    <tr style=\"text-align: right;\">\n",
              "      <th></th>\n",
              "      <th>series 5</th>\n",
              "      <th>series 4</th>\n",
              "      <th>series 3</th>\n",
              "      <th>series 2</th>\n",
              "      <th>series 1</th>\n",
              "    </tr>\n",
              "  </thead>\n",
              "  <tbody>\n",
              "    <tr>\n",
              "      <th>0</th>\n",
              "      <td>60</td>\n",
              "      <td>64</td>\n",
              "      <td>65</td>\n",
              "      <td>56</td>\n",
              "      <td>56</td>\n",
              "    </tr>\n",
              "    <tr>\n",
              "      <th>1</th>\n",
              "      <td>64</td>\n",
              "      <td>65</td>\n",
              "      <td>56</td>\n",
              "      <td>56</td>\n",
              "      <td>44</td>\n",
              "    </tr>\n",
              "    <tr>\n",
              "      <th>2</th>\n",
              "      <td>65</td>\n",
              "      <td>56</td>\n",
              "      <td>56</td>\n",
              "      <td>44</td>\n",
              "      <td>45</td>\n",
              "    </tr>\n",
              "    <tr>\n",
              "      <th>3</th>\n",
              "      <td>56</td>\n",
              "      <td>56</td>\n",
              "      <td>44</td>\n",
              "      <td>45</td>\n",
              "      <td>35</td>\n",
              "    </tr>\n",
              "    <tr>\n",
              "      <th>4</th>\n",
              "      <td>56</td>\n",
              "      <td>44</td>\n",
              "      <td>45</td>\n",
              "      <td>35</td>\n",
              "      <td>38</td>\n",
              "    </tr>\n",
              "    <tr>\n",
              "      <th>...</th>\n",
              "      <td>...</td>\n",
              "      <td>...</td>\n",
              "      <td>...</td>\n",
              "      <td>...</td>\n",
              "      <td>...</td>\n",
              "    </tr>\n",
              "    <tr>\n",
              "      <th>62365</th>\n",
              "      <td>1</td>\n",
              "      <td>6</td>\n",
              "      <td>2</td>\n",
              "      <td>2</td>\n",
              "      <td>2</td>\n",
              "    </tr>\n",
              "    <tr>\n",
              "      <th>62366</th>\n",
              "      <td>6</td>\n",
              "      <td>2</td>\n",
              "      <td>2</td>\n",
              "      <td>2</td>\n",
              "      <td>2</td>\n",
              "    </tr>\n",
              "    <tr>\n",
              "      <th>62367</th>\n",
              "      <td>2</td>\n",
              "      <td>2</td>\n",
              "      <td>2</td>\n",
              "      <td>2</td>\n",
              "      <td>2</td>\n",
              "    </tr>\n",
              "    <tr>\n",
              "      <th>62368</th>\n",
              "      <td>2</td>\n",
              "      <td>2</td>\n",
              "      <td>2</td>\n",
              "      <td>2</td>\n",
              "      <td>1</td>\n",
              "    </tr>\n",
              "    <tr>\n",
              "      <th>62369</th>\n",
              "      <td>2</td>\n",
              "      <td>2</td>\n",
              "      <td>2</td>\n",
              "      <td>1</td>\n",
              "      <td>5</td>\n",
              "    </tr>\n",
              "  </tbody>\n",
              "</table>\n",
              "<p>62370 rows × 5 columns</p>\n",
              "</div>"
            ],
            "text/plain": [
              "       series 5  series 4  series 3  series 2  series 1\n",
              "0            60        64        65        56        56\n",
              "1            64        65        56        56        44\n",
              "2            65        56        56        44        45\n",
              "3            56        56        44        45        35\n",
              "4            56        44        45        35        38\n",
              "...         ...       ...       ...       ...       ...\n",
              "62365         1         6         2         2         2\n",
              "62366         6         2         2         2         2\n",
              "62367         2         2         2         2         2\n",
              "62368         2         2         2         2         1\n",
              "62369         2         2         2         1         5\n",
              "\n",
              "[62370 rows x 5 columns]"
            ]
          },
          "metadata": {
            "tags": []
          },
          "execution_count": 0
        }
      ]
    },
    {
      "cell_type": "code",
      "metadata": {
        "colab": {
          "background_save": true
        },
        "id": "TI0wRdJzn70G"
      },
      "source": [
        "#Exponential Weighted Average"
      ],
      "execution_count": null,
      "outputs": []
    },
    {
      "cell_type": "code",
      "metadata": {
        "id": "2QoJugF3vjqJ"
      },
      "source": [
        "from sklearn.metrics import mean_squared_error\n",
        "from sklearn.metrics import mean_absolute_error"
      ],
      "execution_count": 1,
      "outputs": []
    },
    {
      "cell_type": "code",
      "metadata": {
        "colab": {
          "background_save": true
        },
        "id": "Iu_YrgTBEsgj"
      },
      "source": [
        "MAE_list = []\n",
        "MSE_list = []"
      ],
      "execution_count": null,
      "outputs": []
    },
    {
      "cell_type": "code",
      "metadata": {
        "colab": {
          "background_save": true
        },
        "id": "RQDigrpynrcM",
        "outputId": "e6fabe99-a118-43fb-8583-9458ad5fb109"
      },
      "source": [
        "MSE_list.append(mean_squared_error(test_target_standard, test_EWA_standard))\n",
        "MAE_list.append(mean_absolute_error(test_target_standard, test_EWA_standard))"
      ],
      "execution_count": null,
      "outputs": [
        {
          "output_type": "error",
          "ename": "NameError",
          "evalue": "ignored",
          "traceback": [
            "\u001b[0;31m---------------------------------------------------------------------------\u001b[0m",
            "\u001b[0;31mNameError\u001b[0m                                 Traceback (most recent call last)",
            "\u001b[0;32m<ipython-input-110-ee80d8aea747>\u001b[0m in \u001b[0;36m<module>\u001b[0;34m()\u001b[0m\n\u001b[0;32m----> 1\u001b[0;31m \u001b[0mMSE_list\u001b[0m\u001b[0;34m.\u001b[0m\u001b[0mappend\u001b[0m\u001b[0;34m(\u001b[0m\u001b[0mmean_squared_error\u001b[0m\u001b[0;34m(\u001b[0m\u001b[0mtest_target_standard\u001b[0m\u001b[0;34m,\u001b[0m \u001b[0mtest_EWA_standard\u001b[0m\u001b[0;34m)\u001b[0m\u001b[0;34m)\u001b[0m\u001b[0;34m\u001b[0m\u001b[0;34m\u001b[0m\u001b[0m\n\u001b[0m\u001b[1;32m      2\u001b[0m \u001b[0mMAE_list\u001b[0m\u001b[0;34m.\u001b[0m\u001b[0mappend\u001b[0m\u001b[0;34m(\u001b[0m\u001b[0mmean_absolute_error\u001b[0m\u001b[0;34m(\u001b[0m\u001b[0mtest_target_standard\u001b[0m\u001b[0;34m,\u001b[0m \u001b[0mtest_EWA_standard\u001b[0m\u001b[0;34m)\u001b[0m\u001b[0;34m)\u001b[0m\u001b[0;34m\u001b[0m\u001b[0;34m\u001b[0m\u001b[0m\n",
            "\u001b[0;31mNameError\u001b[0m: name 'mean_squared_error' is not defined"
          ]
        }
      ]
    },
    {
      "cell_type": "code",
      "metadata": {
        "colab": {
          "background_save": true
        },
        "id": "TvpVUHrMc8HM"
      },
      "source": [
        "#Linear Regression\n",
        "from sklearn.linear_model import LinearRegression"
      ],
      "execution_count": null,
      "outputs": []
    },
    {
      "cell_type": "code",
      "metadata": {
        "colab": {
          "background_save": true
        },
        "id": "0Vh9BIjodBo0"
      },
      "source": [
        "linear=LinearRegression()\n",
        "linear.fit(df_train, train_target_standard)\n",
        "y_pred = linear.predict(df_test)"
      ],
      "execution_count": null,
      "outputs": []
    },
    {
      "cell_type": "code",
      "metadata": {
        "colab": {
          "background_save": true
        },
        "id": "mtGDTe9rl9Ay"
      },
      "source": [
        "len(y_pred)"
      ],
      "execution_count": null,
      "outputs": []
    },
    {
      "cell_type": "code",
      "metadata": {
        "colab": {
          "background_save": true
        },
        "id": "piepT6Uuli4G"
      },
      "source": [
        "\n",
        "MSE_list.append(mean_squared_error(test_target_standard, y_pred))\n",
        "MAE_list.append(mean_absolute_error(test_target_standard, y_pred))"
      ],
      "execution_count": null,
      "outputs": []
    },
    {
      "cell_type": "code",
      "metadata": {
        "colab": {
          "background_save": true
        },
        "id": "RS8e17Aj6Ujy"
      },
      "source": [
        "#RandomForest Regressor"
      ],
      "execution_count": null,
      "outputs": []
    },
    {
      "cell_type": "code",
      "metadata": {
        "colab": {
          "background_save": true
        },
        "id": "3e15LL0ZFXVS"
      },
      "source": [
        "from sklearn.ensemble import RandomForestRegressor"
      ],
      "execution_count": null,
      "outputs": []
    },
    {
      "cell_type": "code",
      "metadata": {
        "colab": {
          "background_save": true
        },
        "id": "45ygcxEnFcAM"
      },
      "source": [
        "random_forest_reg = RandomForestRegressor()\n",
        "random_forest_reg.fit(df_train, train_target_standard)\n",
        "y_pred_rf = random_forest_reg.predict(df_test)"
      ],
      "execution_count": null,
      "outputs": []
    },
    {
      "cell_type": "code",
      "metadata": {
        "colab": {
          "background_save": true
        },
        "id": "Fz6xVKkTF5kL"
      },
      "source": [
        "MSE_list.append(mean_squared_error(test_target_standard, y_pred_rf))\n",
        "MAE_list.append(mean_absolute_error(test_target_standard, y_pred_rf))"
      ],
      "execution_count": null,
      "outputs": []
    },
    {
      "cell_type": "code",
      "metadata": {
        "colab": {
          "background_save": true
        },
        "id": "qLPhUcSb6eS4"
      },
      "source": [
        "#XGBoost Regressor"
      ],
      "execution_count": null,
      "outputs": []
    },
    {
      "cell_type": "code",
      "metadata": {
        "colab": {
          "background_save": true
        },
        "id": "2fXp9baJGYgE"
      },
      "source": [
        "from xgboost.sklearn import XGBRegressor"
      ],
      "execution_count": null,
      "outputs": []
    },
    {
      "cell_type": "code",
      "metadata": {
        "colab": {
          "background_save": true
        },
        "id": "D58iwXGjcfX3"
      },
      "source": [
        "xgbreg = XGBRegressor()\n",
        "\n",
        "xgbreg.fit(df_train, train_target_standard)\n",
        "y_pred_xgb = xgbreg.predict(df_test)"
      ],
      "execution_count": null,
      "outputs": []
    },
    {
      "cell_type": "code",
      "metadata": {
        "colab": {
          "background_save": true
        },
        "id": "xXJL14IKbtE_"
      },
      "source": [
        "MSE_list.append(mean_squared_error(test_target_standard, y_pred_xgb))\n",
        "MAE_list.append(mean_absolute_error(test_target_standard, y_pred_xgb))"
      ],
      "execution_count": null,
      "outputs": []
    },
    {
      "cell_type": "code",
      "metadata": {
        "colab": {
          "background_save": true
        },
        "id": "9kjOpS9YGLFw"
      },
      "source": [
        "#Decision tree Regressor"
      ],
      "execution_count": null,
      "outputs": []
    },
    {
      "cell_type": "code",
      "metadata": {
        "colab": {
          "background_save": true
        },
        "id": "r3CuJd3rc9h1"
      },
      "source": [
        "from sklearn.tree import DecisionTreeRegressor"
      ],
      "execution_count": null,
      "outputs": []
    },
    {
      "cell_type": "code",
      "metadata": {
        "colab": {
          "background_save": true
        },
        "id": "qamGhk7gdK19"
      },
      "source": [
        "DTreg = DecisionTreeRegressor(random_state=0)\n",
        "\n",
        "DTreg.fit(df_train, train_target_standard)\n",
        "y_pred_DT = DTreg.predict(df_test)"
      ],
      "execution_count": null,
      "outputs": []
    },
    {
      "cell_type": "code",
      "metadata": {
        "colab": {
          "background_save": true
        },
        "id": "ZM4Air_sddpp"
      },
      "source": [
        "MSE_list.append(mean_squared_error(test_target_standard, y_pred_DT))\n",
        "MAE_list.append(mean_absolute_error(test_target_standard, y_pred_DT))"
      ],
      "execution_count": null,
      "outputs": []
    },
    {
      "cell_type": "code",
      "metadata": {
        "colab": {
          "background_save": true
        },
        "id": "cHgLbsACdqzv"
      },
      "source": [
        "Models = ['Base Line Model','Linear Regression', 'Random Forest Regressor', 'XGBRegressor', 'Decision Tree Regressor']"
      ],
      "execution_count": null,
      "outputs": []
    },
    {
      "cell_type": "code",
      "metadata": {
        "colab": {
          "background_save": true
        },
        "id": "zHlx_iLbdiiP"
      },
      "source": [
        "PerformanceTable = pd.DataFrame(list(zip(Models, MSE_list, MAE_list)), columns=['Models', 'MSE', 'MAE'])"
      ],
      "execution_count": null,
      "outputs": []
    },
    {
      "cell_type": "code",
      "metadata": {
        "colab": {
          "background_save": true
        },
        "id": "aFD-8_YBefq1"
      },
      "source": [
        "PerformanceTable"
      ],
      "execution_count": null,
      "outputs": []
    }
  ]
}